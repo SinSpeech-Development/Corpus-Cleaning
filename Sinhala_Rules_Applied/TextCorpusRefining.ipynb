{
  "nbformat": 4,
  "nbformat_minor": 0,
  "metadata": {
    "colab": {
      "name": "TextCorpusRefining.ipynb",
      "provenance": [],
      "collapsed_sections": [
        "nxICpS9JeV9_",
        "Ukh85rNCfAIU",
        "GKuQm9w1iMNk",
        "WYyt3UZH_fgC",
        "60d51x2XP7XM",
        "FSu38KJNvTR7"
      ]
    },
    "kernelspec": {
      "name": "python3",
      "display_name": "Python 3"
    },
    "language_info": {
      "name": "python"
    }
  },
  "cells": [
    {
      "cell_type": "markdown",
      "metadata": {
        "id": "nxICpS9JeV9_"
      },
      "source": [
        "# Importing required libraries"
      ]
    },
    {
      "cell_type": "code",
      "metadata": {
        "id": "Z1TlpcCxECYN"
      },
      "source": [
        "import numpy as np\n",
        "import pandas as pd\n",
        "import os\n",
        "import re"
      ],
      "execution_count": 97,
      "outputs": []
    },
    {
      "cell_type": "code",
      "metadata": {
        "id": "YeHWsR-PtEYN"
      },
      "source": [
        "pd.options.mode.chained_assignment = None  # default='warn'"
      ],
      "execution_count": 98,
      "outputs": []
    },
    {
      "cell_type": "markdown",
      "metadata": {
        "id": "vENF8wEUedZ_"
      },
      "source": [
        "# Read source file"
      ]
    },
    {
      "cell_type": "code",
      "metadata": {
        "id": "Iujvhmwz4HwB"
      },
      "source": [
        "'''\n",
        "Reads a source csv file and keeps the content in a DataFrame object\n",
        "'''\n",
        "def read_file(sourcePath : str):\n",
        "  content = pd.read_csv(sourcePath, encoding='utf-8')\n",
        "  print(f\"Read {sourcePath} and created a DataFrame\")\n",
        "  return content"
      ],
      "execution_count": 99,
      "outputs": []
    },
    {
      "cell_type": "code",
      "metadata": {
        "id": "Qjxf6AJweeu7"
      },
      "source": [
        "# all_uttrs = read_file('./21_sorted.csv')"
      ],
      "execution_count": 100,
      "outputs": []
    },
    {
      "cell_type": "code",
      "metadata": {
        "id": "uGwDwEAWfzrd"
      },
      "source": [
        "# all_uttrs.head()"
      ],
      "execution_count": 101,
      "outputs": []
    },
    {
      "cell_type": "code",
      "metadata": {
        "id": "UlE6-984fuKX"
      },
      "source": [
        "# all_uttrs.describe()"
      ],
      "execution_count": 102,
      "outputs": []
    },
    {
      "cell_type": "markdown",
      "metadata": {
        "id": "Ukh85rNCfAIU"
      },
      "source": [
        "# Unique Utterances"
      ]
    },
    {
      "cell_type": "code",
      "metadata": {
        "id": "KB-ayXzz53Bn"
      },
      "source": [
        "'''\n",
        "Finds unique utterances in a DataFrame of utterances\n",
        "'''\n",
        "def find_unique_utterances(df : pd.DataFrame):\n",
        "  unique = df.drop_duplicates(subset=['utterance'])\n",
        "  print(f\"Found {unique.shape[0]} unique utterances\")\n",
        "  return unique"
      ],
      "execution_count": 103,
      "outputs": []
    },
    {
      "cell_type": "code",
      "metadata": {
        "id": "bV_BiuQLfCOh"
      },
      "source": [
        "# uniqueAll_0 = find_unique_utterances(all_uttrs)"
      ],
      "execution_count": 104,
      "outputs": []
    },
    {
      "cell_type": "code",
      "metadata": {
        "id": "ZjuPWKp4gDBQ"
      },
      "source": [
        "# uniqueAll_0.head()"
      ],
      "execution_count": 105,
      "outputs": []
    },
    {
      "cell_type": "code",
      "metadata": {
        "id": "aGfHd2pff93J"
      },
      "source": [
        "# uniqueAll_0.describe()"
      ],
      "execution_count": 106,
      "outputs": []
    },
    {
      "cell_type": "markdown",
      "metadata": {
        "id": "GKuQm9w1iMNk"
      },
      "source": [
        "# Unique single words"
      ]
    },
    {
      "cell_type": "code",
      "metadata": {
        "id": "uHjHUNGX6l_u"
      },
      "source": [
        "'''\n",
        "Finds unique single words in a given DataFrame of utterances\n",
        "'''\n",
        "def find_unique_single_words(df : pd.DataFrame, delimiter = \" \"):\n",
        "  uttrCol = df.utterance\n",
        "  # First, split each utterance to a list of words\n",
        "  splitUttrs = uttrCol.str.strip().str.split(delimiter)\n",
        "  # Include all words in a list\n",
        "  allWords = []\n",
        "  for row in splitUttrs.index:\n",
        "    for word in splitUttrs[row]:\n",
        "      if word.strip() != '':\n",
        "        allWords.append(word.strip())\n",
        "  # Get only the unique words by 'set' operation\n",
        "  uniqueSingle = pd.DataFrame(list(set(allWords)))\n",
        "  uniqueSingle.rename(columns={0:'original'}, inplace=True)\n",
        "  # Sort the words in alphabetical order\n",
        "  uniqueSingle.sort_values(by=['original'], inplace=True)\n",
        "  uniqueSingle.reset_index(inplace=True, drop=True)\n",
        "  print(f\"Found {uniqueSingle.shape[0]} unique words\")\n",
        "\n",
        "  return uniqueSingle"
      ],
      "execution_count": 107,
      "outputs": []
    },
    {
      "cell_type": "code",
      "metadata": {
        "id": "eDk17dq2n3A1"
      },
      "source": [
        "# uniqueSingle_0 = find_unique_single_words(uniqueAll_0)\n",
        "# uniqueSingle_0.head()"
      ],
      "execution_count": 108,
      "outputs": []
    },
    {
      "cell_type": "markdown",
      "metadata": {
        "id": "WYyt3UZH_fgC"
      },
      "source": [
        "# Unique Pairs of words"
      ]
    },
    {
      "cell_type": "code",
      "metadata": {
        "id": "AYtwWbY7_s5R"
      },
      "source": [
        "'''\n",
        "Finds unique pairs of words in a given DataFrame of utterances\n",
        "'''\n",
        "def find_unique_pairs(df : pd.DataFrame, delimiter = \" \"):\n",
        "  uttrCol = df.utterance\n",
        "  # First, split each utterance to a list of words\n",
        "  splitUttrs = uttrCol.str.strip().str.split(delimiter)\n",
        "  # Include all pairs in a list\n",
        "  allPairs = []\n",
        "  w1, w2 = '', ''\n",
        "  for row in splitUttrs.index:\n",
        "    for i in range(len(splitUttrs[row])-1):\n",
        "      w1, w2 = splitUttrs[row][i].strip(), splitUttrs[row][i+1].strip()\n",
        "      if (w1 != '') and (w2 != ''):\n",
        "        allPairs.append({'original':f\"{w1} {w2}\", 'first':w1, 'second':w2})\n",
        "\n",
        "  non_unique_pairs = pd.DataFrame(allPairs)\n",
        "  \n",
        "  pd.options.mode.chained_assignment = None\n",
        "  # Drop duplicate pairs\n",
        "  uniquePairs = non_unique_pairs.drop_duplicates(subset=['original'])\n",
        "  # Sort pairs by alphabetical order\n",
        "  uniquePairs.sort_values(by=['original'], inplace=True)\n",
        "  uniquePairs.reset_index(inplace=True, drop=True)\n",
        "  pd.options.mode.chained_assignment = 'warn'\n",
        "\n",
        "  print(f\"Found {uniquePairs.shape[0]} unique pairs of words\")\n",
        "  return uniquePairs"
      ],
      "execution_count": 109,
      "outputs": []
    },
    {
      "cell_type": "code",
      "metadata": {
        "id": "9LbLgKD0Wi4p"
      },
      "source": [
        "# uniquePairs_0 = find_unique_pairs(uniqueAll_0)\n",
        "\n",
        "# uniquePairs_0.head()"
      ],
      "execution_count": 110,
      "outputs": []
    },
    {
      "cell_type": "code",
      "metadata": {
        "id": "Gu0Iqm3HWwxK"
      },
      "source": [
        "# uniquePairs_0.describe()"
      ],
      "execution_count": 111,
      "outputs": []
    },
    {
      "cell_type": "markdown",
      "metadata": {
        "id": "ymdY9vj-S8_x"
      },
      "source": [
        "# Correction-related functions"
      ]
    },
    {
      "cell_type": "code",
      "metadata": {
        "id": "p5tEZd0RTBhu"
      },
      "source": [
        "'''\n",
        "Extracts single words filtered by the given criterion\n",
        "'''\n",
        "def extract_single(uniqueSingle : pd.DataFrame, substring : str, \n",
        "                   starts_with = False):\n",
        "  pd.options.mode.chained_assignment = None\n",
        "  if not starts_with: df = uniqueSingle[uniqueSingle.original.str.endswith(substring)]\n",
        "  else: df = uniqueSingle[uniqueSingle.original.str.startswith(substring)]\n",
        "  # Duplicate the 'original' column as 'correction' which should be replaced by the corrected words\n",
        "  df['correction'] = df['original']\n",
        "  pd.options.mode.chained_assignment = 'warn'\n",
        "\n",
        "  print(f\"Found {df.shape[0]} words with {substring}\")\n",
        "  return df\n",
        "\n",
        "'''\n",
        "Extracts word pairs filtered by the given criterion\n",
        "'''\n",
        "def extract_pairs(uniquePairs : pd.DataFrame, first = '', second = ''):\n",
        "  pd.options.mode.chained_assignment = None\n",
        "  df = uniquePairs.copy()\n",
        "  if first != '': df = df[df['first']==first]\n",
        "  if second != '': df = df[df['second']==second]\n",
        "  df['correction'] = df['original']\n",
        "  pd.options.mode.chained_assignment = 'warn'\n",
        "\n",
        "  print(f\"Found {df.shape[0]} pairs with first={first} and second={second}\")\n",
        "  return df\n",
        "\n",
        "'''\n",
        "Writes a dataframe to a csv\n",
        "'''\n",
        "def write_to_csv(filename : str, df : pd.DataFrame, directory = '.'):\n",
        "  df.to_csv(f\"{directory}/{filename}.csv\", encoding='utf-8', index=False)\n",
        "\n",
        "'''\n",
        "Utility function to apply padding: \n",
        "Replace spaces between words with X\n",
        "'''\n",
        "def apply_padding(original : pd.DataFrame, columns = []):\n",
        "  oriCopy = original.copy()\n",
        "  if not columns: columns = list(oriCopy.columns)\n",
        "  for col in columns:\n",
        "    oriCopy[col] = \"X\" + oriCopy[col] + \"X\"\n",
        "    oriCopy[col] = oriCopy[col].str.replace(\" \", \"X\")\n",
        "  return oriCopy\n",
        "\n",
        "'''\n",
        "Reverse of the above function:\n",
        "Replace X with spaces, and strip from both ends\n",
        "'''\n",
        "def remove_padding(original : pd.DataFrame, columns = []):\n",
        "  oriCopy = original.copy()\n",
        "  if not columns: columns = list(oriCopy.columns)\n",
        "  for col in columns:\n",
        "    oriCopy[col] = oriCopy[col].str.replace(\"X\", \" \")\n",
        "    oriCopy[col] = oriCopy[col].str.strip()\n",
        "  return oriCopy\n",
        "\n",
        "'''\n",
        "Applies corrections and returns a new utterance dataframe\n",
        "'''\n",
        "def apply_corrections(original : pd.DataFrame, corrections : pd.DataFrame):\n",
        "  allCopy = original.copy()\n",
        "\n",
        "  allCopy = apply_padding(allCopy, ['utterance'])\n",
        "  corrections = apply_padding(corrections, ['original', 'correction'])\n",
        "\n",
        "  for index, row in corrections.iterrows():\n",
        "    allCopy['utterance'] = allCopy['utterance'].str.replace(row['original'], row['correction'], regex=True)\n",
        "  print(f\"Applied {corrections.shape[0]} corrections in Stage {STAGE}.\")\n",
        "\n",
        "  allCopy = remove_padding(allCopy, ['utterance'])\n",
        "  return allCopy\n",
        "\n",
        "'''\n",
        "Method to split a single word\n",
        "'''\n",
        "def split_single(original : str, substring : str, toLeft = False):\n",
        "  w1, w2 = '', ''\n",
        "  if len(original) > len(substring):\n",
        "    if toLeft:\n",
        "      w1 = original[:len(substring)]\n",
        "      w2 = original[len(substring):]\n",
        "    else:\n",
        "      w1 = original[:-len(substring)]\n",
        "      w2 = original[-len(substring):]\n",
        "    return f\"{w1} {w2}\"\n",
        "  return original"
      ],
      "execution_count": 112,
      "outputs": []
    },
    {
      "cell_type": "markdown",
      "metadata": {
        "id": "IYmFDc07ZUqB"
      },
      "source": [
        "# Correction Workflow Definitions"
      ]
    },
    {
      "cell_type": "code",
      "metadata": {
        "id": "-4KtFRt_ZZ62"
      },
      "source": [
        "STAGE = 0\n",
        "allDirectory = 'All_Utterances'\n",
        "allFilePrefix = 'all_'\n",
        "toCorrectDirectory = 'To_Correct'\n",
        "toCorrectFilePrefix = 'toCorrect_'\n",
        "correctedDirectory = 'Corrected'\n",
        "correctedFilePrefix = 'corrected_'\n",
        "modificationPrefix = 'common_modifications_'\n",
        "toDeleteDirectory = 'To_Delete'\n",
        "toDeleteFilePrefix = 'toDelete_'\n",
        "doubtCorrectedDirectory = 'Doubt_Corrected'\n",
        "doubtCorrectedFilePrefix = 'doubtCorrected_'\n",
        "INITIALIZED = True"
      ],
      "execution_count": 113,
      "outputs": []
    },
    {
      "cell_type": "code",
      "metadata": {
        "id": "Ddx-oofBZg5c"
      },
      "source": [
        "'''\n",
        "Phase 1 of the correction workflow:\n",
        "Extracting words/pairs to correct\n",
        "'''\n",
        "def correction_init(substring = '', onPairs = False, starts_with = False, \n",
        "                    first = '', second = '', defaultSuffix = None, justChecking = False):\n",
        "  global STAGE\n",
        "  if defaultSuffix: allUttrs = read_file(f\"{allDirectory}/{allFilePrefix}{defaultSuffix}.csv\") \n",
        "  else: allUttrs = read_file(f\"{allDirectory}/{allFilePrefix}{STAGE}.csv\")\n",
        "  uniqueUttrs = find_unique_utterances(allUttrs)\n",
        "  if not onPairs: \n",
        "    df_0 = find_unique_single_words(uniqueUttrs)\n",
        "    df_1 = extract_single(df_0, substring, starts_with)\n",
        "  else: \n",
        "    df_0 = find_unique_pairs(uniqueUttrs)\n",
        "    df_1 = extract_pairs(df_0, first, second)\n",
        "\n",
        "  if not justChecking:\n",
        "    STAGE += 1\n",
        "    write_to_csv(f\"{toCorrectFilePrefix}{STAGE}\", df_1, toCorrectDirectory)\n",
        "    print(f\"INITIALIZED STAGE {STAGE}\")\n",
        "    return allUttrs\n",
        "  return None\n",
        "\n",
        "'''\n",
        "A preprocessing function before applying corrections:\n",
        "Delete obviously incorrect utterances\n",
        "'''\n",
        "def correction_delete_obvious(original : pd.DataFrame):\n",
        "  global STAGE\n",
        "  toDelete = read_file(f\"{toDeleteDirectory}/{toDeleteFilePrefix}{STAGE}.csv\")\n",
        "  deleted = original[~original['utterance_id'].isin(toDelete['utterance_id'])]\n",
        "  print(f\"Deleted {toDelete.shape[0]} utterances in Stage {STAGE}\")\n",
        "  return deleted\n",
        "\n",
        "'''\n",
        "A post-processing function after applying corrections:\n",
        "Replace doubtful occurences with unambiguous words\n",
        "'''\n",
        "def correction_doubt_correct(original : pd.DataFrame):\n",
        "  global STAGE\n",
        "  oriCopy = original.copy()\n",
        "  doubtCorrections = read_file(f\"{doubtCorrectedDirectory}/{doubtCorrectedFilePrefix}{STAGE}.csv\")\n",
        "\n",
        "  oriCopy = apply_padding(oriCopy, ['utterance'])\n",
        "  doubtCorrections = apply_padding(doubtCorrections, ['original', 'correction'])\n",
        "\n",
        "  for index, row in doubtCorrections.iterrows():\n",
        "    ids = row['utterance_ids'].strip().split('-')\n",
        "    places = oriCopy[oriCopy['utterance_id'].isin(ids)]\n",
        "    places['utterance'] = places['utterance'].str.replace(row['original'], row['correction'], regex=True)\n",
        "    for id in ids:\n",
        "      oriCopy.loc[oriCopy['utterance_id'] == id, 'utterance'] = places[places['utterance_id'] == id]['utterance']\n",
        "\n",
        "  oriCopy = remove_padding(oriCopy, ['utterance'])\n",
        "  print(f\"Applied {doubtCorrections.shape[0]} Doubt Corrections in Stage {STAGE}.\")\n",
        "  return oriCopy\n",
        "\n",
        "'''\n",
        "Phase 2 of the correction workflow:\n",
        "Applying corrections\n",
        "'''\n",
        "def correction_complete(original : pd.DataFrame):\n",
        "  global STAGE, INITIALIZED\n",
        "  try:\n",
        "    allCorrections = read_file(f\"{correctedDirectory}/{correctedFilePrefix}{STAGE}.csv\")\n",
        "\n",
        "    corrections = allCorrections[allCorrections['original'] != allCorrections['correction']]\n",
        "    done = original\n",
        "\n",
        "    # Preprocessing: toDelete\n",
        "    hasToDelete = os.path.exists(f\"{toDeleteDirectory}/{toDeleteFilePrefix}{STAGE}.csv\")\n",
        "    if hasToDelete: done = correction_delete_obvious(original)\n",
        "\n",
        "    done = apply_corrections(done, corrections)\n",
        "\n",
        "    # Post-processing: doubtCorrected\n",
        "    hasDoubtCorrected = os.path.exists(f\"{doubtCorrectedDirectory}/{doubtCorrectedFilePrefix}{STAGE}.csv\")\n",
        "    if hasDoubtCorrected: done = correction_doubt_correct(done)\n",
        "\n",
        "    write_to_csv(f\"{allFilePrefix}{STAGE}\", done, allDirectory)\n",
        "\n",
        "    print(f\"STAGE {STAGE} COMPLETE! Utterance Count={done.shape[0]}\")\n",
        "    if INITIALIZED: STAGE += 1\n",
        "    return done\n",
        "  except FileNotFoundError:\n",
        "    print(f\"ERROR: Correction file for Stage {STAGE} is unavailable!\")\n",
        "\n",
        "'''\n",
        "Intermediate phase of the correction workflow:\n",
        "Programmatically defining corrected forms of single words\n",
        "'''\n",
        "def correction_define_single(substring : str, toLeft = False):\n",
        "  corrections = read_file(f\"{toCorrectDirectory}/{toCorrectFilePrefix}{STAGE}.csv\")\n",
        "  pd.options.mode.chained_assignment = None\n",
        "  corrections['correction'] = corrections.apply(lambda x: split_single(x['original'], substring, toLeft), axis=1)\n",
        "  pd.options.mode.chained_assignment = 'warn'\n",
        "\n",
        "  write_to_csv(f\"{correctedFilePrefix}{STAGE}\", corrections, correctedDirectory)\n",
        "  print(f\"Defined corrections for {substring} at Stage {STAGE}\")\n",
        "\n",
        "  return corrections\n",
        "\n",
        "'''\n",
        "Intermediate phase of the correction workflow:\n",
        "Programmatically defining corrected forms of word pairs\n",
        "'''\n",
        "def correction_define_pairs():\n",
        "  corrections = read_file(f\"{toCorrectDirectory}/{toCorrectFilePrefix}{STAGE}.csv\")\n",
        "  pd.options.mode.chained_assignment = None\n",
        "  corrections['correction'] = corrections['first'] + corrections['second']\n",
        "  pd.options.mode.chained_assignment = 'warn'\n",
        "\n",
        "  write_to_csv(f\"{correctedFilePrefix}{STAGE}\", corrections, correctedDirectory)\n",
        "  print(f\"Defined corrections for word pairs at Stage {STAGE}\")\n",
        "\n",
        "  return corrections\n",
        "\n",
        "'''\n",
        "Intermediate phase of the correction workflow:\n",
        "See the head of toCorrect csv\n",
        "'''\n",
        "def correction_inspect_toCorrect():\n",
        "  corrections = read_file(f\"{toCorrectDirectory}/{toCorrectFilePrefix}{STAGE}.csv\")\n",
        "  print(corrections.head())\n",
        "\n",
        "'''\n",
        "Intermediate phase of the correction workflow:\n",
        "See the head of corrected csv\n",
        "'''\n",
        "def correction_inspect_corrected():\n",
        "  corrected = read_file(f\"{correctedDirectory}/{correctedFilePrefix}{STAGE}.csv\")\n",
        "  print(corrected.head())\n",
        "\n",
        "'''\n",
        "A utility function to forcibly change the STAGE\n",
        "'''\n",
        "def force_change_stage(stage):\n",
        "  global STAGE\n",
        "  STAGE = stage\n",
        "\n",
        "'''\n",
        "One-time correction to apply common modifications\n",
        "'''\n",
        "def correction_apply_common_modifications(name : str, original : pd.DataFrame):\n",
        "  comMod = read_file(f\"{modificationPrefix}{name}.csv\")\n",
        "  modified = apply_corrections(original, comMod)\n",
        "  print(f\"Applied {comMod.shape[0]} common modifications.\")\n",
        "  return modified"
      ],
      "execution_count": 114,
      "outputs": []
    },
    {
      "cell_type": "markdown",
      "metadata": {
        "id": "qiKvhEB5hyUT"
      },
      "source": [
        "# Actual Correction Workflows"
      ]
    },
    {
      "cell_type": "markdown",
      "metadata": {
        "id": "FCh63F6sSQpH"
      },
      "source": [
        "**Online Unicode Inspector:** https://apps.timwhitlock.info/unicode/inspect"
      ]
    },
    {
      "cell_type": "markdown",
      "metadata": {
        "id": "PorjSkRTh1PC"
      },
      "source": [
        "# **1. Single - Ending with ආ >>> Separate**"
      ]
    },
    {
      "cell_type": "code",
      "metadata": {
        "colab": {
          "base_uri": "https://localhost:8080/"
        },
        "id": "xkIKM6QviA21",
        "outputId": "415ede74-88e7-4570-f7b7-d3885d619cbe"
      },
      "source": [
        "s_1 = '\\u0D86'\n",
        "all_0 = correction_init(s_1)"
      ],
      "execution_count": null,
      "outputs": [
        {
          "output_type": "stream",
          "name": "stdout",
          "text": [
            "Read All_Utterances/all_0.csv and created a DataFrame\n",
            "Found 98432 unique utterances\n",
            "Found 63374 unique words\n",
            "Found 1 words with ආ\n",
            "INITIALIZED STAGE 1\n"
          ]
        }
      ]
    },
    {
      "cell_type": "code",
      "metadata": {
        "colab": {
          "base_uri": "https://localhost:8080/"
        },
        "id": "N-YoeNqYuLoC",
        "outputId": "71f699c4-60ca-458c-e0c9-30e314c843d9"
      },
      "source": [
        "corrections_1 = correction_define_single(s_1)"
      ],
      "execution_count": null,
      "outputs": [
        {
          "output_type": "stream",
          "name": "stdout",
          "text": [
            "Read To_Correct/toCorrect_1.csv and created a DataFrame\n",
            "Defined corrections for ආ at Stage 1\n"
          ]
        }
      ]
    },
    {
      "cell_type": "code",
      "metadata": {
        "colab": {
          "base_uri": "https://localhost:8080/"
        },
        "id": "4Y7r241czhE-",
        "outputId": "9c7b90a9-4289-426a-dbf7-e50f47c83797"
      },
      "source": [
        "correction_inspect_toCorrect()"
      ],
      "execution_count": null,
      "outputs": [
        {
          "output_type": "stream",
          "name": "stdout",
          "text": [
            "Read To_Correct/toCorrect_1.csv and created a DataFrame\n",
            "  original correction\n",
            "0        ආ          ආ\n"
          ]
        }
      ]
    },
    {
      "cell_type": "code",
      "metadata": {
        "colab": {
          "base_uri": "https://localhost:8080/"
        },
        "id": "_IvPuHJ2zy_B",
        "outputId": "6ecd8e95-9544-46b7-f212-3a068efc9f17"
      },
      "source": [
        "correction_inspect_corrected()"
      ],
      "execution_count": null,
      "outputs": [
        {
          "output_type": "stream",
          "name": "stdout",
          "text": [
            "Read Corrected/corrected_1.csv and created a DataFrame\n",
            "  original correction\n",
            "0        ආ          ආ\n"
          ]
        }
      ]
    },
    {
      "cell_type": "code",
      "metadata": {
        "colab": {
          "base_uri": "https://localhost:8080/"
        },
        "id": "KGqQR13kiyWu",
        "outputId": "77be2e5c-32d8-4db4-b155-b7d24c787d9a"
      },
      "source": [
        "all_1 = correction_complete(all_0)"
      ],
      "execution_count": null,
      "outputs": [
        {
          "output_type": "stream",
          "name": "stdout",
          "text": [
            "Read Corrected/corrected_1.csv and created a DataFrame\n",
            "STAGE 1 COMPLETE!\n"
          ]
        }
      ]
    },
    {
      "cell_type": "markdown",
      "metadata": {
        "id": "4MC4FUR00Fem"
      },
      "source": [
        "# **2. Pairs - Isoated අ as first >>> Join**"
      ]
    },
    {
      "cell_type": "code",
      "metadata": {
        "colab": {
          "base_uri": "https://localhost:8080/"
        },
        "id": "xJcRN21b0VMw",
        "outputId": "23adf4e2-6704-43f8-c276-068ffe42bd3a"
      },
      "source": [
        "s_2 = '\\u0D85'\n",
        "all_1 = correction_init(onPairs=True, first=s_2)"
      ],
      "execution_count": null,
      "outputs": [
        {
          "output_type": "stream",
          "name": "stdout",
          "text": [
            "Read All_Utterances/all_1.csv and created a DataFrame\n",
            "Found 98432 unique utterances\n",
            "Found 260685 unique pairs of words\n",
            "Found 0 pairs with first=අ and second=\n",
            "INITIALIZED STAGE 2\n"
          ]
        }
      ]
    },
    {
      "cell_type": "code",
      "metadata": {
        "colab": {
          "base_uri": "https://localhost:8080/"
        },
        "id": "4HVeSU-X1cbd",
        "outputId": "a07c25ef-156f-4e00-c7f5-0efa9e81a166"
      },
      "source": [
        "correction_inspect_toCorrect()"
      ],
      "execution_count": null,
      "outputs": [
        {
          "output_type": "stream",
          "name": "stdout",
          "text": [
            "Read To_Correct/toCorrect_2.csv and created a DataFrame\n",
            "Empty DataFrame\n",
            "Columns: [original, first, second, correction]\n",
            "Index: []\n"
          ]
        }
      ]
    },
    {
      "cell_type": "code",
      "metadata": {
        "colab": {
          "base_uri": "https://localhost:8080/"
        },
        "id": "ivYl1Uko3QkE",
        "outputId": "6d45e570-a118-4143-9cf5-6a0c154201d8"
      },
      "source": [
        "all_2 = correction_complete(all_1)"
      ],
      "execution_count": null,
      "outputs": [
        {
          "output_type": "stream",
          "name": "stdout",
          "text": [
            "Read Corrected/corrected_2.csv and created a DataFrame\n",
            "STAGE 2 COMPLETE!\n"
          ]
        }
      ]
    },
    {
      "cell_type": "markdown",
      "metadata": {
        "id": "ir7O33Rq3ag9"
      },
      "source": [
        "# **3. Pairs - Isolated ඉ as first >>> Join**"
      ]
    },
    {
      "cell_type": "code",
      "metadata": {
        "colab": {
          "base_uri": "https://localhost:8080/"
        },
        "id": "KAtwBAq53iiW",
        "outputId": "87228c75-dd85-4f55-def1-c0c6b3b35a1e"
      },
      "source": [
        "s_3 = '\\u0D89'\n",
        "all_2 = correction_init(onPairs=True, first=s_3)"
      ],
      "execution_count": null,
      "outputs": [
        {
          "output_type": "stream",
          "name": "stdout",
          "text": [
            "Read All_Utterances/all_2.csv and created a DataFrame\n",
            "Found 98432 unique utterances\n",
            "Found 260685 unique pairs of words\n",
            "Found 0 pairs with first=ඉ and second=\n",
            "INITIALIZED STAGE 3\n"
          ]
        }
      ]
    },
    {
      "cell_type": "code",
      "metadata": {
        "colab": {
          "base_uri": "https://localhost:8080/"
        },
        "id": "2hxTp7m94G1y",
        "outputId": "ae4318de-45d0-4f11-c784-dea1aa67dc27"
      },
      "source": [
        "correction_inspect_toCorrect()"
      ],
      "execution_count": null,
      "outputs": [
        {
          "output_type": "stream",
          "name": "stdout",
          "text": [
            "Read To_Correct/toCorrect_3.csv and created a DataFrame\n",
            "Empty DataFrame\n",
            "Columns: [original, first, second, correction]\n",
            "Index: []\n"
          ]
        }
      ]
    },
    {
      "cell_type": "code",
      "metadata": {
        "colab": {
          "base_uri": "https://localhost:8080/"
        },
        "id": "VIhucOmz42YO",
        "outputId": "17bf2cd8-1c62-4cc1-d41b-259bb1dceb58"
      },
      "source": [
        "correction_inspect_corrected()"
      ],
      "execution_count": null,
      "outputs": [
        {
          "output_type": "stream",
          "name": "stdout",
          "text": [
            "Read Corrected/corrected_3.csv and created a DataFrame\n",
            "Empty DataFrame\n",
            "Columns: [original, first, second, correction]\n",
            "Index: []\n"
          ]
        }
      ]
    },
    {
      "cell_type": "code",
      "metadata": {
        "colab": {
          "base_uri": "https://localhost:8080/"
        },
        "id": "ZFCU1KlP4nKI",
        "outputId": "4d325f7d-9928-438d-eecc-f6ea1900c9df"
      },
      "source": [
        "all_3 = correction_complete(all_2)"
      ],
      "execution_count": null,
      "outputs": [
        {
          "output_type": "stream",
          "name": "stdout",
          "text": [
            "Read Corrected/corrected_3.csv and created a DataFrame\n",
            "STAGE 3 COMPLETE!\n"
          ]
        }
      ]
    },
    {
      "cell_type": "markdown",
      "metadata": {
        "id": "okn5gvhM5Ka9"
      },
      "source": [
        "# **4. Pairs - Isolated එ as first >>> Join**"
      ]
    },
    {
      "cell_type": "code",
      "metadata": {
        "colab": {
          "base_uri": "https://localhost:8080/"
        },
        "id": "_BxP_GOA5c27",
        "outputId": "91d56dde-1deb-4f99-a623-ff44f9d49b9e"
      },
      "source": [
        "s_4 = '\\u0D91'\n",
        "all_3 = correction_init(onPairs=True, first=s_4)"
      ],
      "execution_count": null,
      "outputs": [
        {
          "output_type": "stream",
          "name": "stdout",
          "text": [
            "Read All_Utterances/all_3.csv and created a DataFrame\n",
            "Found 98432 unique utterances\n",
            "Found 260685 unique pairs of words\n",
            "Found 0 pairs with first=එ and second=\n",
            "INITIALIZED STAGE 4\n"
          ]
        }
      ]
    },
    {
      "cell_type": "code",
      "metadata": {
        "colab": {
          "base_uri": "https://localhost:8080/"
        },
        "id": "R5Z0u9Qw5qli",
        "outputId": "75742fe2-8f86-48b5-e512-4cd562b00a20"
      },
      "source": [
        "correction_inspect_toCorrect()"
      ],
      "execution_count": null,
      "outputs": [
        {
          "output_type": "stream",
          "name": "stdout",
          "text": [
            "Read To_Correct/toCorrect_4.csv and created a DataFrame\n",
            "Empty DataFrame\n",
            "Columns: [original, first, second, correction]\n",
            "Index: []\n"
          ]
        }
      ]
    },
    {
      "cell_type": "code",
      "metadata": {
        "colab": {
          "base_uri": "https://localhost:8080/"
        },
        "id": "xlHny6ncCKuF",
        "outputId": "49f7021a-f9a9-4512-bb52-24e6d15c42fc"
      },
      "source": [
        "all_4 = correction_complete(all_3)"
      ],
      "execution_count": null,
      "outputs": [
        {
          "output_type": "stream",
          "name": "stdout",
          "text": [
            "Read Corrected/corrected_4.csv and created a DataFrame\n",
            "STAGE 4 COMPLETE!\n"
          ]
        }
      ]
    },
    {
      "cell_type": "markdown",
      "metadata": {
        "id": "62uGo5AuC1Xf"
      },
      "source": [
        "**Important:**\n",
        "After getting `all_4.csv` created, it was manually edited to do the following changes:\n",
        "\n",
        "\n",
        "1.   Modified 5f6bc35485 after listening (උපරිමයි => උපරිමයයි)\n",
        "2.   Removed ae3b50e2fa (එ වගෙ), 5590e25b5a (එ හමුදුරුවො) after listening\n",
        "\n",
        "The modified `all_4.csv` has been (or if restarted, needs to be) uploaded.\n",
        "\n"
      ]
    },
    {
      "cell_type": "code",
      "metadata": {
        "colab": {
          "base_uri": "https://localhost:8080/"
        },
        "id": "MTJYL6PzNUwF",
        "outputId": "ac0079e5-3128-45d6-c641-88d0c0e587a3"
      },
      "source": [
        "all_4 = read_file('./All_Utterances/all_4.csv')"
      ],
      "execution_count": null,
      "outputs": [
        {
          "output_type": "stream",
          "name": "stdout",
          "text": [
            "Read ./All_Utterances/all_4.csv and created a DataFrame\n"
          ]
        }
      ]
    },
    {
      "cell_type": "code",
      "metadata": {
        "colab": {
          "base_uri": "https://localhost:8080/",
          "height": 173
        },
        "id": "DctZGAtbNiIj",
        "outputId": "6de1ca32-fad6-4ed2-eb77-560528caf144"
      },
      "source": [
        "all_4.describe()"
      ],
      "execution_count": null,
      "outputs": [
        {
          "output_type": "execute_result",
          "data": {
            "text/html": [
              "<div>\n",
              "<style scoped>\n",
              "    .dataframe tbody tr th:only-of-type {\n",
              "        vertical-align: middle;\n",
              "    }\n",
              "\n",
              "    .dataframe tbody tr th {\n",
              "        vertical-align: top;\n",
              "    }\n",
              "\n",
              "    .dataframe thead th {\n",
              "        text-align: right;\n",
              "    }\n",
              "</style>\n",
              "<table border=\"1\" class=\"dataframe\">\n",
              "  <thead>\n",
              "    <tr style=\"text-align: right;\">\n",
              "      <th></th>\n",
              "      <th>utterance_id</th>\n",
              "      <th>speaker_id</th>\n",
              "      <th>utterance</th>\n",
              "      <th>gender</th>\n",
              "    </tr>\n",
              "  </thead>\n",
              "  <tbody>\n",
              "    <tr>\n",
              "      <th>count</th>\n",
              "      <td>178407</td>\n",
              "      <td>178407</td>\n",
              "      <td>178407</td>\n",
              "      <td>178407</td>\n",
              "    </tr>\n",
              "    <tr>\n",
              "      <th>unique</th>\n",
              "      <td>178407</td>\n",
              "      <td>478</td>\n",
              "      <td>98432</td>\n",
              "      <td>2</td>\n",
              "    </tr>\n",
              "    <tr>\n",
              "      <th>top</th>\n",
              "      <td>5eba99b978</td>\n",
              "      <td>0b586</td>\n",
              "      <td>ජය වේවා</td>\n",
              "      <td>f</td>\n",
              "    </tr>\n",
              "    <tr>\n",
              "      <th>freq</th>\n",
              "      <td>1</td>\n",
              "      <td>798</td>\n",
              "      <td>16</td>\n",
              "      <td>96723</td>\n",
              "    </tr>\n",
              "  </tbody>\n",
              "</table>\n",
              "</div>"
            ],
            "text/plain": [
              "       utterance_id speaker_id utterance  gender\n",
              "count        178407     178407    178407  178407\n",
              "unique       178407        478     98432       2\n",
              "top      5eba99b978      0b586   ජය වේවා       f\n",
              "freq              1        798        16   96723"
            ]
          },
          "metadata": {},
          "execution_count": 84
        }
      ]
    },
    {
      "cell_type": "markdown",
      "metadata": {
        "id": "PkN9KO1qWmyD"
      },
      "source": [
        "# **5. Single - Starting with ඒ >>> Manual**"
      ]
    },
    {
      "cell_type": "code",
      "metadata": {
        "colab": {
          "base_uri": "https://localhost:8080/"
        },
        "id": "X8NAp4-zXE1S",
        "outputId": "f4817387-f9b2-48c1-9e75-335f0dc03431"
      },
      "source": [
        "s_5 = '\\u0D92'\n",
        "all_4 = correction_init(substring=s_5, starts_with=True)"
      ],
      "execution_count": null,
      "outputs": [
        {
          "output_type": "stream",
          "name": "stdout",
          "text": [
            "Read All_Utterances/all_4.csv and created a DataFrame\n",
            "Found 98432 unique utterances\n",
            "Found 63374 unique words\n",
            "Found 222 words with ඒ\n",
            "INITIALIZED STAGE 5\n"
          ]
        }
      ]
    },
    {
      "cell_type": "markdown",
      "metadata": {
        "id": "x2CjLV1uoYJY"
      },
      "source": [
        "**Important:** When analyzing for corrections on ඒ, found many obviously-wrong words. Therefore, had to remove utterances contatining them. So, we should upload `all_4_edited.csv` and read it to `all_4` object."
      ]
    },
    {
      "cell_type": "code",
      "metadata": {
        "colab": {
          "base_uri": "https://localhost:8080/"
        },
        "id": "cbzhfE3Lo2CH",
        "outputId": "fd807030-c88c-48b1-840c-37b788ac3d0e"
      },
      "source": [
        "all_4 = read_file('./All_Utterances/all_4_edited.csv')"
      ],
      "execution_count": null,
      "outputs": [
        {
          "output_type": "stream",
          "name": "stdout",
          "text": [
            "Read ./All_Utterances/all_4_edited.csv and created a DataFrame\n"
          ]
        }
      ]
    },
    {
      "cell_type": "code",
      "metadata": {
        "colab": {
          "base_uri": "https://localhost:8080/",
          "height": 173
        },
        "id": "1kzgSd8Fu0rd",
        "outputId": "0a70055b-98df-48d1-b3de-c25f948437f8"
      },
      "source": [
        "all_4.describe()"
      ],
      "execution_count": null,
      "outputs": [
        {
          "output_type": "execute_result",
          "data": {
            "text/html": [
              "<div>\n",
              "<style scoped>\n",
              "    .dataframe tbody tr th:only-of-type {\n",
              "        vertical-align: middle;\n",
              "    }\n",
              "\n",
              "    .dataframe tbody tr th {\n",
              "        vertical-align: top;\n",
              "    }\n",
              "\n",
              "    .dataframe thead th {\n",
              "        text-align: right;\n",
              "    }\n",
              "</style>\n",
              "<table border=\"1\" class=\"dataframe\">\n",
              "  <thead>\n",
              "    <tr style=\"text-align: right;\">\n",
              "      <th></th>\n",
              "      <th>utterance_id</th>\n",
              "      <th>speaker_id</th>\n",
              "      <th>utterance</th>\n",
              "      <th>gender</th>\n",
              "    </tr>\n",
              "  </thead>\n",
              "  <tbody>\n",
              "    <tr>\n",
              "      <th>count</th>\n",
              "      <td>178383</td>\n",
              "      <td>178383</td>\n",
              "      <td>178383</td>\n",
              "      <td>178383</td>\n",
              "    </tr>\n",
              "    <tr>\n",
              "      <th>unique</th>\n",
              "      <td>178383</td>\n",
              "      <td>478</td>\n",
              "      <td>98420</td>\n",
              "      <td>2</td>\n",
              "    </tr>\n",
              "    <tr>\n",
              "      <th>top</th>\n",
              "      <td>5eba99b978</td>\n",
              "      <td>0b586</td>\n",
              "      <td>ජය වේවා</td>\n",
              "      <td>f</td>\n",
              "    </tr>\n",
              "    <tr>\n",
              "      <th>freq</th>\n",
              "      <td>1</td>\n",
              "      <td>798</td>\n",
              "      <td>16</td>\n",
              "      <td>96711</td>\n",
              "    </tr>\n",
              "  </tbody>\n",
              "</table>\n",
              "</div>"
            ],
            "text/plain": [
              "       utterance_id speaker_id utterance  gender\n",
              "count        178383     178383    178383  178383\n",
              "unique       178383        478     98420       2\n",
              "top      5eba99b978      0b586   ජය වේවා       f\n",
              "freq              1        798        16   96711"
            ]
          },
          "metadata": {},
          "execution_count": 95
        }
      ]
    },
    {
      "cell_type": "code",
      "metadata": {
        "colab": {
          "base_uri": "https://localhost:8080/"
        },
        "id": "nb8zUk2Nu-pm",
        "outputId": "4657133c-9168-48e9-9e72-fe6bf831ab67"
      },
      "source": [
        "all_5 = correction_complete(all_4)"
      ],
      "execution_count": null,
      "outputs": [
        {
          "output_type": "stream",
          "name": "stdout",
          "text": [
            "Read Corrected/corrected_5.csv and created a DataFrame\n",
            "STAGE 5 COMPLETE!\n"
          ]
        }
      ]
    },
    {
      "cell_type": "markdown",
      "metadata": {
        "id": "y2j6NBr0Xw3B"
      },
      "source": [
        "# **6. Pairs - Isolated ක as second >>> Join**"
      ]
    },
    {
      "cell_type": "code",
      "metadata": {
        "colab": {
          "base_uri": "https://localhost:8080/"
        },
        "id": "_NmrbQA5YBa6",
        "outputId": "b55025d5-d4a3-4948-bbbe-df9b34a31c57"
      },
      "source": [
        "s_6 = '\\u0D9A'\n",
        "all_5 = correction_init(onPairs=True, second=s_6)"
      ],
      "execution_count": null,
      "outputs": [
        {
          "output_type": "stream",
          "name": "stdout",
          "text": [
            "Read All_Utterances/all_5.csv and created a DataFrame\n",
            "Found 98416 unique utterances\n",
            "Found 260624 unique pairs of words\n",
            "Found 15 pairs with first= and second=ක\n",
            "INITIALIZED STAGE 6\n"
          ]
        }
      ]
    },
    {
      "cell_type": "code",
      "metadata": {
        "colab": {
          "base_uri": "https://localhost:8080/"
        },
        "id": "lX34w0sHYs85",
        "outputId": "50546a7a-9729-4ace-a7ad-30b89e2a4e4e"
      },
      "source": [
        "correction_inspect_toCorrect()"
      ],
      "execution_count": null,
      "outputs": [
        {
          "output_type": "stream",
          "name": "stdout",
          "text": [
            "Read To_Correct/toCorrect_6.csv and created a DataFrame\n",
            "   original   first second correction\n",
            "0   අක්කර ක   අක්කර      ක    අක්කර ක\n",
            "1      එය ක      එය      ක       එය ක\n",
            "2    කෝටි ක    කෝටි      ක     කෝටි ක\n",
            "3  ගවයින් ක  ගවයින්      ක   ගවයින් ක\n",
            "4     පැය ක     පැය      ක      පැය ක\n"
          ]
        }
      ]
    },
    {
      "cell_type": "markdown",
      "metadata": {
        "id": "Luha2NWJeRCP"
      },
      "source": [
        "**Important:** When analyzing for corrections on ක, found many obviously-wrong words. Therefore, had to remove utterances contatining them. So, we should upload `all_5_edited.csv` and read it to `all_5` object."
      ]
    },
    {
      "cell_type": "code",
      "metadata": {
        "colab": {
          "base_uri": "https://localhost:8080/"
        },
        "id": "NRGkAKh2dog3",
        "outputId": "39640f32-2c45-4629-9d96-7602bad4cf35"
      },
      "source": [
        "all_5 = read_file('./All_Utterances/all_5_edited.csv')"
      ],
      "execution_count": null,
      "outputs": [
        {
          "output_type": "stream",
          "name": "stdout",
          "text": [
            "Read ./All_Utterances/all_5_edited.csv and created a DataFrame\n"
          ]
        }
      ]
    },
    {
      "cell_type": "code",
      "metadata": {
        "colab": {
          "base_uri": "https://localhost:8080/"
        },
        "id": "dR19VX6ye5bB",
        "outputId": "1a950a6e-b586-43e7-8bf7-39cea48061d3"
      },
      "source": [
        "all_6 = correction_complete(all_5)"
      ],
      "execution_count": null,
      "outputs": [
        {
          "output_type": "stream",
          "name": "stdout",
          "text": [
            "Read Corrected/corrected_6.csv and created a DataFrame\n",
            "STAGE 6 COMPLETE!\n"
          ]
        }
      ]
    },
    {
      "cell_type": "markdown",
      "metadata": {
        "id": "BWmtXhmjSb2x"
      },
      "source": [
        "# **7. Pairs - Isolated ක් as second >>> Join**"
      ]
    },
    {
      "cell_type": "code",
      "metadata": {
        "colab": {
          "base_uri": "https://localhost:8080/"
        },
        "id": "swxy_OimqyFn",
        "outputId": "8072e1c0-f4fb-4d00-b530-db3aee767a64"
      },
      "source": [
        "s_7 = '\\u0D9A\\u0DCA'\n",
        "all_6 = correction_init(onPairs=True, second=s_7)"
      ],
      "execution_count": null,
      "outputs": [
        {
          "output_type": "stream",
          "name": "stdout",
          "text": [
            "Read All_Utterances/all_6.csv and created a DataFrame\n",
            "Found 98407 unique utterances\n",
            "Found 260522 unique pairs of words\n",
            "Found 33 pairs with first= and second=ක්\n",
            "INITIALIZED STAGE 7\n"
          ]
        }
      ]
    },
    {
      "cell_type": "code",
      "metadata": {
        "colab": {
          "base_uri": "https://localhost:8080/"
        },
        "id": "Kfwh7SfJrdTd",
        "outputId": "f4933b5c-611a-44ea-baba-e08bb41b3c5e"
      },
      "source": [
        "correction_inspect_toCorrect()"
      ],
      "execution_count": null,
      "outputs": [
        {
          "output_type": "stream",
          "name": "stdout",
          "text": [
            "Read To_Correct/toCorrect_7.csv and created a DataFrame\n",
            "      original     first second   correction\n",
            "0       400 ක්       400     ක්       400 ක්\n",
            "1       අඩි ක්       අඩි     ක්       අඩි ක්\n",
            "2  අඩිඅඟුල් ක්  අඩිඅඟුල්     ක්  අඩිඅඟුල් ක්\n",
            "3   අවුරුදු ක්   අවුරුදු     ක්   අවුරුදු ක්\n",
            "4   ඉක්මනටම ක්   ඉක්මනටම     ක්   ඉක්මනටම ක්\n"
          ]
        }
      ]
    },
    {
      "cell_type": "markdown",
      "metadata": {
        "id": "zZp81Zjy3PN_"
      },
      "source": [
        "# **8. Pairs - Isolated කින් as second >>> Join**"
      ]
    },
    {
      "cell_type": "code",
      "metadata": {
        "colab": {
          "base_uri": "https://localhost:8080/"
        },
        "id": "KLK6gioG3gCc",
        "outputId": "863a94e7-2725-4e79-be87-d61264e0745d"
      },
      "source": [
        "s_8 = 'කින්'\n",
        "all_7 = correction_init(onPairs=True, second=s_8, defaultSuffix=6)"
      ],
      "execution_count": null,
      "outputs": [
        {
          "output_type": "stream",
          "name": "stdout",
          "text": [
            "Read All_Utterances/all_6.csv and created a DataFrame\n",
            "Found 98407 unique utterances\n",
            "Found 260522 unique pairs of words\n",
            "Found 5 pairs with first= and second=කින්\n",
            "INITIALIZED STAGE 8\n"
          ]
        }
      ]
    },
    {
      "cell_type": "code",
      "metadata": {
        "colab": {
          "base_uri": "https://localhost:8080/"
        },
        "id": "wKJ-jG6N35a9",
        "outputId": "bac56944-5d87-4d96-c6cf-909c2b1d28e6"
      },
      "source": [
        "correction_inspect_toCorrect()"
      ],
      "execution_count": null,
      "outputs": [
        {
          "output_type": "stream",
          "name": "stdout",
          "text": [
            "Read To_Correct/toCorrect_8.csv and created a DataFrame\n",
            "          original       first second       correction\n",
            "0         අංග කින්         අංග   කින්         අංග කින්\n",
            "1  අමාත්‍යාංශ කින්  අමාත්‍යාංශ   කින්  අමාත්‍යාංශ කින්\n",
            "2         ඛිං කින්         ඛිං   කින්         ඛිං කින්\n",
            "3        තනුව කින්        තනුව   කින්        තනුව කින්\n",
            "4      දිනුම් කින්      දිනුම්   කින්      දිනුම් කින්\n"
          ]
        }
      ]
    },
    {
      "cell_type": "markdown",
      "metadata": {
        "id": "jzaSgCMO4BFW"
      },
      "source": [
        "# **9. Pairs - Isolated කි as second >>> Join**\n"
      ]
    },
    {
      "cell_type": "code",
      "metadata": {
        "colab": {
          "base_uri": "https://localhost:8080/"
        },
        "id": "eqI37eZI4M_6",
        "outputId": "67a169fc-92f0-446b-ae87-348838fc7e11"
      },
      "source": [
        "s_9 = 'කි'\n",
        "all_8 = correction_init(onPairs=True, second=s_9, defaultSuffix=6)"
      ],
      "execution_count": null,
      "outputs": [
        {
          "output_type": "stream",
          "name": "stdout",
          "text": [
            "Read All_Utterances/all_6.csv and created a DataFrame\n",
            "Found 98407 unique utterances\n",
            "Found 260522 unique pairs of words\n",
            "Found 7 pairs with first= and second=කි\n",
            "INITIALIZED STAGE 9\n"
          ]
        }
      ]
    },
    {
      "cell_type": "code",
      "metadata": {
        "colab": {
          "base_uri": "https://localhost:8080/"
        },
        "id": "5P5ISPjW4YKy",
        "outputId": "cebcd5f2-3cda-4fc3-d563-d2ccdb0565f6"
      },
      "source": [
        "correction_inspect_toCorrect()"
      ],
      "execution_count": null,
      "outputs": [
        {
          "output_type": "stream",
          "name": "stdout",
          "text": [
            "Read To_Correct/toCorrect_9.csv and created a DataFrame\n",
            "       original      first second    correction\n",
            "0      ආහාරය කි      ආහාරය     කි      ආහාරය කි\n",
            "1        ඒකා කි        ඒකා     කි        ඒකා කි\n",
            "2  ට්‍රිලියන කි  ට්‍රිලියන     කි  ට්‍රිලියන කි\n",
            "3      ඩොලර් කි      ඩොලර්     කි      ඩොලර් කි\n",
            "4       බැන් කි       බැන්     කි       බැන් කි\n"
          ]
        }
      ]
    },
    {
      "cell_type": "markdown",
      "metadata": {
        "id": "P0pk_TaG4hZg"
      },
      "source": [
        "# **10. Pairs - Isolated කට as second >>> Join by meaning**"
      ]
    },
    {
      "cell_type": "code",
      "metadata": {
        "colab": {
          "base_uri": "https://localhost:8080/"
        },
        "id": "k19orpSm4w20",
        "outputId": "ef816bfa-30a0-4b33-eea0-c5f8ca80feb0"
      },
      "source": [
        "s_10 = 'කට'\n",
        "all_9 = correction_init(onPairs=True, second=s_10, defaultSuffix=6)"
      ],
      "execution_count": null,
      "outputs": [
        {
          "output_type": "stream",
          "name": "stdout",
          "text": [
            "Read All_Utterances/all_6.csv and created a DataFrame\n",
            "Found 98407 unique utterances\n",
            "Found 260522 unique pairs of words\n",
            "Found 55 pairs with first= and second=කට\n",
            "INITIALIZED STAGE 10\n"
          ]
        }
      ]
    },
    {
      "cell_type": "code",
      "metadata": {
        "colab": {
          "base_uri": "https://localhost:8080/"
        },
        "id": "O_jcSk0O5BUa",
        "outputId": "f9996c63-bfb7-41e1-ba57-2e39f154817f"
      },
      "source": [
        "correction_inspect_toCorrect()"
      ],
      "execution_count": null,
      "outputs": [
        {
          "output_type": "stream",
          "name": "stdout",
          "text": [
            "Read To_Correct/toCorrect_10.csv and created a DataFrame\n",
            "      original     first second   correction\n",
            "0       අංග කට       අංග     කට       අංග කට\n",
            "1  අඩවියේදි කට  අඩවියේදි     කට  අඩවියේදි කට\n",
            "2       අපි කට       අපි     කට       අපි කට\n",
            "3   අවුරුදු කට   අවුරුදු     කට   අවුරුදු කට\n",
            "4    ඇරෙන්න කට    ඇරෙන්න     කට    ඇරෙන්න කට\n"
          ]
        }
      ]
    },
    {
      "cell_type": "markdown",
      "metadata": {
        "id": "XcbALKGw549h"
      },
      "source": [
        "# **11. Pairs - Isolated ගේ as second >>> Join by meaning**"
      ]
    },
    {
      "cell_type": "code",
      "metadata": {
        "colab": {
          "base_uri": "https://localhost:8080/"
        },
        "id": "h8ZazPOM6BX7",
        "outputId": "709f4a13-7dc5-4c35-acd6-e8decb3f96bc"
      },
      "source": [
        "s_11 = 'ගේ'\n",
        "all_10 = correction_init(onPairs=True, second=s_11, defaultSuffix=6)"
      ],
      "execution_count": null,
      "outputs": [
        {
          "output_type": "stream",
          "name": "stdout",
          "text": [
            "Read All_Utterances/all_6.csv and created a DataFrame\n",
            "Found 98407 unique utterances\n",
            "Found 260522 unique pairs of words\n",
            "Found 186 pairs with first= and second=ගේ\n",
            "INITIALIZED STAGE 11\n"
          ]
        }
      ]
    },
    {
      "cell_type": "code",
      "metadata": {
        "colab": {
          "base_uri": "https://localhost:8080/"
        },
        "id": "9LMJasPe6R3t",
        "outputId": "2dcacf72-b894-4cdb-a4fc-c335e2527d3a"
      },
      "source": [
        "correction_inspect_toCorrect()"
      ],
      "execution_count": null,
      "outputs": [
        {
          "output_type": "stream",
          "name": "stdout",
          "text": [
            "Read To_Correct/toCorrect_11.csv and created a DataFrame\n",
            "            original           first second         correction\n",
            "0           අංකල් ගේ           අංකල්     ගේ           අංකල් ගේ\n",
            "1        අදිකාරම් ගේ        අදිකාරම්     ගේ        අදිකාරම් ගේ\n",
            "2  අධ්‍යක්ෂකවරුන් ගේ  අධ්‍යක්ෂකවරුන්     ගේ  අධ්‍යක්ෂකවරුන් ගේ\n",
            "3    අනුගාමිකයින් ගේ    අනුගාමිකයින්     ගේ    අනුගාමිකයින් ගේ\n",
            "4           අනුන් ගේ           අනුන්     ගේ           අනුන් ගේ\n"
          ]
        }
      ]
    },
    {
      "cell_type": "markdown",
      "metadata": {
        "id": "C91ID7Sk6Xnm"
      },
      "source": [
        "# **12. Pairs - Isolated ගෙන් as second >>> Join by meaning**"
      ]
    },
    {
      "cell_type": "code",
      "metadata": {
        "colab": {
          "base_uri": "https://localhost:8080/"
        },
        "id": "fiFAzAJd6fOh",
        "outputId": "e46ddc2a-e2fc-41b3-b579-715614624fe9"
      },
      "source": [
        "s_12 = 'ගෙන්'\n",
        "all_11 = correction_init(onPairs=True, second=s_12, defaultSuffix=6)"
      ],
      "execution_count": null,
      "outputs": [
        {
          "output_type": "stream",
          "name": "stdout",
          "text": [
            "Read All_Utterances/all_6.csv and created a DataFrame\n",
            "Found 98407 unique utterances\n",
            "Found 260522 unique pairs of words\n",
            "Found 30 pairs with first= and second=ගෙන්\n",
            "INITIALIZED STAGE 12\n"
          ]
        }
      ]
    },
    {
      "cell_type": "code",
      "metadata": {
        "colab": {
          "base_uri": "https://localhost:8080/"
        },
        "id": "nIIs1e7c6rSx",
        "outputId": "09dbe9d8-4a5e-42d7-b1ce-6aa27f1a5dbd"
      },
      "source": [
        "correction_inspect_toCorrect()"
      ],
      "execution_count": null,
      "outputs": [
        {
          "output_type": "stream",
          "name": "stdout",
          "text": [
            "Read To_Correct/toCorrect_12.csv and created a DataFrame\n",
            "         original      first second      correction\n",
            "0  උන්වහන්සේ ගෙන්  උන්වහන්සේ   ගෙන්  උන්වහන්සේ ගෙන්\n",
            "1      එකෙක් ගෙන්      එකෙක්   ගෙන්      එකෙක් ගෙන්\n",
            "2         එම ගෙන්         එම   ගෙන්         එම ගෙන්\n",
            "3          ඒ ගෙන්          ඒ   ගෙන්          ඒ ගෙන්\n",
            "4        කකා ගෙන්        කකා   ගෙන්        කකා ගෙන්\n"
          ]
        }
      ]
    },
    {
      "cell_type": "markdown",
      "metadata": {
        "id": "1PmB1M3060E5"
      },
      "source": [
        "# **13. Pairs - Isolated ට as second >>> Join**"
      ]
    },
    {
      "cell_type": "code",
      "metadata": {
        "colab": {
          "base_uri": "https://localhost:8080/"
        },
        "id": "ZGYetT_9658r",
        "outputId": "b99896e6-bba7-438f-8524-f068b90e2e30"
      },
      "source": [
        "s_13 = 'ට'\n",
        "all_12 = correction_init(onPairs=True, second=s_13, defaultSuffix=6)"
      ],
      "execution_count": null,
      "outputs": [
        {
          "output_type": "stream",
          "name": "stdout",
          "text": [
            "Read All_Utterances/all_6.csv and created a DataFrame\n",
            "Found 98407 unique utterances\n",
            "Found 260522 unique pairs of words\n",
            "Found 65 pairs with first= and second=ට\n",
            "INITIALIZED STAGE 13\n"
          ]
        }
      ]
    },
    {
      "cell_type": "code",
      "metadata": {
        "colab": {
          "base_uri": "https://localhost:8080/"
        },
        "id": "fE8fGdtz7O9I",
        "outputId": "3a8ffbba-6ead-4635-8cd6-26fe220dd0ba"
      },
      "source": [
        "correction_inspect_toCorrect()"
      ],
      "execution_count": null,
      "outputs": [
        {
          "output_type": "stream",
          "name": "stdout",
          "text": [
            "Read To_Correct/toCorrect_13.csv and created a DataFrame\n",
            "    original    first second correction\n",
            "0      අභී ට      අභී      ට      අභී ට\n",
            "1  අයිතීන් ට  අයිතීන්      ට  අයිතීන් ට\n",
            "2    අයියා ට    අයියා      ට    අයියා ට\n",
            "3  අරවින්ද ට  අරවින්ද      ට  අරවින්ද ට\n",
            "4  අවුරුදු ට  අවුරුදු      ට  අවුරුදු ට\n"
          ]
        }
      ]
    },
    {
      "cell_type": "markdown",
      "metadata": {
        "id": "TaDsDcG-7e9q"
      },
      "source": [
        "# **14. Pairs - Isolated ත් as second >>> Join**"
      ]
    },
    {
      "cell_type": "code",
      "metadata": {
        "colab": {
          "base_uri": "https://localhost:8080/"
        },
        "id": "BSXsefTT7om_",
        "outputId": "c44e3c92-5709-49dc-eadd-435802d57f79"
      },
      "source": [
        "s_14 = 'ත්'\n",
        "all_13 = correction_init(onPairs=True, second=s_14, defaultSuffix=6)"
      ],
      "execution_count": null,
      "outputs": [
        {
          "output_type": "stream",
          "name": "stdout",
          "text": [
            "Read All_Utterances/all_6.csv and created a DataFrame\n",
            "Found 98407 unique utterances\n",
            "Found 260522 unique pairs of words\n",
            "Found 11 pairs with first= and second=ත්\n",
            "INITIALIZED STAGE 14\n"
          ]
        }
      ]
    },
    {
      "cell_type": "code",
      "metadata": {
        "colab": {
          "base_uri": "https://localhost:8080/"
        },
        "id": "NWbeF4Oe8K0K",
        "outputId": "d1c410ef-e2e8-4da0-d91e-b1a8d20bac10"
      },
      "source": [
        "correction_inspect_toCorrect()"
      ],
      "execution_count": null,
      "outputs": [
        {
          "output_type": "stream",
          "name": "stdout",
          "text": [
            "Read To_Correct/toCorrect_14.csv and created a DataFrame\n",
            "   original  first second correction\n",
            "0   අපිව ත්   අපිව     ත්    අපිව ත්\n",
            "1  ඉතුරු ත්  ඉතුරු     ත්   ඉතුරු ත්\n",
            "2  කතාවෙ ත්  කතාවෙ     ත්   කතාවෙ ත්\n",
            "3  ගියාම ත්  ගියාම     ත්   ගියාම ත්\n",
            "4     දී ත්     දී     ත්      දී ත්\n"
          ]
        }
      ]
    },
    {
      "cell_type": "markdown",
      "metadata": {
        "id": "RTHXqXLo8cGe"
      },
      "source": [
        "# **15. Single - Ending with දී >>> Separate by meaning**"
      ]
    },
    {
      "cell_type": "markdown",
      "metadata": {
        "id": "OhKLrLwrAc3t"
      },
      "source": [
        "use the already corrected file"
      ]
    },
    {
      "cell_type": "markdown",
      "metadata": {
        "id": "S5cOZN-4AhZQ"
      },
      "source": [
        "# **16. Single - Starting with නා >>> Separate by meaning**"
      ]
    },
    {
      "cell_type": "code",
      "metadata": {
        "colab": {
          "base_uri": "https://localhost:8080/"
        },
        "id": "I1IwgpPQA3QB",
        "outputId": "8878e131-d44a-4dbd-d29d-75d75cc98673"
      },
      "source": [
        "s_16 = 'නා'\n",
        "force_change_stage(15)\n",
        "all_15 = correction_init(substring=s_16, starts_with=True, defaultSuffix=6)"
      ],
      "execution_count": null,
      "outputs": [
        {
          "output_type": "stream",
          "name": "stdout",
          "text": [
            "Read All_Utterances/all_6.csv and created a DataFrame\n",
            "Found 98407 unique utterances\n",
            "Found 63549 unique words\n",
            "Found 252 words with නා\n",
            "INITIALIZED STAGE 16\n"
          ]
        }
      ]
    },
    {
      "cell_type": "code",
      "metadata": {
        "colab": {
          "base_uri": "https://localhost:8080/"
        },
        "id": "pgRWcPWSBICM",
        "outputId": "5da1d88c-f685-46ea-d518-83f60fb97778"
      },
      "source": [
        "correction_inspect_toCorrect()"
      ],
      "execution_count": null,
      "outputs": [
        {
          "output_type": "stream",
          "name": "stdout",
          "text": [
            "Read To_Correct/toCorrect_16.csv and created a DataFrame\n",
            "    original correction\n",
            "0         නා         නා\n",
            "1  නාකයත්වයේ  නාකයත්වයේ\n",
            "2     නාකයන්     නාකයන්\n",
            "3      නාකයි      නාකයි\n",
            "4       නාකි       නාකි\n"
          ]
        }
      ]
    },
    {
      "cell_type": "markdown",
      "metadata": {
        "id": "KEyJclaNBnho"
      },
      "source": [
        "# **17. Pairs - Isolated නා as first >>> Join by meaning**"
      ]
    },
    {
      "cell_type": "code",
      "metadata": {
        "colab": {
          "base_uri": "https://localhost:8080/"
        },
        "id": "NN3wneuIBwfE",
        "outputId": "04519b06-a286-4934-b61d-e4155159e554"
      },
      "source": [
        "s_17 = 'නා'\n",
        "all_16 = correction_init(onPairs=True, first=s_17, defaultSuffix=6)"
      ],
      "execution_count": null,
      "outputs": [
        {
          "output_type": "stream",
          "name": "stdout",
          "text": [
            "Read All_Utterances/all_6.csv and created a DataFrame\n",
            "Found 98407 unique utterances\n",
            "Found 260522 unique pairs of words\n",
            "Found 24 pairs with first=නා and second=\n",
            "INITIALIZED STAGE 17\n"
          ]
        }
      ]
    },
    {
      "cell_type": "code",
      "metadata": {
        "colab": {
          "base_uri": "https://localhost:8080/"
        },
        "id": "3umEDVqLB-Li",
        "outputId": "8593a166-aba8-4c45-ac02-da4f15aca57a"
      },
      "source": [
        "correction_inspect_toCorrect()"
      ],
      "execution_count": null,
      "outputs": [
        {
          "output_type": "stream",
          "name": "stdout",
          "text": [
            "Read To_Correct/toCorrect_17.csv and created a DataFrame\n",
            "  original first second correction\n",
            "0  නා ගත්ත    නා   ගත්ත    නා ගත්ත\n",
            "1    නා ගන    නා     ගන      නා ගන\n",
            "2   නා ගස්    නා    ගස්     නා ගස්\n",
            "3   නා දලු    නා    දලු     නා දලු\n",
            "4    නා නා    නා     නා      නා නා\n"
          ]
        }
      ]
    },
    {
      "cell_type": "markdown",
      "metadata": {
        "id": "e7ohFqxQC7bc"
      },
      "source": [
        "# **18. Pairs - Isolated නි as first >>> Join**"
      ]
    },
    {
      "cell_type": "code",
      "metadata": {
        "colab": {
          "base_uri": "https://localhost:8080/"
        },
        "id": "DkcHrpIUDDPk",
        "outputId": "d38c3a1d-4789-413b-fd89-ef3f2aedb5bf"
      },
      "source": [
        "s_18 = 'නි'\n",
        "all_17 = correction_init(onPairs=True, first=s_18, defaultSuffix=6)"
      ],
      "execution_count": null,
      "outputs": [
        {
          "output_type": "stream",
          "name": "stdout",
          "text": [
            "Read All_Utterances/all_6.csv and created a DataFrame\n",
            "Found 98407 unique utterances\n",
            "Found 260522 unique pairs of words\n",
            "Found 0 pairs with first=නි and second=\n",
            "INITIALIZED STAGE 18\n"
          ]
        }
      ]
    },
    {
      "cell_type": "markdown",
      "metadata": {
        "id": "VkMHYqv-DZMj"
      },
      "source": [
        "**NO CORRECTIONS NEEDED**"
      ]
    },
    {
      "cell_type": "markdown",
      "metadata": {
        "id": "FmtI6WyBDd93"
      },
      "source": [
        "# **19. Pairs - Isolated නු as first >>> Join**"
      ]
    },
    {
      "cell_type": "code",
      "metadata": {
        "colab": {
          "base_uri": "https://localhost:8080/"
        },
        "id": "rsivREXMDo5Y",
        "outputId": "6d5567bb-1534-4fe8-a17e-f911e2a8d4ee"
      },
      "source": [
        "s_19 = 'නු'\n",
        "force_change_stage(18)\n",
        "all_18 = correction_init(onPairs=True, first=s_19, defaultSuffix=6)"
      ],
      "execution_count": null,
      "outputs": [
        {
          "output_type": "stream",
          "name": "stdout",
          "text": [
            "Read All_Utterances/all_6.csv and created a DataFrame\n",
            "Found 98407 unique utterances\n",
            "Found 260522 unique pairs of words\n",
            "Found 0 pairs with first= and second=නු\n",
            "INITIALIZED STAGE 19\n"
          ]
        }
      ]
    },
    {
      "cell_type": "markdown",
      "metadata": {
        "id": "K107XEgWED8_"
      },
      "source": [
        "**NO CORRECTIONS NEEDED**"
      ]
    },
    {
      "cell_type": "markdown",
      "metadata": {
        "id": "7qCYwoXXEG9p"
      },
      "source": [
        "# **20. Single - Ending with නේ >>> Separate by meaning**"
      ]
    },
    {
      "cell_type": "code",
      "metadata": {
        "colab": {
          "base_uri": "https://localhost:8080/"
        },
        "id": "HqGcyC-aEZQI",
        "outputId": "ab6c3b81-e225-4962-d9ff-85ae592ff825"
      },
      "source": [
        "s_20 = 'නේ'\n",
        "all_19 = correction_init(substring=s_20, defaultSuffix=6)"
      ],
      "execution_count": null,
      "outputs": [
        {
          "output_type": "stream",
          "name": "stdout",
          "text": [
            "Read All_Utterances/all_6.csv and created a DataFrame\n",
            "Found 98407 unique utterances\n",
            "Found 63549 unique words\n",
            "Found 915 words with නේ\n",
            "INITIALIZED STAGE 20\n"
          ]
        }
      ]
    },
    {
      "cell_type": "code",
      "metadata": {
        "colab": {
          "base_uri": "https://localhost:8080/"
        },
        "id": "-3FUdMS9Eu-u",
        "outputId": "ccc6912f-5cd5-4412-bd74-15e4c28e926d"
      },
      "source": [
        "correction_inspect_toCorrect()"
      ],
      "execution_count": null,
      "outputs": [
        {
          "output_type": "stream",
          "name": "stdout",
          "text": [
            "Read To_Correct/toCorrect_20.csv and created a DataFrame\n",
            "     original  correction\n",
            "0        අගනේ        අගනේ\n",
            "1     අගයන්නේ     අගයන්නේ\n",
            "2  අග්‍රවන්නේ  අග්‍රවන්නේ\n",
            "3     අඩුගනනේ     අඩුගනනේ\n",
            "4     අඩුගානේ     අඩුගානේ\n"
          ]
        }
      ]
    },
    {
      "cell_type": "markdown",
      "metadata": {
        "id": "LH2o8hlCGYj2"
      },
      "source": [
        "# **21. Pairs - Isolated නේ as second >>> Join by meaning**"
      ]
    },
    {
      "cell_type": "code",
      "metadata": {
        "colab": {
          "base_uri": "https://localhost:8080/"
        },
        "id": "5fOy25-aGfbK",
        "outputId": "1e0dc7b2-4dfe-4b12-d5e9-a334c3756d70"
      },
      "source": [
        "s_21 = 'නේ'\n",
        "all_20 = correction_init(onPairs=True, second=s_21, defaultSuffix=6)"
      ],
      "execution_count": null,
      "outputs": [
        {
          "output_type": "stream",
          "name": "stdout",
          "text": [
            "Read All_Utterances/all_6.csv and created a DataFrame\n",
            "Found 98407 unique utterances\n",
            "Found 260522 unique pairs of words\n",
            "Found 75 pairs with first= and second=නේ\n",
            "INITIALIZED STAGE 21\n"
          ]
        }
      ]
    },
    {
      "cell_type": "code",
      "metadata": {
        "colab": {
          "base_uri": "https://localhost:8080/"
        },
        "id": "N-WXfaxzGrOe",
        "outputId": "cb2428ad-e7d8-4730-cd51-fe8116246c07"
      },
      "source": [
        "correction_inspect_toCorrect()"
      ],
      "execution_count": null,
      "outputs": [
        {
          "output_type": "stream",
          "name": "stdout",
          "text": [
            "Read To_Correct/toCorrect_21.csv and created a DataFrame\n",
            "        original       first second     correction\n",
            "0       අඩවිය නේ       අඩවිය     නේ       අඩවිය නේ\n",
            "1       අඩුයි නේ       අඩුයි     නේ       අඩුයි නේ\n",
            "2  අසාධාරණයක් නේ  අසාධාරණයක්     නේ  අසාධාරණයක් නේ\n",
            "3         ඇති නේ         ඇති     නේ         ඇති නේ\n",
            "4       ඇහැකි නේ       ඇහැකි     නේ       ඇහැකි නේ\n"
          ]
        }
      ]
    },
    {
      "cell_type": "markdown",
      "metadata": {
        "id": "_OwVOx35KPsH"
      },
      "source": [
        "# **22. Pairs - Isolated ප්‍ර as first >>> Join**"
      ]
    },
    {
      "cell_type": "code",
      "metadata": {
        "colab": {
          "base_uri": "https://localhost:8080/"
        },
        "id": "Qh_83SDlKdoN",
        "outputId": "4a2c4d1d-5214-43aa-af0b-1f4665381022"
      },
      "source": [
        "s_22 = 'ප්‍ර'\n",
        "force_change_stage(21)\n",
        "all_22 = correction_init(onPairs=True, first=s_22, defaultSuffix=6)"
      ],
      "execution_count": null,
      "outputs": [
        {
          "output_type": "stream",
          "name": "stdout",
          "text": [
            "Read All_Utterances/all_6.csv and created a DataFrame\n",
            "Found 98407 unique utterances\n",
            "Found 260522 unique pairs of words\n",
            "Found 0 pairs with first=ප්‍ර and second=\n",
            "INITIALIZED STAGE 22\n"
          ]
        }
      ]
    },
    {
      "cell_type": "markdown",
      "metadata": {
        "id": "OTsFN1sKKsAl"
      },
      "source": [
        "**NO CORRECTIONS NEEDED**"
      ]
    },
    {
      "cell_type": "markdown",
      "metadata": {
        "id": "TPgWPVXN_Lad"
      },
      "source": [
        "# Attention:"
      ]
    },
    {
      "cell_type": "markdown",
      "metadata": {
        "id": "WZB1dkkZ_Tbv"
      },
      "source": [
        "**After 22, the method parameter `justChecking` in `correction_init()` function shall be used to avoid unnecessarily incrementing the `STAGE` and writing `toCorrect` files.**"
      ]
    },
    {
      "cell_type": "markdown",
      "metadata": {
        "id": "ZdoPXktY-7LX"
      },
      "source": [
        "# **23. Pairs - Isolated ප්‍රති as first >>> Join**"
      ]
    },
    {
      "cell_type": "code",
      "metadata": {
        "colab": {
          "base_uri": "https://localhost:8080/"
        },
        "id": "wPMeycXw-dVv",
        "outputId": "a3c78d8f-3213-4e03-a122-c0e535f4bb85"
      },
      "source": [
        "s_23 = 'ප්‍රති'\n",
        "all_22 = correction_init(onPairs=True, first=s_23, defaultSuffix=6)"
      ],
      "execution_count": null,
      "outputs": [
        {
          "output_type": "stream",
          "name": "stdout",
          "text": [
            "Read All_Utterances/all_6.csv and created a DataFrame\n",
            "Found 98407 unique utterances\n",
            "Found 260522 unique pairs of words\n",
            "Found 6 pairs with first=ප්‍රති and second=\n",
            "INITIALIZED STAGE 23\n"
          ]
        }
      ]
    },
    {
      "cell_type": "code",
      "metadata": {
        "colab": {
          "base_uri": "https://localhost:8080/"
        },
        "id": "6H5EczLH_px6",
        "outputId": "77877c2a-c909-4600-9efd-b6cc2ac81dff"
      },
      "source": [
        "correction_inspect_toCorrect()"
      ],
      "execution_count": null,
      "outputs": [
        {
          "output_type": "stream",
          "name": "stdout",
          "text": [
            "Read To_Correct/toCorrect_23.csv and created a DataFrame\n",
            "             original   first       second          correction\n",
            "0     ප්‍රති නිර්මාණය  ප්‍රති     නිර්මාණය     ප්‍රති නිර්මාණය\n",
            "1  ප්‍රති නිර්මාණයක්ද  ප්‍රති  නිර්මාණයක්ද  ප්‍රති නිර්මාණයක්ද\n",
            "2      ප්‍රති ප්‍රහාර  ප්‍රති      ප්‍රහාර      ප්‍රති ප්‍රහාර\n",
            "3     ප්‍රති ප්‍රහාරය  ප්‍රති     ප්‍රහාරය     ප්‍රති ප්‍රහාරය\n",
            "4      ප්‍රති විරුද්ධ  ප්‍රති      විරුද්ධ      ප්‍රති විරුද්ධ\n"
          ]
        }
      ]
    },
    {
      "cell_type": "markdown",
      "metadata": {
        "id": "oiwbOepXBNSm"
      },
      "source": [
        "# **24. Pairs - Isolated පිළි as first >>> Join**"
      ]
    },
    {
      "cell_type": "code",
      "metadata": {
        "colab": {
          "base_uri": "https://localhost:8080/"
        },
        "id": "p-V3XNEGAyXU",
        "outputId": "145f3639-4577-416e-9049-14b13d6206d8"
      },
      "source": [
        "s_24 = 'පිළි'\n",
        "all_23 = correction_init(onPairs=True, first=s_24, defaultSuffix=6)"
      ],
      "execution_count": null,
      "outputs": [
        {
          "output_type": "stream",
          "name": "stdout",
          "text": [
            "Read All_Utterances/all_6.csv and created a DataFrame\n",
            "Found 98407 unique utterances\n",
            "Found 260522 unique pairs of words\n",
            "Found 8 pairs with first=පිළි and second=\n",
            "INITIALIZED STAGE 24\n"
          ]
        }
      ]
    },
    {
      "cell_type": "code",
      "metadata": {
        "colab": {
          "base_uri": "https://localhost:8080/"
        },
        "id": "fcA5que4BKJ-",
        "outputId": "718dbfd0-d125-46da-c95b-a0f6933e71d1"
      },
      "source": [
        "correction_inspect_toCorrect()"
      ],
      "execution_count": null,
      "outputs": [
        {
          "output_type": "stream",
          "name": "stdout",
          "text": [
            "Read To_Correct/toCorrect_24.csv and created a DataFrame\n",
            "     original first second  correction\n",
            "0    පිළි අරං  පිළි    අරං    පිළි අරං\n",
            "1  පිළි ගත්තා  පිළි  ගත්තා  පිළි ගත්තා\n",
            "2  පිළි ගන්නෙ  පිළි  ගන්නෙ  පිළි ගන්නෙ\n",
            "3  පිළි ගන්නේ  පිළි  ගන්නේ  පිළි ගන්නේ\n",
            "4  පිළි ගන්නෝ  පිළි  ගන්නෝ  පිළි ගන්නෝ\n"
          ]
        }
      ]
    },
    {
      "cell_type": "markdown",
      "metadata": {
        "id": "r94Ydyo4Bi78"
      },
      "source": [
        "# **25. Pairs - Isolated පිරි as first >>> Join by meaning**"
      ]
    },
    {
      "cell_type": "code",
      "metadata": {
        "colab": {
          "base_uri": "https://localhost:8080/"
        },
        "id": "OhG4GJ0hBepv",
        "outputId": "bc2b4deb-f9e2-4556-a306-7a0186d65162"
      },
      "source": [
        "s_25 = 'පිරි'\n",
        "all_24 = correction_init(onPairs=True, first=s_25, defaultSuffix=6)"
      ],
      "execution_count": null,
      "outputs": [
        {
          "output_type": "stream",
          "name": "stdout",
          "text": [
            "Read All_Utterances/all_6.csv and created a DataFrame\n",
            "Found 98407 unique utterances\n",
            "Found 260522 unique pairs of words\n",
            "Found 16 pairs with first=පිරි and second=\n",
            "INITIALIZED STAGE 25\n"
          ]
        }
      ]
    },
    {
      "cell_type": "code",
      "metadata": {
        "colab": {
          "base_uri": "https://localhost:8080/"
        },
        "id": "GxkNRPY3B45F",
        "outputId": "4bf0b2b9-9598-4cb6-fb2d-cdd171a61b50"
      },
      "source": [
        "correction_inspect_toCorrect()"
      ],
      "execution_count": null,
      "outputs": [
        {
          "output_type": "stream",
          "name": "stdout",
          "text": [
            "Read To_Correct/toCorrect_25.csv and created a DataFrame\n",
            "         original first     second      correction\n",
            "0  පිරි ඉතිහාසයක්  පිරි  ඉතිහාසයක්  පිරි ඉතිහාසයක්\n",
            "1      පිරි උතුමෝ  පිරි      උතුමෝ      පිරි උතුමෝ\n",
            "2        පිරි කතා  පිරි        කතා        පිරි කතා\n",
            "3         පිරි කර  පිරි         කර         පිරි කර\n",
            "4       පිරි කුඩා  පිරි       කුඩා       පිරි කුඩා\n"
          ]
        }
      ]
    },
    {
      "cell_type": "markdown",
      "metadata": {
        "id": "KfIFGOr4CVGr"
      },
      "source": [
        "# **26. Pairs - Isolated පරි as first >>> Join**"
      ]
    },
    {
      "cell_type": "code",
      "metadata": {
        "colab": {
          "base_uri": "https://localhost:8080/"
        },
        "id": "C-sxMphKCFaP",
        "outputId": "9bb63dc1-f48a-402f-958c-cbe819a687ea"
      },
      "source": [
        "s_26 = 'පරි'\n",
        "all_25 = correction_init(onPairs=True, first=s_26, defaultSuffix=6)"
      ],
      "execution_count": null,
      "outputs": [
        {
          "output_type": "stream",
          "name": "stdout",
          "text": [
            "Read All_Utterances/all_6.csv and created a DataFrame\n",
            "Found 98407 unique utterances\n",
            "Found 260522 unique pairs of words\n",
            "Found 1 pairs with first=පරි and second=\n",
            "INITIALIZED STAGE 26\n"
          ]
        }
      ]
    },
    {
      "cell_type": "code",
      "metadata": {
        "colab": {
          "base_uri": "https://localhost:8080/"
        },
        "id": "jeHuht1gCSrs",
        "outputId": "255e6ee9-46c0-4824-b7c6-ab94217ea3da"
      },
      "source": [
        "correction_inspect_toCorrect()"
      ],
      "execution_count": null,
      "outputs": [
        {
          "output_type": "stream",
          "name": "stdout",
          "text": [
            "Read To_Correct/toCorrect_26.csv and created a DataFrame\n",
            "    original first second correction\n",
            "0  පරි පීඩිත   පරි  පීඩිත  පරි පීඩිත\n"
          ]
        }
      ]
    },
    {
      "cell_type": "markdown",
      "metadata": {
        "id": "4Fr9FjsEC7Aw"
      },
      "source": [
        "# **27. Pairs - Isolated මි as second >>> Join**"
      ]
    },
    {
      "cell_type": "code",
      "metadata": {
        "colab": {
          "base_uri": "https://localhost:8080/"
        },
        "id": "mseMyhUkCskm",
        "outputId": "d6b5445b-89d5-4749-a740-cf80a490c3cf"
      },
      "source": [
        "s_27 = 'මි'\n",
        "all_26 = correction_init(onPairs=True, second=s_27, defaultSuffix=6)"
      ],
      "execution_count": null,
      "outputs": [
        {
          "output_type": "stream",
          "name": "stdout",
          "text": [
            "Read All_Utterances/all_6.csv and created a DataFrame\n",
            "Found 98407 unique utterances\n",
            "Found 260522 unique pairs of words\n",
            "Found 2 pairs with first= and second=මි\n",
            "INITIALIZED STAGE 27\n"
          ]
        }
      ]
    },
    {
      "cell_type": "code",
      "metadata": {
        "colab": {
          "base_uri": "https://localhost:8080/"
        },
        "id": "0PQla-z1DAYV",
        "outputId": "9a491c3c-00f7-48f5-e390-39ddec5b8155"
      },
      "source": [
        "correction_inspect_toCorrect()"
      ],
      "execution_count": null,
      "outputs": [
        {
          "output_type": "stream",
          "name": "stdout",
          "text": [
            "Read To_Correct/toCorrect_27.csv and created a DataFrame\n",
            "        original       first second     correction\n",
            "0  පුරාණෝක්ති මි  පුරාණෝක්ති     මි  පුරාණෝක්ති මි\n",
            "1       හරකයි මි       හරකයි     මි       හරකයි මි\n"
          ]
        }
      ]
    },
    {
      "cell_type": "markdown",
      "metadata": {
        "id": "Q8Ug1wMRDmNz"
      },
      "source": [
        "# **28. Pairs - Isolated මී as first >>> Join by meaning**"
      ]
    },
    {
      "cell_type": "code",
      "metadata": {
        "colab": {
          "base_uri": "https://localhost:8080/"
        },
        "id": "WSEsYXPyEEWw",
        "outputId": "1c86cee4-27ea-4e41-bec4-5a17ccd57cda"
      },
      "source": [
        "s_28 = 'මී'\n",
        "all_27 = correction_init(onPairs=True, first=s_28, defaultSuffix=6)"
      ],
      "execution_count": null,
      "outputs": [
        {
          "output_type": "stream",
          "name": "stdout",
          "text": [
            "Read All_Utterances/all_6.csv and created a DataFrame\n",
            "Found 98407 unique utterances\n",
            "Found 260522 unique pairs of words\n",
            "Found 20 pairs with first=මී and second=\n",
            "INITIALIZED STAGE 28\n"
          ]
        }
      ]
    },
    {
      "cell_type": "code",
      "metadata": {
        "colab": {
          "base_uri": "https://localhost:8080/"
        },
        "id": "sS6c12IiERZL",
        "outputId": "fd76e893-689b-4c8b-de9c-51bfa1a62f8f"
      },
      "source": [
        "correction_inspect_toCorrect()"
      ],
      "execution_count": null,
      "outputs": [
        {
          "output_type": "stream",
          "name": "stdout",
          "text": [
            "Read To_Correct/toCorrect_28.csv and created a DataFrame\n",
            "    original first  second correction\n",
            "0  මී කඩන්නට    මී  කඩන්නට  මී කඩන්නට\n",
            "1  මී කැටකාල    මී  කැටකාල  මී කැටකාල\n",
            "2     මී කුණ    මී     කුණ     මී කුණ\n",
            "3   මී කුණක්    මී   කුණක්   මී කුණක්\n",
            "4   මී ගවයන්    මී   ගවයන්   මී ගවයන්\n"
          ]
        }
      ]
    },
    {
      "cell_type": "markdown",
      "metadata": {
        "id": "wq96-JbDEciW"
      },
      "source": [
        "# **29. Single - Starting with මී >>> Separate by meaning**"
      ]
    },
    {
      "cell_type": "code",
      "metadata": {
        "colab": {
          "base_uri": "https://localhost:8080/"
        },
        "id": "4AqsQp29EhqG",
        "outputId": "b49bb1ef-6181-4d54-fca2-cea6c66794f6"
      },
      "source": [
        "s_29 = 'මී'\n",
        "all_28 = correction_init(substring=s_29, starts_with=True, defaultSuffix=6)"
      ],
      "execution_count": null,
      "outputs": [
        {
          "output_type": "stream",
          "name": "stdout",
          "text": [
            "Read All_Utterances/all_6.csv and created a DataFrame\n",
            "Found 98407 unique utterances\n",
            "Found 63549 unique words\n",
            "Found 48 words with මී\n",
            "INITIALIZED STAGE 29\n"
          ]
        }
      ]
    },
    {
      "cell_type": "code",
      "metadata": {
        "colab": {
          "base_uri": "https://localhost:8080/"
        },
        "id": "V655WXlWEtlI",
        "outputId": "f2f00e61-43f8-42ee-8b93-db7834d36898"
      },
      "source": [
        "correction_inspect_toCorrect()"
      ],
      "execution_count": null,
      "outputs": [
        {
          "output_type": "stream",
          "name": "stdout",
          "text": [
            "Read To_Correct/toCorrect_29.csv and created a DataFrame\n",
            "    original correction\n",
            "0         මී         මී\n",
            "1  මීකිරිවලට  මීකිරිවලට\n",
            "2      මීගමු      මීගමු\n",
            "3     මීගමුව     මීගමුව\n",
            "4    මීගමුවේ    මීගමුවේ\n"
          ]
        }
      ]
    },
    {
      "cell_type": "markdown",
      "metadata": {
        "id": "1bOsb-tCFA4k"
      },
      "source": [
        "# **30. Pairs - Isolated මෙ as first >>> Join**"
      ]
    },
    {
      "cell_type": "code",
      "metadata": {
        "colab": {
          "base_uri": "https://localhost:8080/"
        },
        "id": "yu3-zKvvE0ig",
        "outputId": "177a97e1-e0a8-44d3-b7b3-95a916147f24"
      },
      "source": [
        "s_30 = 'මෙ'\n",
        "all_29 = correction_init(onPairs=True, first=s_30, defaultSuffix=6)"
      ],
      "execution_count": null,
      "outputs": [
        {
          "output_type": "stream",
          "name": "stdout",
          "text": [
            "Read All_Utterances/all_6.csv and created a DataFrame\n",
            "Found 98407 unique utterances\n",
            "Found 260522 unique pairs of words\n",
            "Found 25 pairs with first=මෙ and second=\n",
            "INITIALIZED STAGE 30\n"
          ]
        }
      ]
    },
    {
      "cell_type": "code",
      "metadata": {
        "colab": {
          "base_uri": "https://localhost:8080/"
        },
        "id": "Jx5CgkGiFIKK",
        "outputId": "41fb4f9c-da5a-4e73-b976-cce1a7b837f6"
      },
      "source": [
        "correction_inspect_toCorrect()"
      ],
      "execution_count": null,
      "outputs": [
        {
          "output_type": "stream",
          "name": "stdout",
          "text": [
            "Read To_Correct/toCorrect_30.csv and created a DataFrame\n",
            "    original first  second correction\n",
            "0    මෙ ආයතන    මෙ    ආයතන    මෙ ආයතන\n",
            "1     මෙ කතා    මෙ     කතා     මෙ කතා\n",
            "2  මෙ කරත්තෙ    මෙ  කරත්තෙ  මෙ කරත්තෙ\n",
            "3    මෙ කෑලේ    මෙ    කෑලේ    මෙ කෑලේ\n",
            "4      මෙ කී    මෙ      කී      මෙ කී\n"
          ]
        }
      ]
    },
    {
      "cell_type": "markdown",
      "metadata": {
        "id": "1avTx9ZxFWlH"
      },
      "source": [
        "# **31. Single - Ending with ය >>> Join by meaning**"
      ]
    },
    {
      "cell_type": "code",
      "metadata": {
        "colab": {
          "base_uri": "https://localhost:8080/"
        },
        "id": "IMy2Z8wXFc6I",
        "outputId": "b0e1dab2-f4a8-4808-e010-c3d89934e2cb"
      },
      "source": [
        "s_31 = 'ය'\n",
        "all_30 = correction_init(substring=s_31, defaultSuffix=6)"
      ],
      "execution_count": null,
      "outputs": [
        {
          "output_type": "stream",
          "name": "stdout",
          "text": [
            "Read All_Utterances/all_6.csv and created a DataFrame\n",
            "Found 98407 unique utterances\n",
            "Found 63549 unique words\n",
            "Found 4161 words with ය\n",
            "INITIALIZED STAGE 31\n"
          ]
        }
      ]
    },
    {
      "cell_type": "code",
      "metadata": {
        "colab": {
          "base_uri": "https://localhost:8080/"
        },
        "id": "2Gh4esGrFn3q",
        "outputId": "ff5cf866-5eec-475f-8912-ad47a9dda799"
      },
      "source": [
        "correction_inspect_toCorrect()"
      ],
      "execution_count": null,
      "outputs": [
        {
          "output_type": "stream",
          "name": "stdout",
          "text": [
            "Read To_Correct/toCorrect_31.csv and created a DataFrame\n",
            "  original correction\n",
            "0     අංකය       අංකය\n",
            "1   අංකුරය     අංකුරය\n",
            "2  අංකෙළිය    අංකෙළිය\n",
            "3     අංගය       අංගය\n",
            "4     අංශය       අංශය\n"
          ]
        }
      ]
    },
    {
      "cell_type": "markdown",
      "metadata": {
        "id": "qwMoyqlVGv97"
      },
      "source": [
        "# **32. Single - Starting with යා >>> Separate by meaning**"
      ]
    },
    {
      "cell_type": "code",
      "metadata": {
        "colab": {
          "base_uri": "https://localhost:8080/"
        },
        "id": "TQWPDsVfG2th",
        "outputId": "bba81243-7992-435d-d666-4a2301c75a10"
      },
      "source": [
        "s_32 = 'යා'\n",
        "all_31 = correction_init(substring=s_32, starts_with=True, defaultSuffix=6)"
      ],
      "execution_count": null,
      "outputs": [
        {
          "output_type": "stream",
          "name": "stdout",
          "text": [
            "Read All_Utterances/all_6.csv and created a DataFrame\n",
            "Found 98407 unique utterances\n",
            "Found 63549 unique words\n",
            "Found 148 words with යා\n",
            "INITIALIZED STAGE 32\n"
          ]
        }
      ]
    },
    {
      "cell_type": "code",
      "metadata": {
        "colab": {
          "base_uri": "https://localhost:8080/"
        },
        "id": "NEoQ3unKHDaD",
        "outputId": "77fa11d1-4f87-4677-a413-77e9ce4760b9"
      },
      "source": [
        "correction_inspect_toCorrect()"
      ],
      "execution_count": null,
      "outputs": [
        {
          "output_type": "stream",
          "name": "stdout",
          "text": [
            "Read To_Correct/toCorrect_32.csv and created a DataFrame\n",
            "  original correction\n",
            "0       යා         යා\n",
            "1    යාකරන      යාකරන\n",
            "2   යාකලාම     යාකලාම\n",
            "3      යාග        යාග\n",
            "4     යාගත       යාගත\n"
          ]
        }
      ]
    },
    {
      "cell_type": "markdown",
      "metadata": {
        "id": "vhUAE9VcJjZo"
      },
      "source": [
        "# **33. Single - Ending with ලු >>> Separate by meaning**"
      ]
    },
    {
      "cell_type": "code",
      "metadata": {
        "colab": {
          "base_uri": "https://localhost:8080/"
        },
        "id": "RROLxNYoJtYz",
        "outputId": "feaf74ed-ae56-4d53-8c7a-41a698cc0876"
      },
      "source": [
        "s_33 = 'ලු'\n",
        "all_32 = correction_init(substring=s_33, defaultSuffix=6)"
      ],
      "execution_count": null,
      "outputs": [
        {
          "output_type": "stream",
          "name": "stdout",
          "text": [
            "Read All_Utterances/all_6.csv and created a DataFrame\n",
            "Found 98407 unique utterances\n",
            "Found 63549 unique words\n",
            "Found 183 words with ලු\n",
            "INITIALIZED STAGE 33\n"
          ]
        }
      ]
    },
    {
      "cell_type": "code",
      "metadata": {
        "colab": {
          "base_uri": "https://localhost:8080/"
        },
        "id": "fM-ygM32KCJY",
        "outputId": "a2367dd8-ee64-49d0-c0cf-9eaf43b68381"
      },
      "source": [
        "correction_inspect_toCorrect()"
      ],
      "execution_count": null,
      "outputs": [
        {
          "output_type": "stream",
          "name": "stdout",
          "text": [
            "Read To_Correct/toCorrect_33.csv and created a DataFrame\n",
            "    original correction\n",
            "0   අඟවන්නලු   අඟවන්නලු\n",
            "1  අඩුවෙලාලු  අඩුවෙලාලු\n",
            "2       අයලු       අයලු\n",
            "3    අයෙක්ලු    අයෙක්ලු\n",
            "4        අලු        අලු\n"
          ]
        }
      ]
    },
    {
      "cell_type": "markdown",
      "metadata": {
        "id": "gE6udQuXKXDT"
      },
      "source": [
        "# **34. Single - Ending with ලදි >>> Separate by meaning**"
      ]
    },
    {
      "cell_type": "code",
      "metadata": {
        "colab": {
          "base_uri": "https://localhost:8080/"
        },
        "id": "dVdpXChmKlfo",
        "outputId": "a5655298-5c29-4edf-b000-5b0481f95e00"
      },
      "source": [
        "s_34 = 'ලදි'\n",
        "all_33 = correction_init(substring=s_34, defaultSuffix=6)"
      ],
      "execution_count": null,
      "outputs": [
        {
          "output_type": "stream",
          "name": "stdout",
          "text": [
            "Read All_Utterances/all_6.csv and created a DataFrame\n",
            "Found 98407 unique utterances\n",
            "Found 63549 unique words\n",
            "Found 7 words with ලදි\n",
            "INITIALIZED STAGE 34\n"
          ]
        }
      ]
    },
    {
      "cell_type": "code",
      "metadata": {
        "colab": {
          "base_uri": "https://localhost:8080/"
        },
        "id": "lAw0apQqK0VY",
        "outputId": "addc38c8-e3ec-4826-9e4b-562d8848821a"
      },
      "source": [
        "correction_inspect_toCorrect()"
      ],
      "execution_count": null,
      "outputs": [
        {
          "output_type": "stream",
          "name": "stdout",
          "text": [
            "Read To_Correct/toCorrect_34.csv and created a DataFrame\n",
            "      original   correction\n",
            "0   අවස්ථාවලදි   අවස්ථාවලදි\n",
            "1     තැන්වලදි     තැන්වලදි\n",
            "2        තුලදි        තුලදි\n",
            "3  ප්‍රශ්නවලදි  ප්‍රශ්නවලදි\n",
            "4        මුලදි        මුලදි\n"
          ]
        }
      ]
    },
    {
      "cell_type": "markdown",
      "metadata": {
        "id": "Sv4JY_VTLHgD"
      },
      "source": [
        "# **35. Single - Ending with ලදී >>> Separate by meaning**"
      ]
    },
    {
      "cell_type": "code",
      "metadata": {
        "colab": {
          "base_uri": "https://localhost:8080/"
        },
        "id": "CEbXbZlOLZVq",
        "outputId": "54b6dab4-a70f-4035-a23a-234630e8a10a"
      },
      "source": [
        "s_35 = 'ලදී'\n",
        "all_34 = correction_init(substring=s_35, defaultSuffix=6)"
      ],
      "execution_count": null,
      "outputs": [
        {
          "output_type": "stream",
          "name": "stdout",
          "text": [
            "Read All_Utterances/all_6.csv and created a DataFrame\n",
            "Found 98407 unique utterances\n",
            "Found 63549 unique words\n",
            "Found 58 words with ලදී\n",
            "INITIALIZED STAGE 35\n"
          ]
        }
      ]
    },
    {
      "cell_type": "code",
      "metadata": {
        "colab": {
          "base_uri": "https://localhost:8080/"
        },
        "id": "SSMeCq_ILrSx",
        "outputId": "3c64ad09-ce8b-47a1-fa98-6efc83fb1476"
      },
      "source": [
        "correction_inspect_toCorrect()"
      ],
      "execution_count": null,
      "outputs": [
        {
          "output_type": "stream",
          "name": "stdout",
          "text": [
            "Read To_Correct/toCorrect_35.csv and created a DataFrame\n",
            "        original     correction\n",
            "0       අවධිවලදී       අවධිවලදී\n",
            "1  අවස්ථාවන්වලදී  අවස්ථාවන්වලදී\n",
            "2     අවස්ථාවලදී     අවස්ථාවලදී\n",
            "3          අසලදී          අසලදී\n",
            "4     ආත්මභවවලදී     ආත්මභවවලදී\n"
          ]
        }
      ]
    },
    {
      "cell_type": "markdown",
      "metadata": {
        "id": "r7YASf-PMHZJ"
      },
      "source": [
        "# **36. Single - Ending with ලද >>> Separate by meaning**"
      ]
    },
    {
      "cell_type": "code",
      "metadata": {
        "colab": {
          "base_uri": "https://localhost:8080/"
        },
        "id": "73WVtkA_MYvz",
        "outputId": "56985dc2-796f-4194-c6db-6d6f05615692"
      },
      "source": [
        "s_36 = 'ලද'\n",
        "all_35 = correction_init(substring=s_36, defaultSuffix=6)"
      ],
      "execution_count": null,
      "outputs": [
        {
          "output_type": "stream",
          "name": "stdout",
          "text": [
            "Read All_Utterances/all_6.csv and created a DataFrame\n",
            "Found 98407 unique utterances\n",
            "Found 63549 unique words\n",
            "Found 49 words with ලද\n",
            "INITIALIZED STAGE 36\n"
          ]
        }
      ]
    },
    {
      "cell_type": "code",
      "metadata": {
        "colab": {
          "base_uri": "https://localhost:8080/"
        },
        "id": "fuHfZMEbMq_o",
        "outputId": "d4a11f15-e9ee-44d3-f368-8c753237ac28"
      },
      "source": [
        "correction_inspect_toCorrect()"
      ],
      "execution_count": null,
      "outputs": [
        {
          "output_type": "stream",
          "name": "stdout",
          "text": [
            "Read To_Correct/toCorrect_36.csv and created a DataFrame\n",
            "  original correction\n",
            "0    අදාලද      අදාලද\n",
            "1     අසලද       අසලද\n",
            "2  ආහාරවලද    ආහාරවලද\n",
            "3     ඉදලද       ඉදලද\n",
            "4  උගන්නලද    උගන්නලද\n"
          ]
        }
      ]
    },
    {
      "cell_type": "markdown",
      "metadata": {
        "id": "0GuGTZX2OhQs"
      },
      "source": [
        "# **37. Single - Ending with වේවා >>> Separate by meaning**"
      ]
    },
    {
      "cell_type": "code",
      "metadata": {
        "colab": {
          "base_uri": "https://localhost:8080/"
        },
        "id": "EsPUGfPDPctc",
        "outputId": "e825348e-9a16-4a98-d9fe-b2aa0952d169"
      },
      "source": [
        "s_37 = 'වේවා'\n",
        "all_36 = correction_init(substring=s_37, defaultSuffix=6)"
      ],
      "execution_count": null,
      "outputs": [
        {
          "output_type": "stream",
          "name": "stdout",
          "text": [
            "Read All_Utterances/all_6.csv and created a DataFrame\n",
            "Found 98407 unique utterances\n",
            "Found 63549 unique words\n",
            "Found 13 words with වේවා\n",
            "INITIALIZED STAGE 37\n"
          ]
        }
      ]
    },
    {
      "cell_type": "code",
      "metadata": {
        "colab": {
          "base_uri": "https://localhost:8080/"
        },
        "id": "ZLuSrCIZQd51",
        "outputId": "f717a71d-cb78-4621-9ac7-c3b9b433b9a3"
      },
      "source": [
        "correction_inspect_toCorrect()"
      ],
      "execution_count": null,
      "outputs": [
        {
          "output_type": "stream",
          "name": "stdout",
          "text": [
            "Read To_Correct/toCorrect_37.csv and created a DataFrame\n",
            "      original   correction\n",
            "0  ඕනියෝජයවේවා  ඕනියෝජයවේවා\n",
            "1      කියවේවා      කියවේවා\n",
            "2      ජයමවේවා      ජයමවේවා\n",
            "3       ජයවේවා       ජයවේවා\n",
            "4   දියුණුවේවා   දියුණුවේවා\n"
          ]
        }
      ]
    },
    {
      "cell_type": "markdown",
      "metadata": {
        "id": "UxsVflWycQ2v"
      },
      "source": [
        "use already corrected file"
      ]
    },
    {
      "cell_type": "markdown",
      "metadata": {
        "id": "iSVZDewrUHZ3"
      },
      "source": [
        "# **38. Pairs - Isolated ස as first >>> Join**"
      ]
    },
    {
      "cell_type": "code",
      "metadata": {
        "colab": {
          "base_uri": "https://localhost:8080/"
        },
        "id": "6Zx4mttERZxZ",
        "outputId": "9ef2fdde-1e3c-4d2a-e454-ad4a4ce61af7"
      },
      "source": [
        "s_38 = 'ස'\n",
        "all_37 = correction_init(onPairs=True, first=s_38, defaultSuffix=6)"
      ],
      "execution_count": null,
      "outputs": [
        {
          "output_type": "stream",
          "name": "stdout",
          "text": [
            "Read All_Utterances/all_6.csv and created a DataFrame\n",
            "Found 98407 unique utterances\n",
            "Found 260522 unique pairs of words\n",
            "Found 2 pairs with first=ස and second=\n",
            "INITIALIZED STAGE 38\n"
          ]
        }
      ]
    },
    {
      "cell_type": "code",
      "metadata": {
        "colab": {
          "base_uri": "https://localhost:8080/"
        },
        "id": "nZiZNBPBUNDp",
        "outputId": "98ff62a5-0e0a-4e8f-94b5-9ab76ea90844"
      },
      "source": [
        "correction_inspect_toCorrect()"
      ],
      "execution_count": null,
      "outputs": [
        {
          "output_type": "stream",
          "name": "stdout",
          "text": [
            "Read To_Correct/toCorrect_38.csv and created a DataFrame\n",
            "  original first second correction\n",
            "0   ස අකුර     ස   අකුර     ස අකුර\n",
            "1   ස වැනි     ස   වැනි     ස වැනි\n"
          ]
        }
      ]
    },
    {
      "cell_type": "markdown",
      "metadata": {
        "id": "jymITL3hUZ4P"
      },
      "source": [
        "# **39. Pairs - Isolated සහ as first >>> Join by meaning**"
      ]
    },
    {
      "cell_type": "code",
      "metadata": {
        "colab": {
          "base_uri": "https://localhost:8080/"
        },
        "id": "INL-ODpeUfk5",
        "outputId": "057ebcae-9ee4-4737-889f-ba1ce35ca967"
      },
      "source": [
        "s_39 = 'සහ'\n",
        "all_38 = correction_init(onPairs=True, first=s_39, defaultSuffix=6)"
      ],
      "execution_count": null,
      "outputs": [
        {
          "output_type": "stream",
          "name": "stdout",
          "text": [
            "Read All_Utterances/all_6.csv and created a DataFrame\n",
            "Found 98407 unique utterances\n",
            "Found 260522 unique pairs of words\n",
            "Found 524 pairs with first=සහ and second=\n",
            "INITIALIZED STAGE 39\n"
          ]
        }
      ]
    },
    {
      "cell_type": "code",
      "metadata": {
        "colab": {
          "base_uri": "https://localhost:8080/"
        },
        "id": "TAWQ3bFmUrua",
        "outputId": "70dcc680-606a-4fd8-fcbd-602c4b24ffc5"
      },
      "source": [
        "correction_inspect_toCorrect()"
      ],
      "execution_count": null,
      "outputs": [
        {
          "output_type": "stream",
          "name": "stdout",
          "text": [
            "Read To_Correct/toCorrect_39.csv and created a DataFrame\n",
            "         original first       second      correction\n",
            "0          සහ අංක    සහ          අංක          සහ අංක\n",
            "1  සහ අගමැතිතුමාට    සහ  අගමැතිතුමාට  සහ අගමැතිතුමාට\n",
            "2      සහ අජාසත්ත    සහ      අජාසත්ත      සහ අජාසත්ත\n",
            "3        සහ අජිත්    සහ        අජිත්        සහ අජිත්\n",
            "4          සහ අඩු    සහ          අඩු          සහ අඩු\n"
          ]
        }
      ]
    },
    {
      "cell_type": "markdown",
      "metadata": {
        "id": "OvZWKPaVVDsU"
      },
      "source": [
        "# **40. Pairs - Isolated සු as first >>> Join**"
      ]
    },
    {
      "cell_type": "code",
      "metadata": {
        "colab": {
          "base_uri": "https://localhost:8080/"
        },
        "id": "CxcvCAYpU3Wk",
        "outputId": "ca338be5-6116-4980-d9ba-851eae2b3823"
      },
      "source": [
        "s_40 = 'සු'\n",
        "all_39 = correction_init(onPairs=True, first=s_40, defaultSuffix=6)"
      ],
      "execution_count": null,
      "outputs": [
        {
          "output_type": "stream",
          "name": "stdout",
          "text": [
            "Read All_Utterances/all_6.csv and created a DataFrame\n",
            "Found 98407 unique utterances\n",
            "Found 260522 unique pairs of words\n",
            "Found 1 pairs with first=සු and second=\n",
            "INITIALIZED STAGE 40\n"
          ]
        }
      ]
    },
    {
      "cell_type": "code",
      "metadata": {
        "colab": {
          "base_uri": "https://localhost:8080/"
        },
        "id": "rRmAlcStVJP_",
        "outputId": "df299f9a-0646-4d13-8b31-8c1c12bff774"
      },
      "source": [
        "correction_inspect_toCorrect()"
      ],
      "execution_count": null,
      "outputs": [
        {
          "output_type": "stream",
          "name": "stdout",
          "text": [
            "Read To_Correct/toCorrect_40.csv and created a DataFrame\n",
            "        original first      second     correction\n",
            "0  සු මිච්චාචාරා    සු  මිච්චාචාරා  සු මිච්චාචාරා\n"
          ]
        }
      ]
    },
    {
      "cell_type": "markdown",
      "metadata": {
        "id": "rNoQ0OvVV8oP"
      },
      "source": [
        "# **41. Single - Ending with සේ >>> Separate by meaning**"
      ]
    },
    {
      "cell_type": "code",
      "metadata": {
        "colab": {
          "base_uri": "https://localhost:8080/"
        },
        "id": "Q0nC1o50WCEy",
        "outputId": "0636e5ba-0652-4bd2-ab63-5e2e0d3fa2e9"
      },
      "source": [
        "s_41 = 'සේ'\n",
        "all_40 = correction_init(substring=s_41, defaultSuffix=6)"
      ],
      "execution_count": null,
      "outputs": [
        {
          "output_type": "stream",
          "name": "stdout",
          "text": [
            "Read All_Utterances/all_6.csv and created a DataFrame\n",
            "Found 98407 unique utterances\n",
            "Found 63549 unique words\n",
            "Found 93 words with සේ\n",
            "INITIALIZED STAGE 41\n"
          ]
        }
      ]
    },
    {
      "cell_type": "code",
      "metadata": {
        "colab": {
          "base_uri": "https://localhost:8080/"
        },
        "id": "6HxIbErrWMqx",
        "outputId": "87f110fd-028a-43e6-bd6a-872d512c26bb"
      },
      "source": [
        "correction_inspect_toCorrect()"
      ],
      "execution_count": null,
      "outputs": [
        {
          "output_type": "stream",
          "name": "stdout",
          "text": [
            "Read To_Correct/toCorrect_41.csv and created a DataFrame\n",
            "    original correction\n",
            "0  අකුරැස්සේ  අකුරැස්සේ\n",
            "1      අදහසේ      අදහසේ\n",
            "2      අස්සේ      අස්සේ\n",
            "3       අහසේ       අහසේ\n",
            "4      ආකාසේ      ආකාසේ\n"
          ]
        }
      ]
    },
    {
      "cell_type": "markdown",
      "metadata": {
        "id": "_IBKoSxFWokU"
      },
      "source": [
        "# **42. Single - Ending with සේක >>> Separate**"
      ]
    },
    {
      "cell_type": "markdown",
      "metadata": {
        "id": "c5XFeUifWyrG"
      },
      "source": [
        "use the already corrected file"
      ]
    },
    {
      "cell_type": "markdown",
      "metadata": {
        "id": "o9J0w15FXOrY"
      },
      "source": [
        "# **43. Pairs - Isolated හ as second >>> Join**"
      ]
    },
    {
      "cell_type": "code",
      "metadata": {
        "colab": {
          "base_uri": "https://localhost:8080/"
        },
        "id": "hIIJ71BxXBdE",
        "outputId": "6c00b49b-bd33-4fec-c0d7-60a8601f25f8"
      },
      "source": [
        "s_43 = 'හ'\n",
        "force_change_stage(42)\n",
        "all_42 = correction_init(onPairs=True, second=s_43, defaultSuffix=6)"
      ],
      "execution_count": null,
      "outputs": [
        {
          "output_type": "stream",
          "name": "stdout",
          "text": [
            "Read All_Utterances/all_6.csv and created a DataFrame\n",
            "Found 98407 unique utterances\n",
            "Found 260522 unique pairs of words\n",
            "Found 6 pairs with first= and second=හ\n",
            "INITIALIZED STAGE 43\n"
          ]
        }
      ]
    },
    {
      "cell_type": "code",
      "metadata": {
        "colab": {
          "base_uri": "https://localhost:8080/"
        },
        "id": "HkQqqGV0XX0N",
        "outputId": "07afd77b-87ee-4aa7-dc56-9421c0f555a6"
      },
      "source": [
        "correction_inspect_toCorrect()"
      ],
      "execution_count": null,
      "outputs": [
        {
          "output_type": "stream",
          "name": "stdout",
          "text": [
            "Read To_Correct/toCorrect_43.csv and created a DataFrame\n",
            "    original    first second correction\n",
            "0     අකුර හ     අකුර      හ     අකුර හ\n",
            "1  ඉගැන්වූ හ  ඉගැන්වූ      හ  ඉගැන්වූ හ\n",
            "2       කළ හ       කළ      හ       කළ හ\n",
            "3      වම් හ      වම්      හ      වම් හ\n",
            "4       වූ හ       වූ      හ       වූ හ\n"
          ]
        }
      ]
    },
    {
      "cell_type": "markdown",
      "metadata": {
        "id": "VFkZdA7BXl6A"
      },
      "source": [
        "# **44. Single - Ending with හා >>> Separate by meaning**"
      ]
    },
    {
      "cell_type": "code",
      "metadata": {
        "colab": {
          "base_uri": "https://localhost:8080/"
        },
        "id": "CaNBUfc6Xqnl",
        "outputId": "cfe11fe7-a66a-482e-8bc9-4de5e6a8e08e"
      },
      "source": [
        "s_44 = 'හා'\n",
        "all_43 = correction_init(substring=s_44, defaultSuffix=6)"
      ],
      "execution_count": null,
      "outputs": [
        {
          "output_type": "stream",
          "name": "stdout",
          "text": [
            "Read All_Utterances/all_6.csv and created a DataFrame\n",
            "Found 98407 unique utterances\n",
            "Found 63549 unique words\n",
            "Found 47 words with හා\n",
            "INITIALIZED STAGE 44\n"
          ]
        }
      ]
    },
    {
      "cell_type": "code",
      "metadata": {
        "colab": {
          "base_uri": "https://localhost:8080/"
        },
        "id": "7odHSo44X1PN",
        "outputId": "98e0b8f7-d299-40f2-b141-c4392c41a69e"
      },
      "source": [
        "correction_inspect_toCorrect()"
      ],
      "execution_count": null,
      "outputs": [
        {
          "output_type": "stream",
          "name": "stdout",
          "text": [
            "Read To_Correct/toCorrect_44.csv and created a DataFrame\n",
            "  original correction\n",
            "0  අග්ගමහා    අග්ගමහා\n",
            "1    අටමහා      අටමහා\n",
            "2     අදහා       අදහා\n",
            "3   අසූමහා     අසූමහා\n",
            "4      අහා        අහා\n"
          ]
        }
      ]
    },
    {
      "cell_type": "markdown",
      "metadata": {
        "id": "fs76y3_1YHKT"
      },
      "source": [
        "# **45. Pairs - Isolated හි as second >>> Join**"
      ]
    },
    {
      "cell_type": "code",
      "metadata": {
        "colab": {
          "base_uri": "https://localhost:8080/"
        },
        "id": "VcUNIbm1YMr6",
        "outputId": "cb7b7b02-5b55-4aa6-f291-531120d9caa9"
      },
      "source": [
        "s_45 = 'හි'\n",
        "all_44 = correction_init(onPairs=True, second=s_45, defaultSuffix=6)"
      ],
      "execution_count": null,
      "outputs": [
        {
          "output_type": "stream",
          "name": "stdout",
          "text": [
            "Read All_Utterances/all_6.csv and created a DataFrame\n",
            "Found 98407 unique utterances\n",
            "Found 260522 unique pairs of words\n",
            "Found 23 pairs with first= and second=හි\n",
            "INITIALIZED STAGE 45\n"
          ]
        }
      ]
    },
    {
      "cell_type": "code",
      "metadata": {
        "colab": {
          "base_uri": "https://localhost:8080/"
        },
        "id": "NgyYmJrOYV7B",
        "outputId": "18c6eac2-0e1f-40cf-ba1f-d6d3c228c478"
      },
      "source": [
        "correction_inspect_toCorrect()"
      ],
      "execution_count": null,
      "outputs": [
        {
          "output_type": "stream",
          "name": "stdout",
          "text": [
            "Read To_Correct/toCorrect_45.csv and created a DataFrame\n",
            "           original          first second        correction\n",
            "0            අංක හි            අංක     හි            අංක හි\n",
            "1      අවස්ථාවන් හි      අවස්ථාවන්     හි      අවස්ථාවන් හි\n",
            "2         කියොතෝ හි         කියොතෝ     හි         කියොතෝ හි\n",
            "3  කිරීමේකාර්යන් හි  කිරීමේකාර්යන්     හි  කිරීමේකාර්යන් හි\n",
            "4           කේප් හි           කේප්     හි           කේප් හි\n"
          ]
        }
      ]
    },
    {
      "cell_type": "markdown",
      "metadata": {
        "id": "sBP2jxkeZMa0"
      },
      "source": [
        "# **46. Pairs - Isolated හු as second >>> Join**"
      ]
    },
    {
      "cell_type": "code",
      "metadata": {
        "colab": {
          "base_uri": "https://localhost:8080/"
        },
        "id": "hf54Jhc0ZQkG",
        "outputId": "be0dc4bf-d60f-4dfc-c333-f8a5db2a9062"
      },
      "source": [
        "s_46 = 'හු'\n",
        "all_45 = correction_init(onPairs=True, second=s_46, defaultSuffix=6)"
      ],
      "execution_count": null,
      "outputs": [
        {
          "output_type": "stream",
          "name": "stdout",
          "text": [
            "Read All_Utterances/all_6.csv and created a DataFrame\n",
            "Found 98407 unique utterances\n",
            "Found 260522 unique pairs of words\n",
            "Found 2 pairs with first= and second=හු\n",
            "INITIALIZED STAGE 46\n"
          ]
        }
      ]
    },
    {
      "cell_type": "code",
      "metadata": {
        "colab": {
          "base_uri": "https://localhost:8080/"
        },
        "id": "czS-jEBKZj7X",
        "outputId": "f3e66b13-89e6-4df9-aba8-90a138f30b4e"
      },
      "source": [
        "correction_inspect_toCorrect()"
      ],
      "execution_count": null,
      "outputs": [
        {
          "output_type": "stream",
          "name": "stdout",
          "text": [
            "Read To_Correct/toCorrect_46.csv and created a DataFrame\n",
            "  original first second correction\n",
            "0   ගහල හු   ගහල     හු     ගහල හු\n",
            "1  වේදී හු  වේදී     හු    වේදී හු\n"
          ]
        }
      ]
    },
    {
      "cell_type": "markdown",
      "metadata": {
        "id": "jwHwuHEpaDdt"
      },
      "source": [
        "# **47. Single - Ending with හෝ >>> Separate by meaning**"
      ]
    },
    {
      "cell_type": "markdown",
      "metadata": {
        "id": "SsK28IygaJCR"
      },
      "source": [
        "use already corrected file"
      ]
    },
    {
      "cell_type": "markdown",
      "metadata": {
        "id": "v5DNNTeOW6qe"
      },
      "source": [
        "# RED LABEL CORRECTIONS"
      ]
    },
    {
      "cell_type": "markdown",
      "metadata": {
        "id": "v563LOSjXCAv"
      },
      "source": [
        "# **48. Single - Ending with ද >>> Separate by meaning**"
      ]
    },
    {
      "cell_type": "code",
      "metadata": {
        "id": "SuG8vdqFXLV9"
      },
      "source": [
        "force_change_stage(47)"
      ],
      "execution_count": null,
      "outputs": []
    },
    {
      "cell_type": "code",
      "metadata": {
        "colab": {
          "base_uri": "https://localhost:8080/"
        },
        "id": "PYtW25GHYOlc",
        "outputId": "d01b0aef-b3d7-4b70-99d2-6097659cbebd"
      },
      "source": [
        "s_48 = 'ද'\n",
        "all_47 = correction_init(substring=s_48, defaultSuffix=6)"
      ],
      "execution_count": null,
      "outputs": [
        {
          "output_type": "stream",
          "name": "stdout",
          "text": [
            "Read All_Utterances/all_6.csv and created a DataFrame\n",
            "Found 98407 unique utterances\n",
            "Found 63549 unique words\n",
            "Found 1822 words with ද\n",
            "INITIALIZED STAGE 48\n"
          ]
        }
      ]
    },
    {
      "cell_type": "code",
      "metadata": {
        "colab": {
          "base_uri": "https://localhost:8080/"
        },
        "id": "rs2NqCqkYwcA",
        "outputId": "208e2660-5369-4f1f-e436-81fdafb7a423"
      },
      "source": [
        "correction_inspect_toCorrect()"
      ],
      "execution_count": null,
      "outputs": [
        {
          "output_type": "stream",
          "name": "stdout",
          "text": [
            "Read To_Correct/toCorrect_48.csv and created a DataFrame\n",
            "    original correction\n",
            "0  අංගම්පොරද  අංගම්පොරද\n",
            "1   අංගම්මනද   අංගම්මනද\n",
            "2    අංගවලටද    අංගවලටද\n",
            "3     අංශයටද     අංශයටද\n",
            "4     අගමකටද     අගමකටද\n"
          ]
        }
      ]
    },
    {
      "cell_type": "markdown",
      "metadata": {
        "id": "crmnv5OUY7vI"
      },
      "source": [
        "# **49. Pairs - Isolated ද as second >>> Join by meaning**"
      ]
    },
    {
      "cell_type": "code",
      "metadata": {
        "colab": {
          "base_uri": "https://localhost:8080/"
        },
        "id": "IW-qJWmsZICz",
        "outputId": "8dc69ffa-5527-4d94-badd-31482781ba90"
      },
      "source": [
        "s_49 = 'ද'\n",
        "all_48 = correction_init(onPairs=True, second=s_49, defaultSuffix=6)"
      ],
      "execution_count": null,
      "outputs": [
        {
          "output_type": "stream",
          "name": "stdout",
          "text": [
            "Read All_Utterances/all_6.csv and created a DataFrame\n",
            "Found 98407 unique utterances\n",
            "Found 260522 unique pairs of words\n",
            "Found 997 pairs with first= and second=ද\n",
            "INITIALIZED STAGE 49\n"
          ]
        }
      ]
    },
    {
      "cell_type": "code",
      "metadata": {
        "colab": {
          "base_uri": "https://localhost:8080/"
        },
        "id": "8_chixz_ZZ32",
        "outputId": "f38a0c13-b803-4e7f-90ad-f6221e5f5a18"
      },
      "source": [
        "correction_inspect_toCorrect()"
      ],
      "execution_count": null,
      "outputs": [
        {
          "output_type": "stream",
          "name": "stdout",
          "text": [
            "Read To_Correct/toCorrect_49.csv and created a DataFrame\n",
            "       original       first second    correction\n",
            "0        අංගය ද        අංගය      ද        අංගය ද\n",
            "1  අංගයන්ගෙන් ද  අංගයන්ගෙන්      ද  අංගයන්ගෙන් ද\n",
            "2     අංශයෙන් ද     අංශයෙන්      ද     අංශයෙන් ද\n",
            "3     අකුරින් ද     අකුරින්      ද     අකුරින් ද\n",
            "4      අකුසල් ද      අකුසල්      ද      අකුසල් ද\n"
          ]
        }
      ]
    },
    {
      "cell_type": "markdown",
      "metadata": {
        "id": "KrnVKzJiZod7"
      },
      "source": [
        "# **50. Single - Ending with දා >>> Separate by meaning**"
      ]
    },
    {
      "cell_type": "code",
      "metadata": {
        "id": "Gqg94ip_aNdS"
      },
      "source": [
        "force_change_stage(49)"
      ],
      "execution_count": null,
      "outputs": []
    },
    {
      "cell_type": "code",
      "metadata": {
        "colab": {
          "base_uri": "https://localhost:8080/"
        },
        "id": "S8VuReT7ZyK9",
        "outputId": "e76818fe-e523-4947-ccce-46dc37fa28cf"
      },
      "source": [
        "s_50 = 'දා'\n",
        "all_49 = correction_init(substring=s_50, defaultSuffix=6)"
      ],
      "execution_count": null,
      "outputs": [
        {
          "output_type": "stream",
          "name": "stdout",
          "text": [
            "Read All_Utterances/all_6.csv and created a DataFrame\n",
            "Found 98407 unique utterances\n",
            "Found 63549 unique words\n",
            "Found 126 words with දා\n",
            "INITIALIZED STAGE 50\n"
          ]
        }
      ]
    },
    {
      "cell_type": "code",
      "metadata": {
        "colab": {
          "base_uri": "https://localhost:8080/"
        },
        "id": "vY_hDD82aZ8-",
        "outputId": "acd2a747-cb14-48e9-932f-6f24b8378de1"
      },
      "source": [
        "correction_inspect_toCorrect()"
      ],
      "execution_count": null,
      "outputs": [
        {
          "output_type": "stream",
          "name": "stdout",
          "text": [
            "Read To_Correct/toCorrect_50.csv and created a DataFrame\n",
            "        original     correction\n",
            "0  අගොස්තුවැනිදා  අගොස්තුවැනිදා\n",
            "1  අගෝස්තුවැනිදා  අගෝස්තුවැනිදා\n",
            "2      අඟහරුවාදා      අඟහරුවාදා\n",
            "3       අටවැනිදා       අටවැනිදා\n",
            "4         අතනොදා         අතනොදා\n"
          ]
        }
      ]
    },
    {
      "cell_type": "markdown",
      "metadata": {
        "id": "4drEV95jamxs"
      },
      "source": [
        "# **51. Single - Ending with ම >>> Separate by meaning**"
      ]
    },
    {
      "cell_type": "code",
      "metadata": {
        "id": "mgNsRnTEgrxS"
      },
      "source": [
        "force_change_stage(50)"
      ],
      "execution_count": null,
      "outputs": []
    },
    {
      "cell_type": "code",
      "metadata": {
        "colab": {
          "base_uri": "https://localhost:8080/"
        },
        "id": "Rppm8IKJb27t",
        "outputId": "344f1f4f-3493-42cf-918e-01fd25c46608"
      },
      "source": [
        "s_51 = 'ම'\n",
        "all_50 = correction_init(substring=s_51, defaultSuffix=6)"
      ],
      "execution_count": null,
      "outputs": [
        {
          "output_type": "stream",
          "name": "stdout",
          "text": [
            "Read All_Utterances/all_6.csv and created a DataFrame\n",
            "Found 98407 unique utterances\n",
            "Found 63549 unique words\n",
            "Found 3207 words with ම\n",
            "INITIALIZED STAGE 51\n"
          ]
        }
      ]
    },
    {
      "cell_type": "code",
      "metadata": {
        "colab": {
          "base_uri": "https://localhost:8080/"
        },
        "id": "UBf52ZotcGWw",
        "outputId": "addc6f58-d5ca-48bf-d9c5-7121a43731c1"
      },
      "source": [
        "correction_inspect_toCorrect()"
      ],
      "execution_count": null,
      "outputs": [
        {
          "output_type": "stream",
          "name": "stdout",
          "text": [
            "Read To_Correct/toCorrect_51.csv and created a DataFrame\n",
            "    original correction\n",
            "0     අංශයකම     අංශයකම\n",
            "1  අංශයකින්ම  අංශයකින්ම\n",
            "2      අංශෙම      අංශෙම\n",
            "3    අකමැතිම    අකමැතිම\n",
            "4      අකරගම      අකරගම\n"
          ]
        }
      ]
    },
    {
      "cell_type": "markdown",
      "metadata": {
        "id": "acz4UByjiSV_"
      },
      "source": [
        "# **52. Single - Ending with ව >>> Separate by meaning**"
      ]
    },
    {
      "cell_type": "code",
      "metadata": {
        "colab": {
          "base_uri": "https://localhost:8080/"
        },
        "id": "6wg-2F6diwyR",
        "outputId": "c085b5b9-7af1-440a-d0c5-773509d50ce7"
      },
      "source": [
        "s_52 = 'ව'\n",
        "all_51 = correction_init(substring=s_52, defaultSuffix=6)"
      ],
      "execution_count": null,
      "outputs": [
        {
          "output_type": "stream",
          "name": "stdout",
          "text": [
            "Read All_Utterances/all_6.csv and created a DataFrame\n",
            "Found 98407 unique utterances\n",
            "Found 63549 unique words\n",
            "Found 1976 words with ව\n",
            "INITIALIZED STAGE 52\n"
          ]
        }
      ]
    },
    {
      "cell_type": "code",
      "metadata": {
        "colab": {
          "base_uri": "https://localhost:8080/"
        },
        "id": "OfX6r4pMjHjQ",
        "outputId": "1ca27591-0bb8-44f1-f389-9630ae4fdfe8"
      },
      "source": [
        "correction_inspect_toCorrect()"
      ],
      "execution_count": null,
      "outputs": [
        {
          "output_type": "stream",
          "name": "stdout",
          "text": [
            "Read To_Correct/toCorrect_52.csv and created a DataFrame\n",
            "       original    correction\n",
            "0       අකරුණාව       අකරුණාව\n",
            "1       අකරුනාව       අකරුනාව\n",
            "2  අක්කරේපත්තුව  අක්කරේපත්තුව\n",
            "3         අක්කව         අක්කව\n",
            "4        අක්කාව        අක්කාව\n"
          ]
        }
      ]
    },
    {
      "cell_type": "markdown",
      "metadata": {
        "id": "KWab1qmljYwo"
      },
      "source": [
        "# **53. Pairs - Isolated ව as second >>> Join by meaning**"
      ]
    },
    {
      "cell_type": "code",
      "metadata": {
        "colab": {
          "base_uri": "https://localhost:8080/"
        },
        "id": "kiU0h_IajeYa",
        "outputId": "09252827-26f9-4bff-96a8-8389968e5d9a"
      },
      "source": [
        "s_53 = 'ව'\n",
        "all_52 = correction_init(onPairs=True, second=s_53, defaultSuffix=6)"
      ],
      "execution_count": null,
      "outputs": [
        {
          "output_type": "stream",
          "name": "stdout",
          "text": [
            "Read All_Utterances/all_6.csv and created a DataFrame\n",
            "Found 98407 unique utterances\n",
            "Found 260522 unique pairs of words\n",
            "Found 105 pairs with first= and second=ව\n",
            "INITIALIZED STAGE 53\n"
          ]
        }
      ]
    },
    {
      "cell_type": "code",
      "metadata": {
        "colab": {
          "base_uri": "https://localhost:8080/"
        },
        "id": "J4gq7lRKjunF",
        "outputId": "ecfcafd9-3940-4725-e450-e088c76acf98"
      },
      "source": [
        "correction_inspect_toCorrect()"
      ],
      "execution_count": null,
      "outputs": [
        {
          "output_type": "stream",
          "name": "stdout",
          "text": [
            "Read To_Correct/toCorrect_53.csv and created a DataFrame\n",
            "      original      first second   correction\n",
            "0  අතිසාර්ථක ව  අතිසාර්ථක      ව  අතිසාර්ථක ව\n",
            "1       අදාළ ව       අදාළ      ව       අදාළ ව\n",
            "2   අන්තර්ගත ව   අන්තර්ගත      ව   අන්තර්ගත ව\n",
            "3    අප්‍රකට ව    අප්‍රකට      ව    අප්‍රකට ව\n",
            "4       අමතක ව       අමතක      ව       අමතක ව\n"
          ]
        }
      ]
    },
    {
      "cell_type": "markdown",
      "metadata": {
        "id": "wh_bWGaRk3g9"
      },
      "source": [
        "# **54. Pairs - Isolated වල as second >>> Join**"
      ]
    },
    {
      "cell_type": "code",
      "metadata": {
        "colab": {
          "base_uri": "https://localhost:8080/"
        },
        "id": "BPsDuQW7lGgh",
        "outputId": "24cf7503-2691-4029-85bb-da0e3a4b21f2"
      },
      "source": [
        "s_54 = 'වල'\n",
        "all_54 = correction_init(onPairs=True, second=s_54, defaultSuffix=6)"
      ],
      "execution_count": null,
      "outputs": [
        {
          "output_type": "stream",
          "name": "stdout",
          "text": [
            "Read All_Utterances/all_6.csv and created a DataFrame\n",
            "Found 98407 unique utterances\n",
            "Found 260522 unique pairs of words\n",
            "Found 227 pairs with first= and second=වල\n",
            "INITIALIZED STAGE 54\n"
          ]
        }
      ]
    },
    {
      "cell_type": "code",
      "metadata": {
        "colab": {
          "base_uri": "https://localhost:8080/"
        },
        "id": "HDD9zH_flTfz",
        "outputId": "2aa3a2e7-b09d-49e2-b995-390e00dd2275"
      },
      "source": [
        "correction_inspect_toCorrect()"
      ],
      "execution_count": null,
      "outputs": [
        {
          "output_type": "stream",
          "name": "stdout",
          "text": [
            "Read To_Correct/toCorrect_54.csv and created a DataFrame\n",
            "       original      first second    correction\n",
            "0      අකුරු වල      අකුරු     වල      අකුරු වල\n",
            "1    අගෝස්තු වල    අගෝස්තු     වල    අගෝස්තු වල\n",
            "2      අඟහරු වල      අඟහරු     වල      අඟහරු වල\n",
            "3       අඩවි වල       අඩවි     වල       අඩවි වල\n",
            "4  අත්දැකීම් වල  අත්දැකීම්     වල  අත්දැකීම් වල\n"
          ]
        }
      ]
    },
    {
      "cell_type": "markdown",
      "metadata": {
        "id": "13WH-Hr4lcHL"
      },
      "source": [
        "# **55. Pairs - Isolated වලට as second >>> Join**"
      ]
    },
    {
      "cell_type": "code",
      "metadata": {
        "colab": {
          "base_uri": "https://localhost:8080/"
        },
        "id": "fqbloKAgliLB",
        "outputId": "aa5b198d-c7b8-4807-8e04-a2ffa10a38a6"
      },
      "source": [
        "s_55 = 'වලට'\n",
        "all_54 = correction_init(onPairs=True, second=s_55, defaultSuffix=6)"
      ],
      "execution_count": null,
      "outputs": [
        {
          "output_type": "stream",
          "name": "stdout",
          "text": [
            "Read All_Utterances/all_6.csv and created a DataFrame\n",
            "Found 98407 unique utterances\n",
            "Found 260522 unique pairs of words\n",
            "Found 263 pairs with first= and second=වලට\n",
            "INITIALIZED STAGE 55\n"
          ]
        }
      ]
    },
    {
      "cell_type": "code",
      "metadata": {
        "colab": {
          "base_uri": "https://localhost:8080/"
        },
        "id": "I5M6tIPhlt0p",
        "outputId": "007f4d19-f1fe-40e2-ea6d-c4ae9f917f8d"
      },
      "source": [
        "correction_inspect_toCorrect()"
      ],
      "execution_count": null,
      "outputs": [
        {
          "output_type": "stream",
          "name": "stdout",
          "text": [
            "Read To_Correct/toCorrect_55.csv and created a DataFrame\n",
            "    original  first second correction\n",
            "0    අංශ වලට    අංශ    වලට    අංශ වලට\n",
            "1  අකුණු වලට  අකුණු    වලට  අකුණු වලට\n",
            "2  අඟුරු වලට  අඟුරු    වලට  අඟුරු වලට\n",
            "3    අතු වලට    අතු    වලට    අතු වලට\n",
            "4  අදහස් වලට  අදහස්    වලට  අදහස් වලට\n"
          ]
        }
      ]
    },
    {
      "cell_type": "markdown",
      "metadata": {
        "id": "oHQosETHl2Cs"
      },
      "source": [
        "# **56. Pairs - Isolated වලින් as second >>> Join**"
      ]
    },
    {
      "cell_type": "code",
      "metadata": {
        "colab": {
          "base_uri": "https://localhost:8080/"
        },
        "id": "CUMINqxDl6ll",
        "outputId": "da488ed4-76b8-4ab1-ab34-eac7f5f4b97f"
      },
      "source": [
        "s_56 = 'වලින්'\n",
        "all_55 = correction_init(onPairs=True, second=s_56, defaultSuffix=6)"
      ],
      "execution_count": null,
      "outputs": [
        {
          "output_type": "stream",
          "name": "stdout",
          "text": [
            "Read All_Utterances/all_6.csv and created a DataFrame\n",
            "Found 98407 unique utterances\n",
            "Found 260522 unique pairs of words\n",
            "Found 252 pairs with first= and second=වලින්\n",
            "INITIALIZED STAGE 56\n"
          ]
        }
      ]
    },
    {
      "cell_type": "code",
      "metadata": {
        "colab": {
          "base_uri": "https://localhost:8080/"
        },
        "id": "iOFtgfbymGNZ",
        "outputId": "d37e99f6-1505-4654-d7cd-415bd6e2808c"
      },
      "source": [
        "correction_inspect_toCorrect()"
      ],
      "execution_count": null,
      "outputs": [
        {
          "output_type": "stream",
          "name": "stdout",
          "text": [
            "Read To_Correct/toCorrect_56.csv and created a DataFrame\n",
            "       original   first second    correction\n",
            "0     අංක වලින්     අංක  වලින්     අංක වලින්\n",
            "1   අකුරු වලින්   අකුරු  වලින්   අකුරු වලින්\n",
            "2  අකුසල් වලින්  අකුසල්  වලින්  අකුසල් වලින්\n",
            "3     අඩි වලින්     අඩි  වලින්     අඩි වලින්\n",
            "4     අත් වලින්     අත්  වලින්     අත් වලින්\n"
          ]
        }
      ]
    },
    {
      "cell_type": "markdown",
      "metadata": {
        "id": "T-G8NjKsnPTh"
      },
      "source": [
        "# **57. Single - Ending with වන >>> Separate by meaning**"
      ]
    },
    {
      "cell_type": "code",
      "metadata": {
        "colab": {
          "base_uri": "https://localhost:8080/"
        },
        "id": "uO5EmUjlnaz5",
        "outputId": "78074cb5-7f82-490b-ac1e-5549695d2cf4"
      },
      "source": [
        "s_57 = 'වන'\n",
        "all_56 = correction_init(substring=s_57, defaultSuffix=6)"
      ],
      "execution_count": null,
      "outputs": [
        {
          "output_type": "stream",
          "name": "stdout",
          "text": [
            "Read All_Utterances/all_6.csv and created a DataFrame\n",
            "Found 98407 unique utterances\n",
            "Found 63549 unique words\n",
            "Found 260 words with වන\n",
            "INITIALIZED STAGE 57\n"
          ]
        }
      ]
    },
    {
      "cell_type": "code",
      "metadata": {
        "colab": {
          "base_uri": "https://localhost:8080/"
        },
        "id": "i6-ehHTQnzIg",
        "outputId": "79eef92f-aac2-4cc2-d451-a24441618c3b"
      },
      "source": [
        "correction_inspect_toCorrect()"
      ],
      "execution_count": null,
      "outputs": [
        {
          "output_type": "stream",
          "name": "stdout",
          "text": [
            "Read To_Correct/toCorrect_57.csv and created a DataFrame\n",
            "  original correction\n",
            "0  අකුළුවන    අකුළුවන\n",
            "1     අඟවන       අඟවන\n",
            "2     අටවන       අටවන\n",
            "3    අඩුවන      අඩුවන\n",
            "4  අතපසුවන    අතපසුවන\n"
          ]
        }
      ]
    },
    {
      "cell_type": "markdown",
      "metadata": {
        "id": "IZxz3AQ1jK3q"
      },
      "source": [
        "# **58. Single - Ending with වනු >>> Separate by meaning**"
      ]
    },
    {
      "cell_type": "code",
      "metadata": {
        "id": "d_OPoSF7jvm4"
      },
      "source": [
        "force_change_stage(57)"
      ],
      "execution_count": null,
      "outputs": []
    },
    {
      "cell_type": "code",
      "metadata": {
        "colab": {
          "base_uri": "https://localhost:8080/"
        },
        "id": "tvE3UL9LjQU6",
        "outputId": "f7b1a9fb-9681-4988-edc0-0797362e86c9"
      },
      "source": [
        "s_58 = 'වනු'\n",
        "all_57 = correction_init(substring=s_58, defaultSuffix=6)"
      ],
      "execution_count": null,
      "outputs": [
        {
          "output_type": "stream",
          "name": "stdout",
          "text": [
            "Read All_Utterances/all_6.csv and created a DataFrame\n",
            "Found 98407 unique utterances\n",
            "Found 63549 unique words\n",
            "Found 51 words with වනු\n",
            "INITIALIZED STAGE 58\n"
          ]
        }
      ]
    },
    {
      "cell_type": "code",
      "metadata": {
        "colab": {
          "base_uri": "https://localhost:8080/"
        },
        "id": "3pFNR2B0pxFV",
        "outputId": "04c18ddf-7c96-468f-b3b4-d28b16c0c1bc"
      },
      "source": [
        "correction_inspect_toCorrect()"
      ],
      "execution_count": null,
      "outputs": [
        {
          "output_type": "stream",
          "name": "stdout",
          "text": [
            "Read To_Correct/toCorrect_58.csv and created a DataFrame\n",
            "   original correction\n",
            "0    අත්වනු     අත්වනු\n",
            "1    අස්වනු     අස්වනු\n",
            "2  ඉදිනොවනු   ඉදිනොවනු\n",
            "3   උගන්වනු    උගන්වනු\n",
            "4  උසුරුවනු   උසුරුවනු\n"
          ]
        }
      ]
    },
    {
      "cell_type": "markdown",
      "metadata": {
        "id": "EfqXKGBwtczq"
      },
      "source": [
        "# **59. Single - Ending with වී >>> Separate by meaning**"
      ]
    },
    {
      "cell_type": "code",
      "metadata": {
        "colab": {
          "base_uri": "https://localhost:8080/"
        },
        "id": "rL4V28M7tltZ",
        "outputId": "9cf1ec88-dfb6-4863-90bc-ece035f40033"
      },
      "source": [
        "s_59 = 'වී'\n",
        "all_58 = correction_init(substring=s_59, defaultSuffix=6)"
      ],
      "execution_count": null,
      "outputs": [
        {
          "output_type": "stream",
          "name": "stdout",
          "text": [
            "Read All_Utterances/all_6.csv and created a DataFrame\n",
            "Found 98407 unique utterances\n",
            "Found 63549 unique words\n",
            "Found 163 words with වී\n",
            "INITIALIZED STAGE 59\n"
          ]
        }
      ]
    },
    {
      "cell_type": "code",
      "metadata": {
        "colab": {
          "base_uri": "https://localhost:8080/"
        },
        "id": "yRp_4hLituPp",
        "outputId": "2d8695d1-3f20-4248-afdb-b15c4ca311bb"
      },
      "source": [
        "correction_inspect_toCorrect()"
      ],
      "execution_count": null,
      "outputs": [
        {
          "output_type": "stream",
          "name": "stdout",
          "text": [
            "Read To_Correct/toCorrect_59.csv and created a DataFrame\n",
            "      original   correction\n",
            "0        අජීවී        අජීවී\n",
            "1        අඩුවී        අඩුවී\n",
            "2        අත්වී        අත්වී\n",
            "3      අතුගෑවී      අතුගෑවී\n",
            "4  අතුරුදහන්වී  අතුරුදහන්වී\n"
          ]
        }
      ]
    },
    {
      "cell_type": "markdown",
      "metadata": {
        "id": "UEN8Or6ut2i_"
      },
      "source": [
        "# **60. Single - Ending with වූ >>> Separate by meaning**"
      ]
    },
    {
      "cell_type": "code",
      "metadata": {
        "colab": {
          "base_uri": "https://localhost:8080/"
        },
        "id": "EujV2z14t8Cx",
        "outputId": "dbf4bdfe-260f-4faf-b86f-b03d32bf6bc2"
      },
      "source": [
        "s_60 = 'වූ'\n",
        "all_59 = correction_init(substring=s_60, defaultSuffix=6)"
      ],
      "execution_count": null,
      "outputs": [
        {
          "output_type": "stream",
          "name": "stdout",
          "text": [
            "Read All_Utterances/all_6.csv and created a DataFrame\n",
            "Found 98407 unique utterances\n",
            "Found 63549 unique words\n",
            "Found 152 words with වූ\n",
            "INITIALIZED STAGE 60\n"
          ]
        }
      ]
    },
    {
      "cell_type": "code",
      "metadata": {
        "colab": {
          "base_uri": "https://localhost:8080/"
        },
        "id": "YYiiTPePuEcT",
        "outputId": "4b30aa44-c76a-40a5-803c-0aeeec34ccd5"
      },
      "source": [
        "correction_inspect_toCorrect()"
      ],
      "execution_count": null,
      "outputs": [
        {
          "output_type": "stream",
          "name": "stdout",
          "text": [
            "Read To_Correct/toCorrect_60.csv and created a DataFrame\n",
            "               original            correction\n",
            "0               අග්‍රවූ               අග්‍රවූ\n",
            "1  අග්‍රාමාත්‍යවරයෙකුවූ  අග්‍රාමාත්‍යවරයෙකුවූ\n",
            "2           අතලොස්සක්වූ           අතලොස්සක්වූ\n",
            "3                 අත්වූ                 අත්වූ\n",
            "4               අනුගතවූ               අනුගතවූ\n"
          ]
        }
      ]
    },
    {
      "cell_type": "markdown",
      "metadata": {
        "id": "hh8dWBcDuPcH"
      },
      "source": [
        "# **61. Single - Ending with වේ >>> Separate by meaning**"
      ]
    },
    {
      "cell_type": "code",
      "metadata": {
        "colab": {
          "base_uri": "https://localhost:8080/"
        },
        "id": "0rvClsKkuW1O",
        "outputId": "a3c32a6f-1ec2-44ed-a1d0-d848ca87b7f4"
      },
      "source": [
        "s_61 = 'වේ'\n",
        "all_60 = correction_init(substring=s_61, defaultSuffix=6)"
      ],
      "execution_count": null,
      "outputs": [
        {
          "output_type": "stream",
          "name": "stdout",
          "text": [
            "Read All_Utterances/all_6.csv and created a DataFrame\n",
            "Found 98407 unique utterances\n",
            "Found 63549 unique words\n",
            "Found 490 words with වේ\n",
            "INITIALIZED STAGE 61\n"
          ]
        }
      ]
    },
    {
      "cell_type": "code",
      "metadata": {
        "colab": {
          "base_uri": "https://localhost:8080/"
        },
        "id": "Cdsfx5lZueeH",
        "outputId": "20dcbb57-4010-491a-d6f3-2b1469badf3b"
      },
      "source": [
        "correction_inspect_toCorrect()"
      ],
      "execution_count": null,
      "outputs": [
        {
          "output_type": "stream",
          "name": "stdout",
          "text": [
            "Read To_Correct/toCorrect_61.csv and created a DataFrame\n",
            "  original correction\n",
            "0  අංගමුවේ    අංගමුවේ\n",
            "1  අටුවාවේ    අටුවාවේ\n",
            "2    අටුවේ      අටුවේ\n",
            "3  අඩංගුවේ    අඩංගුවේ\n",
            "4    අඩුවේ      අඩුවේ\n"
          ]
        }
      ]
    },
    {
      "cell_type": "markdown",
      "metadata": {
        "id": "bWy1CxvSumER"
      },
      "source": [
        "# **62. Single - Ending with විය >>> Separate by meaning**"
      ]
    },
    {
      "cell_type": "code",
      "metadata": {
        "colab": {
          "base_uri": "https://localhost:8080/"
        },
        "id": "qtpI9N5mu3Ot",
        "outputId": "e674d4a4-38a5-4755-bef8-2583621314d0"
      },
      "source": [
        "s_62 = 'විය'\n",
        "all_61 = correction_init(substring=s_62, defaultSuffix=6)"
      ],
      "execution_count": null,
      "outputs": [
        {
          "output_type": "stream",
          "name": "stdout",
          "text": [
            "Read All_Utterances/all_6.csv and created a DataFrame\n",
            "Found 98407 unique utterances\n",
            "Found 63549 unique words\n",
            "Found 124 words with විය\n",
            "INITIALIZED STAGE 62\n"
          ]
        }
      ]
    },
    {
      "cell_type": "code",
      "metadata": {
        "colab": {
          "base_uri": "https://localhost:8080/"
        },
        "id": "gw5oMV-Fu_fU",
        "outputId": "be98b6e1-8ee8-40b6-9163-c36dd650db0d"
      },
      "source": [
        "correction_inspect_toCorrect()"
      ],
      "execution_count": null,
      "outputs": [
        {
          "output_type": "stream",
          "name": "stdout",
          "text": [
            "Read To_Correct/toCorrect_62.csv and created a DataFrame\n",
            "    original correction\n",
            "0  අකමැතිවිය  අකමැතිවිය\n",
            "1      අඩවිය      අඩවිය\n",
            "2     අත්විය     අත්විය\n",
            "3     අලෙවිය     අලෙවිය\n",
            "4       අවිය       අවිය\n"
          ]
        }
      ]
    },
    {
      "cell_type": "markdown",
      "metadata": {
        "id": "4DLBm4L4vPah"
      },
      "source": [
        "# **63. Single - Ending with වෙයි >>> Separate by meaning**"
      ]
    },
    {
      "cell_type": "code",
      "metadata": {
        "colab": {
          "base_uri": "https://localhost:8080/"
        },
        "id": "exLV59xCvWdo",
        "outputId": "fcac5105-2748-4cdc-ca80-7972ad90300d"
      },
      "source": [
        "s_63 = 'වෙයි'\n",
        "all_62 = correction_init(substring=s_63, defaultSuffix=6)"
      ],
      "execution_count": null,
      "outputs": [
        {
          "output_type": "stream",
          "name": "stdout",
          "text": [
            "Read All_Utterances/all_6.csv and created a DataFrame\n",
            "Found 98407 unique utterances\n",
            "Found 63549 unique words\n",
            "Found 66 words with වෙයි\n",
            "INITIALIZED STAGE 63\n"
          ]
        }
      ]
    },
    {
      "cell_type": "code",
      "metadata": {
        "colab": {
          "base_uri": "https://localhost:8080/"
        },
        "id": "IHaxJJzJvfHG",
        "outputId": "c126838e-2c83-472a-bf68-19bc5a9ec0c7"
      },
      "source": [
        "correction_inspect_toCorrect()"
      ],
      "execution_count": null,
      "outputs": [
        {
          "output_type": "stream",
          "name": "stdout",
          "text": [
            "Read To_Correct/toCorrect_63.csv and created a DataFrame\n",
            "    original correction\n",
            "0    අඩුවෙයි    අඩුවෙයි\n",
            "1    අත්වෙයි    අත්වෙයි\n",
            "2  අමාරුවෙයි  අමාරුවෙයි\n",
            "3    අසුවෙයි    අසුවෙයි\n",
            "4    අහුවෙයි    අහුවෙයි\n"
          ]
        }
      ]
    },
    {
      "cell_type": "markdown",
      "metadata": {
        "id": "9D_5hFEqvnAF"
      },
      "source": [
        "# **64. Single - Ending with වුණා >>> Separate by meaning**"
      ]
    },
    {
      "cell_type": "code",
      "metadata": {
        "colab": {
          "base_uri": "https://localhost:8080/"
        },
        "id": "073tfPN0wFBP",
        "outputId": "50802b2a-98fc-4382-8ad6-622c1d4f76b7"
      },
      "source": [
        "s_64 = 'වුණා'\n",
        "all_63 = correction_init(substring=s_64, defaultSuffix=6)"
      ],
      "execution_count": null,
      "outputs": [
        {
          "output_type": "stream",
          "name": "stdout",
          "text": [
            "Read All_Utterances/all_6.csv and created a DataFrame\n",
            "Found 98407 unique utterances\n",
            "Found 63549 unique words\n",
            "Found 29 words with වුණා\n",
            "INITIALIZED STAGE 64\n"
          ]
        }
      ]
    },
    {
      "cell_type": "code",
      "metadata": {
        "colab": {
          "base_uri": "https://localhost:8080/"
        },
        "id": "3MWnkWJcwO8w",
        "outputId": "ac6a3170-60f3-47c1-a4cb-28dd240ad44a"
      },
      "source": [
        "correction_inspect_toCorrect()"
      ],
      "execution_count": null,
      "outputs": [
        {
          "output_type": "stream",
          "name": "stdout",
          "text": [
            "Read To_Correct/toCorrect_64.csv and created a DataFrame\n",
            "  original correction\n",
            "0  ඇතිවුණා    ඇතිවුණා\n",
            "1  ඉටුවුණා    ඉටුවුණා\n",
            "2  ඉදිවුණා    ඉදිවුණා\n",
            "3  උදාවුණා    උදාවුණා\n",
            "4  එක්වුණා    එක්වුණා\n"
          ]
        }
      ]
    },
    {
      "cell_type": "markdown",
      "metadata": {
        "id": "6xgZjcdIwWv7"
      },
      "source": [
        "# **65. Single - Ending with වුනා >>> Separate and Change to වුණා by meaning**"
      ]
    },
    {
      "cell_type": "code",
      "metadata": {
        "colab": {
          "base_uri": "https://localhost:8080/"
        },
        "id": "7_wj5GA9wjc4",
        "outputId": "9fc64db1-d77e-4361-b587-e2eb203df2e6"
      },
      "source": [
        "s_65 = 'වුනා'\n",
        "all_64 = correction_init(substring=s_65, defaultSuffix=6)"
      ],
      "execution_count": null,
      "outputs": [
        {
          "output_type": "stream",
          "name": "stdout",
          "text": [
            "Read All_Utterances/all_6.csv and created a DataFrame\n",
            "Found 98407 unique utterances\n",
            "Found 63549 unique words\n",
            "Found 30 words with වුනා\n",
            "INITIALIZED STAGE 65\n"
          ]
        }
      ]
    },
    {
      "cell_type": "code",
      "metadata": {
        "colab": {
          "base_uri": "https://localhost:8080/"
        },
        "id": "dvc3A0J1wwSc",
        "outputId": "ed179db2-4236-4ac8-e765-c039f608a8da"
      },
      "source": [
        "correction_inspect_toCorrect()"
      ],
      "execution_count": null,
      "outputs": [
        {
          "output_type": "stream",
          "name": "stdout",
          "text": [
            "Read To_Correct/toCorrect_65.csv and created a DataFrame\n",
            "  original correction\n",
            "0  ඇතිවුනා    ඇතිවුනා\n",
            "1  උදාවුනා    උදාවුනා\n",
            "2  එපාවුනා    එපාවුනා\n",
            "3  කතාවුනා    කතාවුනා\n",
            "4  කියවුනා    කියවුනා\n"
          ]
        }
      ]
    },
    {
      "cell_type": "markdown",
      "metadata": {
        "id": "f-daHeoLxLDn"
      },
      "source": [
        "# **66. Single - Ending with වුණේ >>> Separate by meaning**"
      ]
    },
    {
      "cell_type": "code",
      "metadata": {
        "id": "gtCHIJ2RyIw1"
      },
      "source": [
        "force_change_stage(65)"
      ],
      "execution_count": null,
      "outputs": []
    },
    {
      "cell_type": "code",
      "metadata": {
        "colab": {
          "base_uri": "https://localhost:8080/"
        },
        "id": "OeX7I8VzxSFm",
        "outputId": "abd982a0-711a-4b97-90d8-fd926a83e647"
      },
      "source": [
        "s_66 = 'වුණේ'\n",
        "all_65 = correction_init(substring=s_66, defaultSuffix=6)"
      ],
      "execution_count": null,
      "outputs": [
        {
          "output_type": "stream",
          "name": "stdout",
          "text": [
            "Read All_Utterances/all_6.csv and created a DataFrame\n",
            "Found 98407 unique utterances\n",
            "Found 63549 unique words\n",
            "Found 21 words with වුණේ\n",
            "INITIALIZED STAGE 66\n"
          ]
        }
      ]
    },
    {
      "cell_type": "code",
      "metadata": {
        "colab": {
          "base_uri": "https://localhost:8080/"
        },
        "id": "Lw1L-Ft6xqYr",
        "outputId": "3336ef3c-330a-44b9-e847-8555717f568e"
      },
      "source": [
        "correction_inspect_toCorrect()"
      ],
      "execution_count": null,
      "outputs": [
        {
          "output_type": "stream",
          "name": "stdout",
          "text": [
            "Read To_Correct/toCorrect_66.csv and created a DataFrame\n",
            "    original correction\n",
            "0    ඇතිවුණේ    ඇතිවුණේ\n",
            "1  ඉගැන්වුණේ  ඉගැන්වුණේ\n",
            "2   එකතුවුණේ   එකතුවුණේ\n",
            "3    කියවුණේ    කියවුණේ\n",
            "4   කියැවුණේ   කියැවුණේ\n"
          ]
        }
      ]
    },
    {
      "cell_type": "markdown",
      "metadata": {
        "id": "n7qtegnjyWqu"
      },
      "source": [
        "# **67. Single Ending with වුනේ - Separate and Change to වුණේ**"
      ]
    },
    {
      "cell_type": "code",
      "metadata": {
        "colab": {
          "base_uri": "https://localhost:8080/"
        },
        "id": "_Hnlw7hoyd7M",
        "outputId": "5df37b5a-1355-4929-9905-745e11e721b3"
      },
      "source": [
        "s_67 = 'වුනේ'\n",
        "all_66 = correction_init(substring=s_67, defaultSuffix=6)"
      ],
      "execution_count": null,
      "outputs": [
        {
          "output_type": "stream",
          "name": "stdout",
          "text": [
            "Read All_Utterances/all_6.csv and created a DataFrame\n",
            "Found 98407 unique utterances\n",
            "Found 63549 unique words\n",
            "Found 16 words with වුනේ\n",
            "INITIALIZED STAGE 67\n"
          ]
        }
      ]
    },
    {
      "cell_type": "code",
      "metadata": {
        "id": "ZHYPgR4ZyubB",
        "colab": {
          "base_uri": "https://localhost:8080/"
        },
        "outputId": "972fd29f-698d-4e4e-ac93-636dea8f0ffe"
      },
      "source": [
        "correction_inspect_toCorrect()"
      ],
      "execution_count": null,
      "outputs": [
        {
          "output_type": "stream",
          "name": "stdout",
          "text": [
            "Read To_Correct/toCorrect_67.csv and created a DataFrame\n",
            "    original correction\n",
            "0    අහුවුනේ    අහුවුනේ\n",
            "1    ඇතිවුනේ    ඇතිවුනේ\n",
            "2      ඔවුනේ      ඔවුනේ\n",
            "3    කියවුනේ    කියවුනේ\n",
            "4  ජීවත්වුනේ  ජීවත්වුනේ\n"
          ]
        }
      ]
    },
    {
      "cell_type": "markdown",
      "metadata": {
        "id": "sdCWhhx0g_zu"
      },
      "source": [
        "# APPLYING BULK CORRECTIONS @ 2021-12-03"
      ]
    },
    {
      "cell_type": "markdown",
      "metadata": {
        "id": "omb3h7O2hnMD"
      },
      "source": [
        "Today, we completed all 67 correction definitions ('corrected_' files). Now, starting from 'all_6', we are applying the corrections sequentially. The workflow is as follows:\n",
        "\n",
        "First apply *common_modifications*. Then, apply corrections for each stage, with *toDelete* and *doubtCorrected*.\n",
        "\n",
        "We are categorizing the rules into two classes:\n",
        "1.    **More Ambiguous:** Single-character words/suffixes which are generally used in isolation as well as combined with another word. Hence, although we have defined rules for these, their application is ambiguous. The selected words/suffixes and the corresponding stages are: ය (31), ද (48, 49), ම (51), ව (52, 53), වී (59), වූ (60), වේ (61)\n",
        "2.    **Less Ambiguous:** All other corrections which we can apply as strict rules.\n",
        "\n",
        "First we shall apply *Less Ambiguous* corrections, and lastly we shall apply the *More Ambiguous* corrections."
      ]
    },
    {
      "cell_type": "markdown",
      "metadata": {
        "id": "0tEIRwu6msAm"
      },
      "source": [
        "# **Common modifications**"
      ]
    },
    {
      "cell_type": "code",
      "metadata": {
        "id": "74B3rG8EpZTu"
      },
      "source": [
        "force_change_stage(6)"
      ],
      "execution_count": null,
      "outputs": []
    },
    {
      "cell_type": "code",
      "metadata": {
        "colab": {
          "base_uri": "https://localhost:8080/"
        },
        "id": "owjKmFF1nUmb",
        "outputId": "55939de8-5457-4e86-c800-cc0a9545126a"
      },
      "source": [
        "all_6 = read_file('./All_Utterances/all_6.csv')\n",
        "all_6.shape"
      ],
      "execution_count": null,
      "outputs": [
        {
          "output_type": "stream",
          "name": "stdout",
          "text": [
            "Read ./All_Utterances/all_6.csv and created a DataFrame\n"
          ]
        },
        {
          "output_type": "execute_result",
          "data": {
            "text/plain": [
              "(178372, 4)"
            ]
          },
          "metadata": {},
          "execution_count": 43
        }
      ]
    },
    {
      "cell_type": "code",
      "metadata": {
        "colab": {
          "base_uri": "https://localhost:8080/"
        },
        "id": "Rxe2CEgEnp3u",
        "outputId": "77fef385-218a-4c0f-ee18-cf129182e07b"
      },
      "source": [
        "all_6 = correction_apply_common_modifications('nilmani', all_6)"
      ],
      "execution_count": null,
      "outputs": [
        {
          "output_type": "stream",
          "name": "stdout",
          "text": [
            "Read common_modifications_nilmani.csv and created a DataFrame\n",
            "Applied 15 corrections in Stage 6.\n",
            "Applied 15 common modifications.\n"
          ]
        }
      ]
    },
    {
      "cell_type": "code",
      "metadata": {
        "colab": {
          "base_uri": "https://localhost:8080/"
        },
        "id": "zwO0nTECpgrW",
        "outputId": "472d37f1-62a8-4dcf-f6c5-90aa9575ceb5"
      },
      "source": [
        "all_6 = correction_apply_common_modifications('disura', all_6)\n",
        "write_to_csv('all_6_modified', all_6, 'All_Utterances')"
      ],
      "execution_count": null,
      "outputs": [
        {
          "output_type": "stream",
          "name": "stdout",
          "text": [
            "Read common_modifications_disura.csv and created a DataFrame\n",
            "Applied 131 corrections in Stage 6.\n",
            "Applied 131 common modifications.\n"
          ]
        }
      ]
    },
    {
      "cell_type": "markdown",
      "metadata": {
        "id": "1N8cdlmWxrul"
      },
      "source": [
        "# **Less Ambiguous Corrections**"
      ]
    },
    {
      "cell_type": "code",
      "metadata": {
        "id": "4VtX_2iPxvWD"
      },
      "source": [
        "force_change_stage(7)"
      ],
      "execution_count": null,
      "outputs": []
    },
    {
      "cell_type": "code",
      "metadata": {
        "id": "dEMxL5mWzedG"
      },
      "source": [
        "pd.options.mode.chained_assignment = None  # default='warn'"
      ],
      "execution_count": 21,
      "outputs": []
    },
    {
      "cell_type": "code",
      "metadata": {
        "colab": {
          "base_uri": "https://localhost:8080/"
        },
        "id": "-aa-OFDKx6uq",
        "outputId": "c09c0b20-51f3-4fe3-d7bb-73d7d73bb8e2"
      },
      "source": [
        "# Stage 7\n",
        "all_7 = correction_complete(all_6)"
      ],
      "execution_count": null,
      "outputs": [
        {
          "output_type": "stream",
          "name": "stdout",
          "text": [
            "Read Corrected/corrected_7.csv and created a DataFrame\n",
            "Read To_Delete/toDelete_7.csv and created a DataFrame\n",
            "Deleted 36 utterances in Stage 7\n",
            "Applied 11 corrections in Stage 7.\n",
            "Read Doubt_Corrected/doubtCorrected_7.csv and created a DataFrame\n"
          ]
        },
        {
          "output_type": "stream",
          "name": "stderr",
          "text": [
            "/usr/local/lib/python3.7/dist-packages/ipykernel_launcher.py:47: SettingWithCopyWarning: \n",
            "A value is trying to be set on a copy of a slice from a DataFrame.\n",
            "Try using .loc[row_indexer,col_indexer] = value instead\n",
            "\n",
            "See the caveats in the documentation: https://pandas.pydata.org/pandas-docs/stable/user_guide/indexing.html#returning-a-view-versus-a-copy\n"
          ]
        },
        {
          "output_type": "stream",
          "name": "stdout",
          "text": [
            "STAGE 7 COMPLETE!\n"
          ]
        }
      ]
    },
    {
      "cell_type": "code",
      "metadata": {
        "colab": {
          "base_uri": "https://localhost:8080/"
        },
        "id": "-1zCqJ-Ly6gQ",
        "outputId": "c2ca5e08-d3f2-41b3-d97e-4afbb7ab1991"
      },
      "source": [
        "# Stage 8\n",
        "all_8 = correction_complete(all_7)"
      ],
      "execution_count": null,
      "outputs": [
        {
          "output_type": "stream",
          "name": "stdout",
          "text": [
            "Read Corrected/corrected_8.csv and created a DataFrame\n",
            "Read To_Delete/toDelete_8.csv and created a DataFrame\n",
            "Deleted 1 utterances in Stage 8\n",
            "Applied 2 corrections in Stage 8.\n",
            "Read Doubt_Corrected/doubtCorrected_8.csv and created a DataFrame\n"
          ]
        },
        {
          "output_type": "stream",
          "name": "stderr",
          "text": [
            "/usr/local/lib/python3.7/dist-packages/ipykernel_launcher.py:47: SettingWithCopyWarning: \n",
            "A value is trying to be set on a copy of a slice from a DataFrame.\n",
            "Try using .loc[row_indexer,col_indexer] = value instead\n",
            "\n",
            "See the caveats in the documentation: https://pandas.pydata.org/pandas-docs/stable/user_guide/indexing.html#returning-a-view-versus-a-copy\n"
          ]
        },
        {
          "output_type": "stream",
          "name": "stdout",
          "text": [
            "STAGE 8 COMPLETE!\n"
          ]
        }
      ]
    },
    {
      "cell_type": "code",
      "metadata": {
        "colab": {
          "base_uri": "https://localhost:8080/"
        },
        "id": "xHyOZ4yxz0NW",
        "outputId": "a8187648-1620-4bc7-d159-dc836c0b1072"
      },
      "source": [
        "# Stage 9\n",
        "all_9 = correction_complete(all_8)"
      ],
      "execution_count": null,
      "outputs": [
        {
          "output_type": "stream",
          "name": "stdout",
          "text": [
            "Read Corrected/corrected_9.csv and created a DataFrame\n",
            "Applied 4 corrections in Stage 9.\n",
            "Read Doubt_Corrected/doubtCorrected_9.csv and created a DataFrame\n",
            "STAGE 9 COMPLETE!\n"
          ]
        }
      ]
    },
    {
      "cell_type": "code",
      "metadata": {
        "colab": {
          "base_uri": "https://localhost:8080/"
        },
        "id": "EREw5rbP1EgQ",
        "outputId": "051c026b-b467-4717-f018-671b6e8f1b41"
      },
      "source": [
        "# Stage 10\n",
        "all_10 = correction_complete(all_9)"
      ],
      "execution_count": null,
      "outputs": [
        {
          "output_type": "stream",
          "name": "stdout",
          "text": [
            "Read Corrected/corrected_10.csv and created a DataFrame\n",
            "Read To_Delete/toDelete_10.csv and created a DataFrame\n",
            "Deleted 4 utterances in Stage 10\n",
            "Applied 6 corrections in Stage 10.\n",
            "Read Doubt_Corrected/doubtCorrected_10.csv and created a DataFrame\n",
            "Applied 5 Doubt Corrections in Stage 10.\n",
            "STAGE 10 COMPLETE!\n"
          ]
        }
      ]
    },
    {
      "cell_type": "code",
      "metadata": {
        "colab": {
          "base_uri": "https://localhost:8080/"
        },
        "id": "bWQ6pr5u1KkF",
        "outputId": "560921ad-c071-4984-fac5-1d0735ee3443"
      },
      "source": [
        "# Stage 11\n",
        "all_11 = correction_complete(all_10)"
      ],
      "execution_count": null,
      "outputs": [
        {
          "output_type": "stream",
          "name": "stdout",
          "text": [
            "Read Corrected/corrected_11.csv and created a DataFrame\n",
            "Read To_Delete/toDelete_11.csv and created a DataFrame\n",
            "Deleted 7 utterances in Stage 11\n",
            "Applied 157 corrections in Stage 11.\n",
            "Read Doubt_Corrected/doubtCorrected_11.csv and created a DataFrame\n",
            "Applied 2 Doubt Corrections in Stage 11.\n",
            "STAGE 11 COMPLETE!\n"
          ]
        }
      ]
    },
    {
      "cell_type": "code",
      "metadata": {
        "colab": {
          "base_uri": "https://localhost:8080/"
        },
        "id": "HTm9Juh71jRQ",
        "outputId": "3a6aa0a0-f1e9-41df-fec4-d6e261c92fc0"
      },
      "source": [
        "# Stage 12\n",
        "all_12 = correction_complete(all_11)"
      ],
      "execution_count": null,
      "outputs": [
        {
          "output_type": "stream",
          "name": "stdout",
          "text": [
            "Read Corrected/corrected_12.csv and created a DataFrame\n",
            "Applied 30 corrections in Stage 12.\n",
            "STAGE 12 COMPLETE!\n"
          ]
        }
      ]
    },
    {
      "cell_type": "code",
      "metadata": {
        "colab": {
          "base_uri": "https://localhost:8080/"
        },
        "id": "C5bV8fRC1tsK",
        "outputId": "1e58b391-d130-4ccb-ece8-68177b85dd04"
      },
      "source": [
        "# Stage 13\n",
        "all_13 = correction_complete(all_12)"
      ],
      "execution_count": null,
      "outputs": [
        {
          "output_type": "stream",
          "name": "stdout",
          "text": [
            "Read Corrected/corrected_13.csv and created a DataFrame\n",
            "Read To_Delete/toDelete_13.csv and created a DataFrame\n",
            "Deleted 17 utterances in Stage 13\n",
            "Applied 52 corrections in Stage 13.\n",
            "STAGE 13 COMPLETE!\n"
          ]
        }
      ]
    },
    {
      "cell_type": "code",
      "metadata": {
        "colab": {
          "base_uri": "https://localhost:8080/"
        },
        "id": "lShC8aXw2IUi",
        "outputId": "e2b1076d-4cec-4f9c-ccee-4cf37cd2635e"
      },
      "source": [
        "# Stage 14\n",
        "all_14 = correction_complete(all_13)"
      ],
      "execution_count": null,
      "outputs": [
        {
          "output_type": "stream",
          "name": "stdout",
          "text": [
            "Read Corrected/corrected_14.csv and created a DataFrame\n",
            "Applied 11 corrections in Stage 14.\n",
            "STAGE 14 COMPLETE! Utterance Count=178307\n"
          ]
        }
      ]
    },
    {
      "cell_type": "code",
      "metadata": {
        "colab": {
          "base_uri": "https://localhost:8080/"
        },
        "id": "soDwxyPH2PjT",
        "outputId": "0a0f58d5-092e-4523-ba07-2ee5d09ceab8"
      },
      "source": [
        "# Stage 15\n",
        "all_15 = correction_complete(all_14)"
      ],
      "execution_count": null,
      "outputs": [
        {
          "output_type": "stream",
          "name": "stdout",
          "text": [
            "Read Corrected/corrected_15.csv and created a DataFrame\n",
            "Applied 492 corrections in Stage 15.\n",
            "STAGE 15 COMPLETE! Utterance Count=178307\n"
          ]
        }
      ]
    },
    {
      "cell_type": "code",
      "metadata": {
        "colab": {
          "base_uri": "https://localhost:8080/"
        },
        "id": "F0RMZgKU2o66",
        "outputId": "1bdb82d6-f168-4add-addd-d42e09a479a3"
      },
      "source": [
        "# Stage 16\n",
        "all_16 = correction_complete(all_15)"
      ],
      "execution_count": null,
      "outputs": [
        {
          "output_type": "stream",
          "name": "stdout",
          "text": [
            "Read Corrected/corrected_16.csv and created a DataFrame\n",
            "Read To_Delete/toDelete_16.csv and created a DataFrame\n",
            "Deleted 1 utterances in Stage 16\n",
            "Applied 27 corrections in Stage 16.\n",
            "STAGE 16 COMPLETE! Utterance Count=178306\n"
          ]
        }
      ]
    },
    {
      "cell_type": "code",
      "metadata": {
        "colab": {
          "base_uri": "https://localhost:8080/"
        },
        "id": "70cOmcce2vkf",
        "outputId": "c79943ea-3fb6-4df6-ede0-aad53fdf266e"
      },
      "source": [
        "# Stage 17\n",
        "all_17 = correction_complete(all_16)"
      ],
      "execution_count": null,
      "outputs": [
        {
          "output_type": "stream",
          "name": "stdout",
          "text": [
            "Read Corrected/corrected_17.csv and created a DataFrame\n",
            "Applied 1 corrections in Stage 17.\n",
            "STAGE 17 COMPLETE! Utterance Count=178306\n"
          ]
        }
      ]
    },
    {
      "cell_type": "code",
      "metadata": {
        "colab": {
          "base_uri": "https://localhost:8080/"
        },
        "id": "JSZGv02C25KW",
        "outputId": "8b096b9c-7d3f-41f7-e587-5652b61f4c90"
      },
      "source": [
        "# Stage 18\n",
        "all_18 = correction_complete(all_17)"
      ],
      "execution_count": null,
      "outputs": [
        {
          "output_type": "stream",
          "name": "stdout",
          "text": [
            "ERROR: Correction file for Stage 18 is unavailable!\n"
          ]
        }
      ]
    },
    {
      "cell_type": "code",
      "metadata": {
        "id": "fJRWkwG-2-bY"
      },
      "source": [
        "### NO CORRECTIONS NEEDED IN STAGE 18\n",
        "all_18 = all_17"
      ],
      "execution_count": null,
      "outputs": []
    },
    {
      "cell_type": "code",
      "metadata": {
        "colab": {
          "base_uri": "https://localhost:8080/"
        },
        "id": "8G25ojuC3GmN",
        "outputId": "2f1cecec-6f38-4e94-84e9-93cc826690fe"
      },
      "source": [
        "# Stage 19\n",
        "force_change_stage(19)\n",
        "all_19 = correction_complete(all_18)"
      ],
      "execution_count": null,
      "outputs": [
        {
          "output_type": "stream",
          "name": "stdout",
          "text": [
            "ERROR: Correction file for Stage 19 is unavailable!\n"
          ]
        }
      ]
    },
    {
      "cell_type": "code",
      "metadata": {
        "id": "R2mL9oYd3J-n"
      },
      "source": [
        "### NO CORRECTIONS NEEDED IN STAGE 19\n",
        "all_19 = all_18"
      ],
      "execution_count": null,
      "outputs": []
    },
    {
      "cell_type": "code",
      "metadata": {
        "colab": {
          "base_uri": "https://localhost:8080/"
        },
        "id": "-pLs1kRe3OwE",
        "outputId": "d4631ce4-5ac7-4eb6-f4b0-9189bcb04be8"
      },
      "source": [
        "# Stage 20\n",
        "force_change_stage(20)\n",
        "all_20 = correction_complete(all_19)"
      ],
      "execution_count": null,
      "outputs": [
        {
          "output_type": "stream",
          "name": "stdout",
          "text": [
            "Read Corrected/corrected_20.csv and created a DataFrame\n",
            "Read To_Delete/toDelete_20.csv and created a DataFrame\n",
            "Deleted 28 utterances in Stage 20\n",
            "Applied 391 corrections in Stage 20.\n",
            "Read Doubt_Corrected/doubtCorrected_20.csv and created a DataFrame\n",
            "Applied 7 Doubt Corrections in Stage 20.\n",
            "STAGE 20 COMPLETE! Utterance Count=178278\n"
          ]
        }
      ]
    },
    {
      "cell_type": "code",
      "metadata": {
        "colab": {
          "base_uri": "https://localhost:8080/"
        },
        "id": "jQNfOyyB377I",
        "outputId": "569ffbab-ee21-4e23-eefe-f248b5089857"
      },
      "source": [
        "# Stage 21\n",
        "all_21 = correction_complete(all_20)"
      ],
      "execution_count": null,
      "outputs": [
        {
          "output_type": "stream",
          "name": "stdout",
          "text": [
            "Read Corrected/corrected_21.csv and created a DataFrame\n",
            "Applied 11 corrections in Stage 21.\n",
            "Read Doubt_Corrected/doubtCorrected_21.csv and created a DataFrame\n",
            "Applied 3 Doubt Corrections in Stage 21.\n",
            "STAGE 21 COMPLETE! Utterance Count=178278\n"
          ]
        }
      ]
    },
    {
      "cell_type": "code",
      "metadata": {
        "colab": {
          "base_uri": "https://localhost:8080/"
        },
        "id": "tlguN4H44Bnk",
        "outputId": "e57fed6b-9088-4c68-f931-e8f69c57db29"
      },
      "source": [
        "# Stage 22\n",
        "all_22 = correction_complete(all_21)"
      ],
      "execution_count": null,
      "outputs": [
        {
          "output_type": "stream",
          "name": "stdout",
          "text": [
            "ERROR: Correction file for Stage 22 is unavailable!\n"
          ]
        }
      ]
    },
    {
      "cell_type": "code",
      "metadata": {
        "id": "PzaoOohh4JTn"
      },
      "source": [
        "### NO CORRECTIONS NEEDED IN STAGE 22\n",
        "all_22 = all_21"
      ],
      "execution_count": null,
      "outputs": []
    },
    {
      "cell_type": "code",
      "metadata": {
        "colab": {
          "base_uri": "https://localhost:8080/"
        },
        "id": "2B2lcv8t4Qpo",
        "outputId": "4aff1a9f-8d40-42ea-82f3-2fb3f75d5070"
      },
      "source": [
        "# Stage 23\n",
        "force_change_stage(23)\n",
        "all_23 = correction_complete(all_22)"
      ],
      "execution_count": null,
      "outputs": [
        {
          "output_type": "stream",
          "name": "stdout",
          "text": [
            "Read Corrected/corrected_23.csv and created a DataFrame\n",
            "Applied 6 corrections in Stage 23.\n",
            "STAGE 23 COMPLETE! Utterance Count=178278\n"
          ]
        }
      ]
    },
    {
      "cell_type": "code",
      "metadata": {
        "colab": {
          "base_uri": "https://localhost:8080/"
        },
        "id": "NPX3ToVf4Ysj",
        "outputId": "c3de6cc6-c614-42ed-9b02-b0aac2afe5ff"
      },
      "source": [
        "# Stage 24\n",
        "all_24 = correction_complete(all_23)"
      ],
      "execution_count": null,
      "outputs": [
        {
          "output_type": "stream",
          "name": "stdout",
          "text": [
            "Read Corrected/corrected_24.csv and created a DataFrame\n",
            "Applied 8 corrections in Stage 24.\n",
            "STAGE 24 COMPLETE! Utterance Count=178278\n"
          ]
        }
      ]
    },
    {
      "cell_type": "code",
      "metadata": {
        "colab": {
          "base_uri": "https://localhost:8080/"
        },
        "id": "_r34Td7t4d8V",
        "outputId": "0900f636-69d4-4cd1-daee-5bc3959628ea"
      },
      "source": [
        "# Stage 25\n",
        "all_25 = correction_complete(all_24)"
      ],
      "execution_count": null,
      "outputs": [
        {
          "output_type": "stream",
          "name": "stdout",
          "text": [
            "Read Corrected/corrected_25.csv and created a DataFrame\n",
            "Applied 1 corrections in Stage 25.\n",
            "STAGE 25 COMPLETE! Utterance Count=178278\n"
          ]
        }
      ]
    },
    {
      "cell_type": "code",
      "metadata": {
        "colab": {
          "base_uri": "https://localhost:8080/"
        },
        "id": "RMhC39_X4i5g",
        "outputId": "e7535f6b-7731-4f15-85cc-a0e55295bd70"
      },
      "source": [
        "# Stage 26\n",
        "all_26 = correction_complete(all_25)"
      ],
      "execution_count": null,
      "outputs": [
        {
          "output_type": "stream",
          "name": "stdout",
          "text": [
            "Read Corrected/corrected_26.csv and created a DataFrame\n",
            "Applied 1 corrections in Stage 26.\n",
            "STAGE 26 COMPLETE! Utterance Count=178278\n"
          ]
        }
      ]
    },
    {
      "cell_type": "code",
      "metadata": {
        "colab": {
          "base_uri": "https://localhost:8080/"
        },
        "id": "Te3dfi6Q4mcS",
        "outputId": "ef0f268c-0175-41b4-bbb5-7f684c7e4112"
      },
      "source": [
        "# Stage 27\n",
        "all_27 = correction_complete(all_26)"
      ],
      "execution_count": null,
      "outputs": [
        {
          "output_type": "stream",
          "name": "stdout",
          "text": [
            "Read Corrected/corrected_27.csv and created a DataFrame\n",
            "Read To_Delete/toDelete_27.csv and created a DataFrame\n",
            "Deleted 1 utterances in Stage 27\n",
            "Applied 0 corrections in Stage 27.\n",
            "STAGE 27 COMPLETE! Utterance Count=178277\n"
          ]
        }
      ]
    },
    {
      "cell_type": "markdown",
      "metadata": {
        "id": "llxdWLRi5HTc"
      },
      "source": [
        "**IMPORTANT:** හරකයි මි is retained in Stage 27; it should be changed as හරකයි මී (9d4947a774). Can apply finally."
      ]
    },
    {
      "cell_type": "code",
      "metadata": {
        "colab": {
          "base_uri": "https://localhost:8080/"
        },
        "id": "aZXhLv5M4x1d",
        "outputId": "d6a62b75-a7c0-42d6-f14e-5e479e9a847c"
      },
      "source": [
        "# Stage 28\n",
        "all_28 = correction_complete(all_27)"
      ],
      "execution_count": null,
      "outputs": [
        {
          "output_type": "stream",
          "name": "stdout",
          "text": [
            "Read Corrected/corrected_28.csv and created a DataFrame\n",
            "Applied 2 corrections in Stage 28.\n",
            "STAGE 28 COMPLETE! Utterance Count=178277\n"
          ]
        }
      ]
    },
    {
      "cell_type": "code",
      "metadata": {
        "colab": {
          "base_uri": "https://localhost:8080/"
        },
        "id": "S_EQiO9n5ir6",
        "outputId": "2eaec759-0e3a-4565-f180-ea04d28709dd"
      },
      "source": [
        "# Stage 29\n",
        "all_29 = correction_complete(all_28)"
      ],
      "execution_count": null,
      "outputs": [
        {
          "output_type": "stream",
          "name": "stdout",
          "text": [
            "Read Corrected/corrected_29.csv and created a DataFrame\n",
            "Applied 8 corrections in Stage 29.\n",
            "STAGE 29 COMPLETE! Utterance Count=178277\n"
          ]
        }
      ]
    },
    {
      "cell_type": "code",
      "metadata": {
        "colab": {
          "base_uri": "https://localhost:8080/"
        },
        "id": "OdN27ZTD5pZO",
        "outputId": "a2b4005a-0c15-4328-ab5f-83a4a3765dd5"
      },
      "source": [
        "# Stage 30\n",
        "all_30 = correction_complete(all_29)"
      ],
      "execution_count": null,
      "outputs": [
        {
          "output_type": "stream",
          "name": "stdout",
          "text": [
            "Read Corrected/corrected_30.csv and created a DataFrame\n",
            "Applied 24 corrections in Stage 30.\n",
            "STAGE 30 COMPLETE! Utterance Count=178277\n"
          ]
        }
      ]
    },
    {
      "cell_type": "code",
      "metadata": {
        "colab": {
          "base_uri": "https://localhost:8080/"
        },
        "id": "PusPwcVtBl5I",
        "outputId": "14a0fe9a-60bc-4b30-b56a-1f8ec54a3f79"
      },
      "source": [
        "# Stage 32\n",
        "force_change_stage(32)\n",
        "all_32 = correction_complete(all_30)"
      ],
      "execution_count": null,
      "outputs": [
        {
          "output_type": "stream",
          "name": "stdout",
          "text": [
            "Read Corrected/corrected_32.csv and created a DataFrame\n",
            "Read To_Delete/toDelete_32.csv and created a DataFrame\n",
            "Deleted 1 utterances in Stage 32\n",
            "Applied 42 corrections in Stage 32.\n",
            "STAGE 32 COMPLETE! Utterance Count=178276\n"
          ]
        }
      ]
    },
    {
      "cell_type": "code",
      "metadata": {
        "colab": {
          "base_uri": "https://localhost:8080/"
        },
        "id": "NCef2RoVCJAW",
        "outputId": "df190b88-e2f1-439b-c73d-114cd535fa7b"
      },
      "source": [
        "# Stage 33\n",
        "all_33 = correction_complete(all_32)"
      ],
      "execution_count": null,
      "outputs": [
        {
          "output_type": "stream",
          "name": "stdout",
          "text": [
            "Read Corrected/corrected_33.csv and created a DataFrame\n",
            "Applied 106 corrections in Stage 33.\n",
            "STAGE 33 COMPLETE! Utterance Count=178276\n"
          ]
        }
      ]
    },
    {
      "cell_type": "code",
      "metadata": {
        "colab": {
          "base_uri": "https://localhost:8080/"
        },
        "id": "dPsWQJXcCY-E",
        "outputId": "354004b1-80ed-4afb-e556-e1c36cb8407f"
      },
      "source": [
        "# Stage 34\n",
        "all_34 = correction_complete(all_33)"
      ],
      "execution_count": null,
      "outputs": [
        {
          "output_type": "stream",
          "name": "stdout",
          "text": [
            "Read Corrected/corrected_34.csv and created a DataFrame\n",
            "Applied 0 corrections in Stage 34.\n",
            "STAGE 34 COMPLETE! Utterance Count=178276\n"
          ]
        }
      ]
    },
    {
      "cell_type": "code",
      "metadata": {
        "colab": {
          "base_uri": "https://localhost:8080/"
        },
        "id": "FH0XOYFqC6dk",
        "outputId": "c4dcdd54-f7ef-4d8c-8679-0d6dc9109fe1"
      },
      "source": [
        "# Stage 35\n",
        "all_35 = correction_complete(all_34)"
      ],
      "execution_count": null,
      "outputs": [
        {
          "output_type": "stream",
          "name": "stdout",
          "text": [
            "Read Corrected/corrected_35.csv and created a DataFrame\n",
            "Applied 57 corrections in Stage 35.\n",
            "STAGE 35 COMPLETE! Utterance Count=178276\n"
          ]
        }
      ]
    },
    {
      "cell_type": "code",
      "metadata": {
        "colab": {
          "base_uri": "https://localhost:8080/"
        },
        "id": "SMQbL18hDEkm",
        "outputId": "110a12c8-584b-4ac3-fec2-bf7e699da89e"
      },
      "source": [
        "# Stage 36\n",
        "all_36 = correction_complete(all_35)"
      ],
      "execution_count": null,
      "outputs": [
        {
          "output_type": "stream",
          "name": "stdout",
          "text": [
            "Read Corrected/corrected_36.csv and created a DataFrame\n",
            "Read To_Delete/toDelete_36.csv and created a DataFrame\n",
            "Deleted 1 utterances in Stage 36\n",
            "Applied 48 corrections in Stage 36.\n",
            "STAGE 36 COMPLETE! Utterance Count=178275\n"
          ]
        }
      ]
    },
    {
      "cell_type": "code",
      "metadata": {
        "colab": {
          "base_uri": "https://localhost:8080/"
        },
        "id": "ebMJJeKIDqmc",
        "outputId": "a4dd9ed5-709d-46cb-eed8-5ba1eb2c4f60"
      },
      "source": [
        "# Stage 37\n",
        "all_37 = correction_complete(all_36)"
      ],
      "execution_count": null,
      "outputs": [
        {
          "output_type": "stream",
          "name": "stdout",
          "text": [
            "Read Corrected/corrected_37.csv and created a DataFrame\n",
            "Applied 10 corrections in Stage 37.\n",
            "STAGE 37 COMPLETE! Utterance Count=178275\n"
          ]
        }
      ]
    },
    {
      "cell_type": "code",
      "metadata": {
        "colab": {
          "base_uri": "https://localhost:8080/"
        },
        "id": "noETMIZlDwlv",
        "outputId": "e8639c1c-9357-408e-c609-db289735473f"
      },
      "source": [
        "# Stage 38\n",
        "all_38 = correction_complete(all_37)"
      ],
      "execution_count": null,
      "outputs": [
        {
          "output_type": "stream",
          "name": "stdout",
          "text": [
            "Read Corrected/corrected_38.csv and created a DataFrame\n",
            "Applied 1 corrections in Stage 38.\n",
            "STAGE 38 COMPLETE! Utterance Count=178275\n"
          ]
        }
      ]
    },
    {
      "cell_type": "code",
      "metadata": {
        "colab": {
          "base_uri": "https://localhost:8080/"
        },
        "id": "So360z4xD2nV",
        "outputId": "328bfe54-5392-4905-c32a-f63334912f92"
      },
      "source": [
        "# Stage 39\n",
        "all_39 = correction_complete(all_38)"
      ],
      "execution_count": null,
      "outputs": [
        {
          "output_type": "stream",
          "name": "stdout",
          "text": [
            "Read Corrected/corrected_39.csv and created a DataFrame\n",
            "Read To_Delete/toDelete_39.csv and created a DataFrame\n",
            "Deleted 4 utterances in Stage 39\n",
            "Applied 49 corrections in Stage 39.\n",
            "STAGE 39 COMPLETE! Utterance Count=178271\n"
          ]
        }
      ]
    },
    {
      "cell_type": "code",
      "metadata": {
        "colab": {
          "base_uri": "https://localhost:8080/"
        },
        "id": "bzB8MW1MD-JL",
        "outputId": "f0b5d740-71e7-4058-f4ab-60d71a1d350a"
      },
      "source": [
        "# Stage 40\n",
        "all_40 = correction_complete(all_39)"
      ],
      "execution_count": null,
      "outputs": [
        {
          "output_type": "stream",
          "name": "stdout",
          "text": [
            "Read Corrected/corrected_40.csv and created a DataFrame\n",
            "Applied 1 corrections in Stage 40.\n",
            "STAGE 40 COMPLETE! Utterance Count=178271\n"
          ]
        }
      ]
    },
    {
      "cell_type": "code",
      "metadata": {
        "id": "jIhv5zzKEB1G"
      },
      "source": [
        "# Stage 41\n",
        "# all_41 = correction_complete(all_40)"
      ],
      "execution_count": null,
      "outputs": []
    },
    {
      "cell_type": "markdown",
      "metadata": {
        "id": "JkJKMOMlEwRm"
      },
      "source": [
        "**IMPORTANT:** There was a runtime error caused by an asterisk (*) which was in one row of the `corrected_41.csv` when executing above cell. It was fixed after applying 67. So, 41 will be applied after 67."
      ]
    },
    {
      "cell_type": "code",
      "metadata": {
        "colab": {
          "base_uri": "https://localhost:8080/"
        },
        "id": "KVulUQLBFFHy",
        "outputId": "ef15b733-54d3-40e4-f0cc-1515dc65a517"
      },
      "source": [
        "# Stage 42\n",
        "force_change_stage(42)\n",
        "all_42 = correction_complete(all_40)"
      ],
      "execution_count": null,
      "outputs": [
        {
          "output_type": "stream",
          "name": "stdout",
          "text": [
            "Read Corrected/corrected_42.csv and created a DataFrame\n",
            "Applied 5 corrections in Stage 42.\n",
            "STAGE 42 COMPLETE! Utterance Count=178271\n"
          ]
        }
      ]
    },
    {
      "cell_type": "code",
      "metadata": {
        "colab": {
          "base_uri": "https://localhost:8080/"
        },
        "id": "dqI_V6RjFPfR",
        "outputId": "b1f1e742-8e1d-4bda-a1db-e0fe18d53797"
      },
      "source": [
        "# Stage 43\n",
        "all_43 = correction_complete(all_42)"
      ],
      "execution_count": null,
      "outputs": [
        {
          "output_type": "stream",
          "name": "stdout",
          "text": [
            "Read Corrected/corrected_43.csv and created a DataFrame\n",
            "Applied 4 corrections in Stage 43.\n",
            "STAGE 43 COMPLETE! Utterance Count=178271\n"
          ]
        }
      ]
    },
    {
      "cell_type": "code",
      "metadata": {
        "colab": {
          "base_uri": "https://localhost:8080/"
        },
        "id": "9X3rWMomFVM-",
        "outputId": "778749ed-2676-4f30-fb15-b7fd7d3202e6"
      },
      "source": [
        "# Stage 44\n",
        "all_44 = correction_complete(all_43)"
      ],
      "execution_count": null,
      "outputs": [
        {
          "output_type": "stream",
          "name": "stdout",
          "text": [
            "Read Corrected/corrected_44.csv and created a DataFrame\n",
            "Read To_Delete/toDelete_44.csv and created a DataFrame\n",
            "Deleted 1 utterances in Stage 44\n",
            "Applied 13 corrections in Stage 44.\n",
            "STAGE 44 COMPLETE! Utterance Count=178270\n"
          ]
        }
      ]
    },
    {
      "cell_type": "code",
      "metadata": {
        "colab": {
          "base_uri": "https://localhost:8080/"
        },
        "id": "_w4yBz5UFas2",
        "outputId": "566114e5-1dd6-41a4-bd6d-ae95e6c481ed"
      },
      "source": [
        "# Stage 45\n",
        "all_45 = correction_complete(all_44)"
      ],
      "execution_count": null,
      "outputs": [
        {
          "output_type": "stream",
          "name": "stdout",
          "text": [
            "Read Corrected/corrected_45.csv and created a DataFrame\n",
            "Read To_Delete/toDelete_45.csv and created a DataFrame\n",
            "Deleted 1 utterances in Stage 45\n",
            "Applied 22 corrections in Stage 45.\n",
            "STAGE 45 COMPLETE! Utterance Count=178269\n"
          ]
        }
      ]
    },
    {
      "cell_type": "code",
      "metadata": {
        "colab": {
          "base_uri": "https://localhost:8080/"
        },
        "id": "aXiMNEgiFfJi",
        "outputId": "805cd208-16d8-403f-ba18-542b88e74e59"
      },
      "source": [
        "# Stage 46\n",
        "all_46 = correction_complete(all_45)"
      ],
      "execution_count": null,
      "outputs": [
        {
          "output_type": "stream",
          "name": "stdout",
          "text": [
            "Read Corrected/corrected_46.csv and created a DataFrame\n",
            "Applied 1 corrections in Stage 46.\n",
            "STAGE 46 COMPLETE! Utterance Count=178269\n"
          ]
        }
      ]
    },
    {
      "cell_type": "code",
      "metadata": {
        "colab": {
          "base_uri": "https://localhost:8080/"
        },
        "id": "nHqyLPb8FlQA",
        "outputId": "42ec11df-78f5-4573-975c-f00da9103e16"
      },
      "source": [
        "# Stage 47\n",
        "all_47 = correction_complete(all_46)"
      ],
      "execution_count": null,
      "outputs": [
        {
          "output_type": "stream",
          "name": "stdout",
          "text": [
            "Read Corrected/corrected_47.csv and created a DataFrame\n",
            "Applied 7 corrections in Stage 47.\n",
            "STAGE 47 COMPLETE! Utterance Count=178269\n"
          ]
        }
      ]
    },
    {
      "cell_type": "code",
      "metadata": {
        "colab": {
          "base_uri": "https://localhost:8080/"
        },
        "id": "vM_5n64CFqZT",
        "outputId": "4bf03def-76a2-4a3b-a493-d219d5ee4302"
      },
      "source": [
        "# Stage 50\n",
        "force_change_stage(50)\n",
        "all_50 = correction_complete(all_47)"
      ],
      "execution_count": null,
      "outputs": [
        {
          "output_type": "stream",
          "name": "stdout",
          "text": [
            "Read Corrected/corrected_50.csv and created a DataFrame\n",
            "Applied 51 corrections in Stage 50.\n",
            "STAGE 50 COMPLETE! Utterance Count=178269\n"
          ]
        }
      ]
    },
    {
      "cell_type": "code",
      "metadata": {
        "colab": {
          "base_uri": "https://localhost:8080/"
        },
        "id": "V5RPhe22F0Vv",
        "outputId": "9c12bddf-b93e-49a1-9272-85269a5ce9f7"
      },
      "source": [
        "# Stage 54\n",
        "force_change_stage(54)\n",
        "all_54 = correction_complete(all_50)"
      ],
      "execution_count": null,
      "outputs": [
        {
          "output_type": "stream",
          "name": "stdout",
          "text": [
            "Read Corrected/corrected_54.csv and created a DataFrame\n",
            "Applied 224 corrections in Stage 54.\n",
            "Read Doubt_Corrected/doubtCorrected_54.csv and created a DataFrame\n",
            "Applied 4 Doubt Corrections in Stage 54.\n",
            "STAGE 54 COMPLETE! Utterance Count=178269\n"
          ]
        }
      ]
    },
    {
      "cell_type": "code",
      "metadata": {
        "colab": {
          "base_uri": "https://localhost:8080/"
        },
        "id": "tyqmJbJcGFpl",
        "outputId": "14b57914-95a2-41fb-fad4-ced7e14ca433"
      },
      "source": [
        "# Stage 55\n",
        "all_55 = correction_complete(all_54)"
      ],
      "execution_count": null,
      "outputs": [
        {
          "output_type": "stream",
          "name": "stdout",
          "text": [
            "Read Corrected/corrected_55.csv and created a DataFrame\n",
            "Applied 261 corrections in Stage 55.\n",
            "Read Doubt_Corrected/doubtCorrected_55.csv and created a DataFrame\n",
            "Applied 1 Doubt Corrections in Stage 55.\n",
            "STAGE 55 COMPLETE! Utterance Count=178269\n"
          ]
        }
      ]
    },
    {
      "cell_type": "code",
      "metadata": {
        "colab": {
          "base_uri": "https://localhost:8080/"
        },
        "id": "0hNkwFdLGUzH",
        "outputId": "1e17d3d2-35e8-4907-d576-3c3609c4db58"
      },
      "source": [
        "# Stage 56\n",
        "all_56 = correction_complete(all_55)"
      ],
      "execution_count": null,
      "outputs": [
        {
          "output_type": "stream",
          "name": "stdout",
          "text": [
            "Read Corrected/corrected_56.csv and created a DataFrame\n",
            "Applied 252 corrections in Stage 56.\n",
            "STAGE 56 COMPLETE! Utterance Count=178269\n"
          ]
        }
      ]
    },
    {
      "cell_type": "code",
      "metadata": {
        "colab": {
          "base_uri": "https://localhost:8080/"
        },
        "id": "Tb8b9KEJGl7s",
        "outputId": "19f50c35-83eb-4541-f0ca-4287e953a3d7"
      },
      "source": [
        "# Stage 57\n",
        "all_57 = correction_complete(all_56)"
      ],
      "execution_count": null,
      "outputs": [
        {
          "output_type": "stream",
          "name": "stdout",
          "text": [
            "ERROR: Correction file for Stage 57 is unavailable!\n"
          ]
        }
      ]
    },
    {
      "cell_type": "markdown",
      "metadata": {
        "id": "6aMuS6m0HQ_B"
      },
      "source": [
        "**IMPORTANT:** Corrections of 57 are not available at the moment. Should do at the end."
      ]
    },
    {
      "cell_type": "code",
      "metadata": {
        "id": "le88UbBNHY0U"
      },
      "source": [
        "force_change_stage(58)\n",
        "all_57 = all_56"
      ],
      "execution_count": null,
      "outputs": []
    },
    {
      "cell_type": "code",
      "metadata": {
        "colab": {
          "base_uri": "https://localhost:8080/"
        },
        "id": "svwoL0ALHgQL",
        "outputId": "118864fb-52a7-4516-881d-02f453661463"
      },
      "source": [
        "# Stage 58\n",
        "all_58 = correction_complete(all_57)"
      ],
      "execution_count": null,
      "outputs": [
        {
          "output_type": "stream",
          "name": "stdout",
          "text": [
            "Read Corrected/corrected_58.csv and created a DataFrame\n",
            "Applied 37 corrections in Stage 58.\n",
            "STAGE 58 COMPLETE! Utterance Count=178269\n"
          ]
        }
      ]
    },
    {
      "cell_type": "code",
      "metadata": {
        "colab": {
          "base_uri": "https://localhost:8080/"
        },
        "id": "DvHzLYqfHvEG",
        "outputId": "16b4f7c6-7540-4bf5-f17c-3306c6111aa3"
      },
      "source": [
        "# Stage 62\n",
        "force_change_stage(62)\n",
        "all_62 = correction_complete(all_58)"
      ],
      "execution_count": null,
      "outputs": [
        {
          "output_type": "stream",
          "name": "stdout",
          "text": [
            "Read Corrected/corrected_62.csv and created a DataFrame\n",
            "Applied 66 corrections in Stage 62.\n",
            "STAGE 62 COMPLETE! Utterance Count=178269\n"
          ]
        }
      ]
    },
    {
      "cell_type": "code",
      "metadata": {
        "colab": {
          "base_uri": "https://localhost:8080/"
        },
        "id": "fiAtAsORH5Qm",
        "outputId": "2c4c6eac-894b-4ae9-c6e6-1607e84a1ca1"
      },
      "source": [
        "# Stage 63\n",
        "all_63 = correction_complete(all_62)"
      ],
      "execution_count": null,
      "outputs": [
        {
          "output_type": "stream",
          "name": "stdout",
          "text": [
            "Read Corrected/corrected_63.csv and created a DataFrame\n",
            "Applied 51 corrections in Stage 63.\n",
            "STAGE 63 COMPLETE! Utterance Count=178269\n"
          ]
        }
      ]
    },
    {
      "cell_type": "code",
      "metadata": {
        "colab": {
          "base_uri": "https://localhost:8080/"
        },
        "id": "CgfsrA5oIA8j",
        "outputId": "4be00e1b-d177-4785-bef6-d90c4546f964"
      },
      "source": [
        "# Stage 64\n",
        "all_64 = correction_complete(all_63)"
      ],
      "execution_count": null,
      "outputs": [
        {
          "output_type": "stream",
          "name": "stdout",
          "text": [
            "Read Corrected/corrected_64.csv and created a DataFrame\n",
            "Applied 25 corrections in Stage 64.\n",
            "STAGE 64 COMPLETE! Utterance Count=178269\n"
          ]
        }
      ]
    },
    {
      "cell_type": "code",
      "metadata": {
        "colab": {
          "base_uri": "https://localhost:8080/"
        },
        "id": "ftAViUz_IGrs",
        "outputId": "f517c7fa-4113-40af-eee7-34fbbbb33c5a"
      },
      "source": [
        "# Stage 65\n",
        "all_65 = correction_complete(all_64)"
      ],
      "execution_count": null,
      "outputs": [
        {
          "output_type": "stream",
          "name": "stdout",
          "text": [
            "Read Corrected/corrected_65.csv and created a DataFrame\n",
            "Applied 29 corrections in Stage 65.\n",
            "STAGE 65 COMPLETE! Utterance Count=178269\n"
          ]
        }
      ]
    },
    {
      "cell_type": "code",
      "metadata": {
        "colab": {
          "base_uri": "https://localhost:8080/"
        },
        "id": "RSePwdU-IKj6",
        "outputId": "17a3d92d-bf35-441a-e0e9-f3f2f8fedb15"
      },
      "source": [
        "# Stage 66\n",
        "all_66 = correction_complete(all_65)"
      ],
      "execution_count": null,
      "outputs": [
        {
          "output_type": "stream",
          "name": "stdout",
          "text": [
            "Read Corrected/corrected_66.csv and created a DataFrame\n",
            "Applied 13 corrections in Stage 66.\n",
            "STAGE 66 COMPLETE! Utterance Count=178269\n"
          ]
        }
      ]
    },
    {
      "cell_type": "code",
      "metadata": {
        "colab": {
          "base_uri": "https://localhost:8080/"
        },
        "id": "8FFQYin4IW8v",
        "outputId": "d163a1fd-ca5a-42e2-9f04-32488ca9a257"
      },
      "source": [
        "# Stage 67\n",
        "all_67 = correction_complete(all_66)"
      ],
      "execution_count": null,
      "outputs": [
        {
          "output_type": "stream",
          "name": "stdout",
          "text": [
            "Read Corrected/corrected_67.csv and created a DataFrame\n",
            "Applied 16 corrections in Stage 67.\n",
            "STAGE 67 COMPLETE! Utterance Count=178269\n"
          ]
        }
      ]
    },
    {
      "cell_type": "markdown",
      "metadata": {
        "id": "EJmElvUBSi5R"
      },
      "source": [
        "**Applying 41 after removing the unnecessary asterisk.**"
      ]
    },
    {
      "cell_type": "code",
      "metadata": {
        "colab": {
          "base_uri": "https://localhost:8080/"
        },
        "id": "nlV6e5q7Sosv",
        "outputId": "e6f51cb5-830e-4ffd-bcdc-e1e05d6361ac"
      },
      "source": [
        "force_change_stage(41)\n",
        "all_41 = correction_complete(all_67)"
      ],
      "execution_count": null,
      "outputs": [
        {
          "output_type": "stream",
          "name": "stdout",
          "text": [
            "Read Corrected/corrected_41.csv and created a DataFrame\n",
            "Read To_Delete/toDelete_41.csv and created a DataFrame\n",
            "Deleted 1 utterances in Stage 41\n",
            "Applied 31 corrections in Stage 41.\n",
            "STAGE 41 COMPLETE! Utterance Count=178268\n"
          ]
        }
      ]
    },
    {
      "cell_type": "code",
      "metadata": {
        "id": "uhYyEs86TJ6m"
      },
      "source": [
        "all_67 = all_41\n",
        "write_to_csv('all_67_41', all_67, allDirectory)"
      ],
      "execution_count": null,
      "outputs": []
    },
    {
      "cell_type": "markdown",
      "metadata": {
        "id": "YqpfWrvxTjjh"
      },
      "source": [
        "**Applying 57**"
      ]
    },
    {
      "cell_type": "code",
      "metadata": {
        "colab": {
          "base_uri": "https://localhost:8080/"
        },
        "id": "YPZfvn9rTqvh",
        "outputId": "9e075306-712e-46a1-b869-f113b9b1dc9b"
      },
      "source": [
        "force_change_stage(57)\n",
        "all_57 = correction_complete(all_67)"
      ],
      "execution_count": null,
      "outputs": [
        {
          "output_type": "stream",
          "name": "stdout",
          "text": [
            "Read Corrected/corrected_57.csv and created a DataFrame\n",
            "Read To_Delete/toDelete_57.csv and created a DataFrame\n",
            "Deleted 8 utterances in Stage 57\n",
            "Applied 135 corrections in Stage 57.\n",
            "STAGE 57 COMPLETE! Utterance Count=178260\n"
          ]
        }
      ]
    },
    {
      "cell_type": "code",
      "metadata": {
        "id": "QSKMxFAOUEMS"
      },
      "source": [
        "write_to_csv('all_67_41_57', all_67, allDirectory)"
      ],
      "execution_count": null,
      "outputs": []
    },
    {
      "cell_type": "markdown",
      "metadata": {
        "id": "ULPud3_IVt7Z"
      },
      "source": [
        "**Did some manual modifications to the above `all_67_41_57` utterance file:**\n",
        "\n",
        "\n",
        "1.   Changed හරකයි මි to හරකයි මී in `9d4947a774`\n",
        "2.   Removed `2385e88524` because it is a Pali Gatha\n",
        "3.   Changed උත්සාහ වත්වන to උත්සාහවත් වන in `764aee61d5`\n",
        "4.   Applied common_modifications by Lakshan: 5 modifications and 2 removals (removed `09f841d8b3` and `63190b0d59`)\n",
        "\n",
        "\n",
        "\n"
      ]
    },
    {
      "cell_type": "markdown",
      "metadata": {
        "id": "Wh9GN-3sY0JC"
      },
      "source": [
        "**Finalized Less Ambiguous Utterances:**"
      ]
    },
    {
      "cell_type": "code",
      "metadata": {
        "colab": {
          "base_uri": "https://localhost:8080/"
        },
        "id": "YG-ZZd45Y49N",
        "outputId": "4498c866-855b-47a0-fb7e-6c8ec6704f70"
      },
      "source": [
        "all_LA = read_file('./All_Utterances/all_less_ambiguous.csv')"
      ],
      "execution_count": 39,
      "outputs": [
        {
          "output_type": "stream",
          "name": "stdout",
          "text": [
            "Read ./All_Utterances/all_less_ambiguous.csv and created a DataFrame\n"
          ]
        }
      ]
    },
    {
      "cell_type": "code",
      "metadata": {
        "colab": {
          "base_uri": "https://localhost:8080/"
        },
        "id": "1SQUItGRZBnq",
        "outputId": "f79e0721-890f-4137-d393-65f6c0faae9c"
      },
      "source": [
        "all_LA.shape"
      ],
      "execution_count": 40,
      "outputs": [
        {
          "output_type": "execute_result",
          "data": {
            "text/plain": [
              "(178266, 4)"
            ]
          },
          "metadata": {},
          "execution_count": 40
        }
      ]
    },
    {
      "cell_type": "markdown",
      "metadata": {
        "id": "7z0Cqu1XZUjd"
      },
      "source": [
        "# **More Ambiguous Corrections**"
      ]
    },
    {
      "cell_type": "code",
      "metadata": {
        "colab": {
          "base_uri": "https://localhost:8080/"
        },
        "id": "sLAAkJFZZYCT",
        "outputId": "7fa9f039-f920-4a14-b65a-481405f008ce"
      },
      "source": [
        "# Stage 31\n",
        "force_change_stage(31)\n",
        "all_31 = correction_complete(all_LA)"
      ],
      "execution_count": 41,
      "outputs": [
        {
          "output_type": "stream",
          "name": "stdout",
          "text": [
            "Read Corrected/corrected_31.csv and created a DataFrame\n",
            "Read To_Delete/toDelete_31.csv and created a DataFrame\n",
            "Deleted 96 utterances in Stage 31\n",
            "Applied 1519 corrections in Stage 31.\n",
            "Read Doubt_Corrected/doubtCorrected_31.csv and created a DataFrame\n",
            "Applied 11 Doubt Corrections in Stage 31.\n",
            "STAGE 31 COMPLETE! Utterance Count=178170\n"
          ]
        }
      ]
    },
    {
      "cell_type": "code",
      "metadata": {
        "colab": {
          "base_uri": "https://localhost:8080/"
        },
        "id": "_xY723x_a98V",
        "outputId": "d34a80bc-fc3a-4627-b057-da10378d1e5d"
      },
      "source": [
        "# Stage 48\n",
        "force_change_stage(48)\n",
        "all_48 = correction_complete(all_31)"
      ],
      "execution_count": 23,
      "outputs": [
        {
          "output_type": "stream",
          "name": "stdout",
          "text": [
            "Read Corrected/corrected_48.csv and created a DataFrame\n",
            "Read To_Delete/toDelete_48.csv and created a DataFrame\n",
            "Deleted 24 utterances in Stage 48\n",
            "Applied 1476 corrections in Stage 48.\n",
            "Read Doubt_Corrected/doubtCorrected_48.csv and created a DataFrame\n",
            "Applied 2 Doubt Corrections in Stage 48.\n",
            "STAGE 48 COMPLETE! Utterance Count=178147\n"
          ]
        }
      ]
    },
    {
      "cell_type": "code",
      "metadata": {
        "colab": {
          "base_uri": "https://localhost:8080/"
        },
        "id": "FTIgstRvcUik",
        "outputId": "50e63f55-e568-4797-a17e-9038a8100963"
      },
      "source": [
        "# Stage 49\n",
        "all_49 = correction_complete(all_48)"
      ],
      "execution_count": 25,
      "outputs": [
        {
          "output_type": "stream",
          "name": "stdout",
          "text": [
            "Read Corrected/corrected_49.csv and created a DataFrame\n",
            "Read To_Delete/toDelete_49.csv and created a DataFrame\n",
            "Deleted 3 utterances in Stage 49\n",
            "Applied 125 corrections in Stage 49.\n",
            "Read Doubt_Corrected/doubtCorrected_49.csv and created a DataFrame\n",
            "Applied 2 Doubt Corrections in Stage 49.\n",
            "STAGE 49 COMPLETE! Utterance Count=178144\n"
          ]
        }
      ]
    },
    {
      "cell_type": "code",
      "metadata": {
        "colab": {
          "base_uri": "https://localhost:8080/"
        },
        "id": "oSactquTcmRV",
        "outputId": "388a5697-7c96-483d-89b6-0927dca8beb8"
      },
      "source": [
        "# Stage 51\n",
        "force_change_stage(51)\n",
        "all_51 = correction_complete(all_49)"
      ],
      "execution_count": null,
      "outputs": [
        {
          "output_type": "stream",
          "name": "stdout",
          "text": [
            "Read Corrected/corrected_51.csv and created a DataFrame\n",
            "Read To_Delete/toDelete_51.csv and created a DataFrame\n",
            "Deleted 4 utterances in Stage 51\n",
            "Applied 2099 corrections in Stage 51.\n",
            "Read Doubt_Corrected/doubtCorrected_51.csv and created a DataFrame\n",
            "Applied 2 Doubt Corrections in Stage 51.\n",
            "STAGE 51 COMPLETE! Utterance Count=178140\n"
          ]
        }
      ]
    },
    {
      "cell_type": "code",
      "metadata": {
        "colab": {
          "base_uri": "https://localhost:8080/"
        },
        "id": "9ZBp4jmmeSqp",
        "outputId": "6072e4a3-dd79-4ab8-8d4e-15caa21edd6a"
      },
      "source": [
        "# Stage 52\n",
        "all_52 = correction_complete(all_51)"
      ],
      "execution_count": null,
      "outputs": [
        {
          "output_type": "stream",
          "name": "stdout",
          "text": [
            "Read Corrected/corrected_52.csv and created a DataFrame\n",
            "Read To_Delete/toDelete_52.csv and created a DataFrame\n",
            "Deleted 38 utterances in Stage 52\n",
            "Applied 941 corrections in Stage 52.\n",
            "Read Doubt_Corrected/doubtCorrected_52.csv and created a DataFrame\n",
            "Applied 4 Doubt Corrections in Stage 52.\n",
            "STAGE 52 COMPLETE! Utterance Count=178102\n"
          ]
        }
      ]
    },
    {
      "cell_type": "code",
      "metadata": {
        "colab": {
          "base_uri": "https://localhost:8080/"
        },
        "id": "s-z0Zx-2fQ0s",
        "outputId": "e1c1f9b7-18d2-44a2-c78c-d219ee76abd1"
      },
      "source": [
        "# Stage 53\n",
        "all_53 = correction_complete(all_52)"
      ],
      "execution_count": null,
      "outputs": [
        {
          "output_type": "stream",
          "name": "stdout",
          "text": [
            "Read Corrected/corrected_53.csv and created a DataFrame\n",
            "Applied 13 corrections in Stage 53.\n",
            "STAGE 53 COMPLETE! Utterance Count=178102\n"
          ]
        }
      ]
    },
    {
      "cell_type": "code",
      "metadata": {
        "colab": {
          "base_uri": "https://localhost:8080/"
        },
        "id": "-340ml_Nfg5p",
        "outputId": "290e16de-22c2-4525-b9ed-478a4c836448"
      },
      "source": [
        "# Stage 59\n",
        "force_change_stage(59)\n",
        "all_59 = correction_complete(all_53)"
      ],
      "execution_count": null,
      "outputs": [
        {
          "output_type": "stream",
          "name": "stdout",
          "text": [
            "Read Corrected/corrected_59.csv and created a DataFrame\n",
            "Applied 112 corrections in Stage 59.\n",
            "Read Doubt_Corrected/doubtCorrected_59.csv and created a DataFrame\n",
            "Applied 3 Doubt Corrections in Stage 59.\n",
            "STAGE 59 COMPLETE! Utterance Count=178102\n"
          ]
        }
      ]
    },
    {
      "cell_type": "code",
      "metadata": {
        "colab": {
          "base_uri": "https://localhost:8080/"
        },
        "id": "MEQVScw0huRH",
        "outputId": "44d6caef-0c31-4527-c5ff-c732b0bca19d"
      },
      "source": [
        "# Stage 60\n",
        "all_60 = correction_complete(all_59)"
      ],
      "execution_count": null,
      "outputs": [
        {
          "output_type": "stream",
          "name": "stdout",
          "text": [
            "Read Corrected/corrected_60.csv and created a DataFrame\n",
            "Applied 142 corrections in Stage 60.\n",
            "STAGE 60 COMPLETE! Utterance Count=178102\n"
          ]
        }
      ]
    },
    {
      "cell_type": "code",
      "metadata": {
        "colab": {
          "base_uri": "https://localhost:8080/"
        },
        "id": "l2a5B8y3h8kL",
        "outputId": "cd62eb3b-b96b-4f84-a097-a439e9efffbb"
      },
      "source": [
        "# Stage 61\n",
        "all_61 = correction_complete(all_60)"
      ],
      "execution_count": null,
      "outputs": [
        {
          "output_type": "stream",
          "name": "stdout",
          "text": [
            "Read Corrected/corrected_61.csv and created a DataFrame\n",
            "Read To_Delete/toDelete_61.csv and created a DataFrame\n",
            "Deleted 1 utterances in Stage 61\n",
            "Applied 97 corrections in Stage 61.\n",
            "STAGE 61 COMPLETE! Utterance Count=178102\n"
          ]
        }
      ]
    },
    {
      "cell_type": "markdown",
      "metadata": {
        "id": "9o2rkvyWiMSN"
      },
      "source": [
        "**Finished More Ambiguous corrections**"
      ]
    },
    {
      "cell_type": "code",
      "metadata": {
        "id": "0zF1qoRCibeV"
      },
      "source": [
        "write_to_csv('all_more_ambiguous', all_61, allDirectory)"
      ],
      "execution_count": null,
      "outputs": []
    },
    {
      "cell_type": "markdown",
      "metadata": {
        "id": "ZP7Ci_5CvWCQ"
      },
      "source": [
        "# **Applying all corrections in one loop**"
      ]
    },
    {
      "cell_type": "markdown",
      "metadata": {
        "id": "Gl7e89wPdMZj"
      },
      "source": [
        "# CONSIDER THIS AS THE CORRECT OPERATION"
      ]
    },
    {
      "cell_type": "markdown",
      "metadata": {
        "id": "u_JQjFgSvdKI"
      },
      "source": [
        "There was a bug in `apply_corrections` and `correction_doubt_correct` functions which has caused erroneuos replacements of texts. The bug was fixed by having `apply_padding` and `remove_padding` functions.\n",
        "\n",
        "Now, we shall apply all the corrections from STAGE 1, in one loop. However, we shall do *less ambiguous* and *more ambiguous* corrections separately."
      ]
    },
    {
      "cell_type": "code",
      "metadata": {
        "id": "iaWQm2OZwXra"
      },
      "source": [
        "LA_stages = [1, 2, 3, 4, 5, 6, 7, 8, 9,\n",
        "             10, 11, 12, 13, 14, 15, 16, 17,\n",
        "             20, 21, 23, 24, 25, 26, 27, 28, 29,\n",
        "             30, 32, 33, 34, 35, 36, 37, 38, 39,\n",
        "             40, 41, 42, 43, 44, 45, 46 ,47,\n",
        "             50, 54, 55, 56, 57, 58,\n",
        "             62, 63, 64, 65, 66, 67]\n",
        "\n",
        "MA_stages = [31, 48, 49, 51, 52, 53, 59, 60, 61]"
      ],
      "execution_count": 115,
      "outputs": []
    },
    {
      "cell_type": "code",
      "metadata": {
        "colab": {
          "base_uri": "https://localhost:8080/"
        },
        "id": "D1wzg9Em1HQO",
        "outputId": "b036e43c-ff61-4f98-cf4c-46b7a1b4e79c"
      },
      "source": [
        "all_0 = read_file(f\"{allDirectory}/all_0.csv\")"
      ],
      "execution_count": 116,
      "outputs": [
        {
          "output_type": "stream",
          "name": "stdout",
          "text": [
            "Read All_Utterances/all_0.csv and created a DataFrame\n"
          ]
        }
      ]
    },
    {
      "cell_type": "code",
      "metadata": {
        "colab": {
          "base_uri": "https://localhost:8080/",
          "height": 174
        },
        "id": "Sh5-tz2Be-y8",
        "outputId": "a44428a4-5940-4412-9405-f73dbe1e12a2"
      },
      "source": [
        "all_0.describe()"
      ],
      "execution_count": 117,
      "outputs": [
        {
          "output_type": "execute_result",
          "data": {
            "text/html": [
              "<div>\n",
              "<style scoped>\n",
              "    .dataframe tbody tr th:only-of-type {\n",
              "        vertical-align: middle;\n",
              "    }\n",
              "\n",
              "    .dataframe tbody tr th {\n",
              "        vertical-align: top;\n",
              "    }\n",
              "\n",
              "    .dataframe thead th {\n",
              "        text-align: right;\n",
              "    }\n",
              "</style>\n",
              "<table border=\"1\" class=\"dataframe\">\n",
              "  <thead>\n",
              "    <tr style=\"text-align: right;\">\n",
              "      <th></th>\n",
              "      <th>utterance_id</th>\n",
              "      <th>speaker_id</th>\n",
              "      <th>utterance</th>\n",
              "      <th>gender</th>\n",
              "    </tr>\n",
              "  </thead>\n",
              "  <tbody>\n",
              "    <tr>\n",
              "      <th>count</th>\n",
              "      <td>178409</td>\n",
              "      <td>178409</td>\n",
              "      <td>178409</td>\n",
              "      <td>178409</td>\n",
              "    </tr>\n",
              "    <tr>\n",
              "      <th>unique</th>\n",
              "      <td>178409</td>\n",
              "      <td>478</td>\n",
              "      <td>98435</td>\n",
              "      <td>2</td>\n",
              "    </tr>\n",
              "    <tr>\n",
              "      <th>top</th>\n",
              "      <td>66a2912a84</td>\n",
              "      <td>0b586</td>\n",
              "      <td>ජය වේවා</td>\n",
              "      <td>f</td>\n",
              "    </tr>\n",
              "    <tr>\n",
              "      <th>freq</th>\n",
              "      <td>1</td>\n",
              "      <td>798</td>\n",
              "      <td>16</td>\n",
              "      <td>96724</td>\n",
              "    </tr>\n",
              "  </tbody>\n",
              "</table>\n",
              "</div>"
            ],
            "text/plain": [
              "       utterance_id speaker_id utterance  gender\n",
              "count        178409     178409    178409  178409\n",
              "unique       178409        478     98435       2\n",
              "top      66a2912a84      0b586   ජය වේවා       f\n",
              "freq              1        798        16   96724"
            ]
          },
          "metadata": {},
          "execution_count": 117
        }
      ]
    },
    {
      "cell_type": "code",
      "metadata": {
        "colab": {
          "base_uri": "https://localhost:8080/"
        },
        "id": "JqVVdODH1IEn",
        "outputId": "79100073-44ca-4abf-cb61-9c57136572ff"
      },
      "source": [
        "print(\"Applying Common modifications\")\n",
        "print(\"======================================\")\n",
        "\n",
        "names = ['disura', 'nilmani']\n",
        "\n",
        "for n in names:\n",
        "  all_0 = correction_apply_common_modifications(n, all_0)\n",
        "  print(\"======================================\")\n",
        "\n",
        "write_to_csv('all_0_common_modified', all_0, allDirectory)"
      ],
      "execution_count": 118,
      "outputs": [
        {
          "output_type": "stream",
          "name": "stdout",
          "text": [
            "Applying Common modifications\n",
            "======================================\n",
            "Read common_modifications_disura.csv and created a DataFrame\n",
            "Applied 132 corrections in Stage 0.\n",
            "Applied 132 common modifications.\n",
            "======================================\n",
            "Read common_modifications_nilmani.csv and created a DataFrame\n",
            "Applied 15 corrections in Stage 0.\n",
            "Applied 15 common modifications.\n",
            "======================================\n"
          ]
        }
      ]
    },
    {
      "cell_type": "code",
      "metadata": {
        "id": "mndc7JHUz5wx"
      },
      "source": [
        "all_objects = []\n",
        "all_objects.append(all_0)\n",
        "i = 0\n",
        "\n",
        "INITIALIZED = False"
      ],
      "execution_count": 120,
      "outputs": []
    },
    {
      "cell_type": "code",
      "metadata": {
        "colab": {
          "base_uri": "https://localhost:8080/"
        },
        "id": "-m-cmgII0Q1m",
        "outputId": "a063ebd7-20bc-45c1-eaf4-ee212f3aa646"
      },
      "source": [
        "print(\"Starting Less Ambiguous Corrections\")\n",
        "print(\"======================================\")\n",
        "\n",
        "for s in range(len(LA_stages)):\n",
        "  force_change_stage(LA_stages[s])\n",
        "  all_obj = correction_complete(all_objects[i])\n",
        "  all_objects.append(all_obj)\n",
        "  i += 1\n",
        "  print(\"======================================\")\n"
      ],
      "execution_count": 121,
      "outputs": [
        {
          "output_type": "stream",
          "name": "stdout",
          "text": [
            "Starting Less Ambiguous Corrections\n",
            "======================================\n",
            "Read Corrected/corrected_1.csv and created a DataFrame\n",
            "Applied 1 corrections in Stage 1.\n",
            "STAGE 1 COMPLETE! Utterance Count=178409\n",
            "======================================\n",
            "Read Corrected/corrected_2.csv and created a DataFrame\n",
            "Applied 2 corrections in Stage 2.\n",
            "STAGE 2 COMPLETE! Utterance Count=178409\n",
            "======================================\n",
            "Read Corrected/corrected_3.csv and created a DataFrame\n",
            "Applied 1 corrections in Stage 3.\n",
            "STAGE 3 COMPLETE! Utterance Count=178409\n",
            "======================================\n",
            "Read Corrected/corrected_4.csv and created a DataFrame\n",
            "Read To_Delete/toDelete_4.csv and created a DataFrame\n",
            "Deleted 2 utterances in Stage 4\n",
            "Applied 12 corrections in Stage 4.\n",
            "Read Doubt_Corrected/doubtCorrected_4.csv and created a DataFrame\n",
            "Applied 1 Doubt Corrections in Stage 4.\n",
            "STAGE 4 COMPLETE! Utterance Count=178407\n",
            "======================================\n",
            "Read Corrected/corrected_5.csv and created a DataFrame\n",
            "Read To_Delete/toDelete_5.csv and created a DataFrame\n",
            "Deleted 24 utterances in Stage 5\n",
            "Applied 82 corrections in Stage 5.\n",
            "Read Doubt_Corrected/doubtCorrected_5.csv and created a DataFrame\n",
            "Applied 15 Doubt Corrections in Stage 5.\n",
            "STAGE 5 COMPLETE! Utterance Count=178383\n",
            "======================================\n",
            "Read Corrected/corrected_6.csv and created a DataFrame\n",
            "Read To_Delete/toDelete_6.csv and created a DataFrame\n",
            "Deleted 11 utterances in Stage 6\n",
            "Applied 8 corrections in Stage 6.\n",
            "STAGE 6 COMPLETE! Utterance Count=178372\n",
            "======================================\n",
            "Read Corrected/corrected_7.csv and created a DataFrame\n",
            "Read To_Delete/toDelete_7.csv and created a DataFrame\n",
            "Deleted 36 utterances in Stage 7\n",
            "Applied 11 corrections in Stage 7.\n",
            "Read Doubt_Corrected/doubtCorrected_7.csv and created a DataFrame\n",
            "Applied 5 Doubt Corrections in Stage 7.\n",
            "STAGE 7 COMPLETE! Utterance Count=178336\n",
            "======================================\n",
            "Read Corrected/corrected_8.csv and created a DataFrame\n",
            "Read To_Delete/toDelete_8.csv and created a DataFrame\n",
            "Deleted 1 utterances in Stage 8\n",
            "Applied 2 corrections in Stage 8.\n",
            "Read Doubt_Corrected/doubtCorrected_8.csv and created a DataFrame\n",
            "Applied 2 Doubt Corrections in Stage 8.\n",
            "STAGE 8 COMPLETE! Utterance Count=178335\n",
            "======================================\n",
            "Read Corrected/corrected_9.csv and created a DataFrame\n",
            "Applied 4 corrections in Stage 9.\n",
            "Read Doubt_Corrected/doubtCorrected_9.csv and created a DataFrame\n",
            "Applied 2 Doubt Corrections in Stage 9.\n",
            "STAGE 9 COMPLETE! Utterance Count=178335\n",
            "======================================\n",
            "Read Corrected/corrected_10.csv and created a DataFrame\n",
            "Read To_Delete/toDelete_10.csv and created a DataFrame\n",
            "Deleted 4 utterances in Stage 10\n",
            "Applied 6 corrections in Stage 10.\n",
            "Read Doubt_Corrected/doubtCorrected_10.csv and created a DataFrame\n",
            "Applied 5 Doubt Corrections in Stage 10.\n",
            "STAGE 10 COMPLETE! Utterance Count=178331\n",
            "======================================\n",
            "Read Corrected/corrected_11.csv and created a DataFrame\n",
            "Read To_Delete/toDelete_11.csv and created a DataFrame\n",
            "Deleted 7 utterances in Stage 11\n",
            "Applied 157 corrections in Stage 11.\n",
            "Read Doubt_Corrected/doubtCorrected_11.csv and created a DataFrame\n",
            "Applied 2 Doubt Corrections in Stage 11.\n",
            "STAGE 11 COMPLETE! Utterance Count=178324\n",
            "======================================\n",
            "Read Corrected/corrected_12.csv and created a DataFrame\n",
            "Applied 30 corrections in Stage 12.\n",
            "STAGE 12 COMPLETE! Utterance Count=178324\n",
            "======================================\n",
            "Read Corrected/corrected_13.csv and created a DataFrame\n",
            "Read To_Delete/toDelete_13.csv and created a DataFrame\n",
            "Deleted 17 utterances in Stage 13\n",
            "Applied 52 corrections in Stage 13.\n",
            "STAGE 13 COMPLETE! Utterance Count=178307\n",
            "======================================\n",
            "Read Corrected/corrected_14.csv and created a DataFrame\n",
            "Applied 11 corrections in Stage 14.\n",
            "STAGE 14 COMPLETE! Utterance Count=178307\n",
            "======================================\n",
            "Read Corrected/corrected_15.csv and created a DataFrame\n",
            "Applied 492 corrections in Stage 15.\n",
            "STAGE 15 COMPLETE! Utterance Count=178307\n",
            "======================================\n",
            "Read Corrected/corrected_16.csv and created a DataFrame\n",
            "Read To_Delete/toDelete_16.csv and created a DataFrame\n",
            "Deleted 1 utterances in Stage 16\n",
            "Applied 27 corrections in Stage 16.\n",
            "STAGE 16 COMPLETE! Utterance Count=178306\n",
            "======================================\n",
            "Read Corrected/corrected_17.csv and created a DataFrame\n",
            "Applied 1 corrections in Stage 17.\n",
            "STAGE 17 COMPLETE! Utterance Count=178306\n",
            "======================================\n",
            "Read Corrected/corrected_20.csv and created a DataFrame\n",
            "Read To_Delete/toDelete_20.csv and created a DataFrame\n",
            "Deleted 28 utterances in Stage 20\n",
            "Applied 391 corrections in Stage 20.\n",
            "Read Doubt_Corrected/doubtCorrected_20.csv and created a DataFrame\n",
            "Applied 7 Doubt Corrections in Stage 20.\n",
            "STAGE 20 COMPLETE! Utterance Count=178278\n",
            "======================================\n",
            "Read Corrected/corrected_21.csv and created a DataFrame\n",
            "Applied 11 corrections in Stage 21.\n",
            "Read Doubt_Corrected/doubtCorrected_21.csv and created a DataFrame\n",
            "Applied 3 Doubt Corrections in Stage 21.\n",
            "STAGE 21 COMPLETE! Utterance Count=178278\n",
            "======================================\n",
            "Read Corrected/corrected_23.csv and created a DataFrame\n",
            "Applied 6 corrections in Stage 23.\n",
            "STAGE 23 COMPLETE! Utterance Count=178278\n",
            "======================================\n",
            "Read Corrected/corrected_24.csv and created a DataFrame\n",
            "Applied 8 corrections in Stage 24.\n",
            "STAGE 24 COMPLETE! Utterance Count=178278\n",
            "======================================\n",
            "Read Corrected/corrected_25.csv and created a DataFrame\n",
            "Applied 1 corrections in Stage 25.\n",
            "STAGE 25 COMPLETE! Utterance Count=178278\n",
            "======================================\n",
            "Read Corrected/corrected_26.csv and created a DataFrame\n",
            "Applied 1 corrections in Stage 26.\n",
            "STAGE 26 COMPLETE! Utterance Count=178278\n",
            "======================================\n",
            "Read Corrected/corrected_27.csv and created a DataFrame\n",
            "Read To_Delete/toDelete_27.csv and created a DataFrame\n",
            "Deleted 1 utterances in Stage 27\n",
            "Applied 0 corrections in Stage 27.\n",
            "STAGE 27 COMPLETE! Utterance Count=178277\n",
            "======================================\n",
            "Read Corrected/corrected_28.csv and created a DataFrame\n",
            "Applied 2 corrections in Stage 28.\n",
            "STAGE 28 COMPLETE! Utterance Count=178277\n",
            "======================================\n",
            "Read Corrected/corrected_29.csv and created a DataFrame\n",
            "Applied 8 corrections in Stage 29.\n",
            "STAGE 29 COMPLETE! Utterance Count=178277\n",
            "======================================\n",
            "Read Corrected/corrected_30.csv and created a DataFrame\n",
            "Applied 24 corrections in Stage 30.\n",
            "STAGE 30 COMPLETE! Utterance Count=178277\n",
            "======================================\n",
            "Read Corrected/corrected_32.csv and created a DataFrame\n",
            "Read To_Delete/toDelete_32.csv and created a DataFrame\n",
            "Deleted 1 utterances in Stage 32\n",
            "Applied 42 corrections in Stage 32.\n",
            "STAGE 32 COMPLETE! Utterance Count=178276\n",
            "======================================\n",
            "Read Corrected/corrected_33.csv and created a DataFrame\n",
            "Applied 106 corrections in Stage 33.\n",
            "STAGE 33 COMPLETE! Utterance Count=178276\n",
            "======================================\n",
            "Read Corrected/corrected_34.csv and created a DataFrame\n",
            "Applied 0 corrections in Stage 34.\n",
            "STAGE 34 COMPLETE! Utterance Count=178276\n",
            "======================================\n",
            "Read Corrected/corrected_35.csv and created a DataFrame\n",
            "Applied 57 corrections in Stage 35.\n",
            "STAGE 35 COMPLETE! Utterance Count=178276\n",
            "======================================\n",
            "Read Corrected/corrected_36.csv and created a DataFrame\n",
            "Read To_Delete/toDelete_36.csv and created a DataFrame\n",
            "Deleted 1 utterances in Stage 36\n",
            "Applied 48 corrections in Stage 36.\n",
            "STAGE 36 COMPLETE! Utterance Count=178275\n",
            "======================================\n",
            "Read Corrected/corrected_37.csv and created a DataFrame\n",
            "Applied 10 corrections in Stage 37.\n",
            "STAGE 37 COMPLETE! Utterance Count=178275\n",
            "======================================\n",
            "Read Corrected/corrected_38.csv and created a DataFrame\n",
            "Applied 1 corrections in Stage 38.\n",
            "STAGE 38 COMPLETE! Utterance Count=178275\n",
            "======================================\n",
            "Read Corrected/corrected_39.csv and created a DataFrame\n",
            "Read To_Delete/toDelete_39.csv and created a DataFrame\n",
            "Deleted 4 utterances in Stage 39\n",
            "Applied 49 corrections in Stage 39.\n",
            "STAGE 39 COMPLETE! Utterance Count=178271\n",
            "======================================\n",
            "Read Corrected/corrected_40.csv and created a DataFrame\n",
            "Applied 1 corrections in Stage 40.\n",
            "STAGE 40 COMPLETE! Utterance Count=178271\n",
            "======================================\n",
            "Read Corrected/corrected_41.csv and created a DataFrame\n",
            "Read To_Delete/toDelete_41.csv and created a DataFrame\n",
            "Deleted 1 utterances in Stage 41\n",
            "Applied 31 corrections in Stage 41.\n",
            "STAGE 41 COMPLETE! Utterance Count=178270\n",
            "======================================\n",
            "Read Corrected/corrected_42.csv and created a DataFrame\n",
            "Applied 5 corrections in Stage 42.\n",
            "STAGE 42 COMPLETE! Utterance Count=178270\n",
            "======================================\n",
            "Read Corrected/corrected_43.csv and created a DataFrame\n",
            "Applied 4 corrections in Stage 43.\n",
            "STAGE 43 COMPLETE! Utterance Count=178270\n",
            "======================================\n",
            "Read Corrected/corrected_44.csv and created a DataFrame\n",
            "Read To_Delete/toDelete_44.csv and created a DataFrame\n",
            "Deleted 1 utterances in Stage 44\n",
            "Applied 13 corrections in Stage 44.\n",
            "STAGE 44 COMPLETE! Utterance Count=178269\n",
            "======================================\n",
            "Read Corrected/corrected_45.csv and created a DataFrame\n",
            "Read To_Delete/toDelete_45.csv and created a DataFrame\n",
            "Deleted 1 utterances in Stage 45\n",
            "Applied 22 corrections in Stage 45.\n",
            "STAGE 45 COMPLETE! Utterance Count=178268\n",
            "======================================\n",
            "Read Corrected/corrected_46.csv and created a DataFrame\n",
            "Applied 1 corrections in Stage 46.\n",
            "STAGE 46 COMPLETE! Utterance Count=178268\n",
            "======================================\n",
            "Read Corrected/corrected_47.csv and created a DataFrame\n",
            "Applied 7 corrections in Stage 47.\n",
            "STAGE 47 COMPLETE! Utterance Count=178268\n",
            "======================================\n",
            "Read Corrected/corrected_50.csv and created a DataFrame\n",
            "Applied 51 corrections in Stage 50.\n",
            "STAGE 50 COMPLETE! Utterance Count=178268\n",
            "======================================\n",
            "Read Corrected/corrected_54.csv and created a DataFrame\n",
            "Applied 224 corrections in Stage 54.\n",
            "Read Doubt_Corrected/doubtCorrected_54.csv and created a DataFrame\n",
            "Applied 4 Doubt Corrections in Stage 54.\n",
            "STAGE 54 COMPLETE! Utterance Count=178268\n",
            "======================================\n",
            "Read Corrected/corrected_55.csv and created a DataFrame\n",
            "Applied 261 corrections in Stage 55.\n",
            "Read Doubt_Corrected/doubtCorrected_55.csv and created a DataFrame\n",
            "Applied 1 Doubt Corrections in Stage 55.\n",
            "STAGE 55 COMPLETE! Utterance Count=178268\n",
            "======================================\n",
            "Read Corrected/corrected_56.csv and created a DataFrame\n",
            "Applied 252 corrections in Stage 56.\n",
            "STAGE 56 COMPLETE! Utterance Count=178268\n",
            "======================================\n",
            "Read Corrected/corrected_57.csv and created a DataFrame\n",
            "Read To_Delete/toDelete_57.csv and created a DataFrame\n",
            "Deleted 8 utterances in Stage 57\n",
            "Applied 135 corrections in Stage 57.\n",
            "STAGE 57 COMPLETE! Utterance Count=178260\n",
            "======================================\n",
            "Read Corrected/corrected_58.csv and created a DataFrame\n",
            "Applied 37 corrections in Stage 58.\n",
            "STAGE 58 COMPLETE! Utterance Count=178260\n",
            "======================================\n",
            "Read Corrected/corrected_62.csv and created a DataFrame\n",
            "Applied 66 corrections in Stage 62.\n",
            "STAGE 62 COMPLETE! Utterance Count=178260\n",
            "======================================\n",
            "Read Corrected/corrected_63.csv and created a DataFrame\n",
            "Applied 51 corrections in Stage 63.\n",
            "STAGE 63 COMPLETE! Utterance Count=178260\n",
            "======================================\n",
            "Read Corrected/corrected_64.csv and created a DataFrame\n",
            "Applied 25 corrections in Stage 64.\n",
            "STAGE 64 COMPLETE! Utterance Count=178260\n",
            "======================================\n",
            "Read Corrected/corrected_65.csv and created a DataFrame\n",
            "Applied 29 corrections in Stage 65.\n",
            "STAGE 65 COMPLETE! Utterance Count=178260\n",
            "======================================\n",
            "Read Corrected/corrected_66.csv and created a DataFrame\n",
            "Applied 13 corrections in Stage 66.\n",
            "STAGE 66 COMPLETE! Utterance Count=178260\n",
            "======================================\n",
            "Read Corrected/corrected_67.csv and created a DataFrame\n",
            "Applied 16 corrections in Stage 67.\n",
            "STAGE 67 COMPLETE! Utterance Count=178260\n",
            "======================================\n"
          ]
        }
      ]
    },
    {
      "cell_type": "code",
      "metadata": {
        "id": "xpMXYR2weHkV"
      },
      "source": [
        "all_lessAmb = all_objects[-1]\n",
        "\n",
        "write_to_csv('all_less_ambiguous', all_lessAmb, allDirectory)"
      ],
      "execution_count": 122,
      "outputs": []
    },
    {
      "cell_type": "code",
      "metadata": {
        "id": "-0yIKCYVekDA"
      },
      "source": [
        "all_objects = []\n",
        "all_objects.append(all_lessAmb)\n",
        "i = 0\n",
        "\n",
        "INITIALIZED = False"
      ],
      "execution_count": 123,
      "outputs": []
    },
    {
      "cell_type": "code",
      "metadata": {
        "colab": {
          "base_uri": "https://localhost:8080/"
        },
        "id": "dVoz6ywceqtr",
        "outputId": "06df3d97-c844-42ed-895a-aeefff52c0c8"
      },
      "source": [
        "print(\"Starting More Ambiguous Corrections\")\n",
        "print(\"======================================\")\n",
        "\n",
        "for s in range(len(MA_stages)):\n",
        "  force_change_stage(MA_stages[s])\n",
        "  all_obj = correction_complete(all_objects[i])\n",
        "  all_objects.append(all_obj)\n",
        "  i += 1\n",
        "  print(\"======================================\")"
      ],
      "execution_count": 124,
      "outputs": [
        {
          "output_type": "stream",
          "name": "stdout",
          "text": [
            "Starting More Ambiguous Corrections\n",
            "======================================\n",
            "Read Corrected/corrected_31.csv and created a DataFrame\n",
            "Read To_Delete/toDelete_31.csv and created a DataFrame\n",
            "Deleted 96 utterances in Stage 31\n",
            "Applied 1519 corrections in Stage 31.\n",
            "Read Doubt_Corrected/doubtCorrected_31.csv and created a DataFrame\n",
            "Applied 11 Doubt Corrections in Stage 31.\n",
            "STAGE 31 COMPLETE! Utterance Count=178164\n",
            "======================================\n",
            "Read Corrected/corrected_48.csv and created a DataFrame\n",
            "Read To_Delete/toDelete_48.csv and created a DataFrame\n",
            "Deleted 24 utterances in Stage 48\n",
            "Applied 1476 corrections in Stage 48.\n",
            "Read Doubt_Corrected/doubtCorrected_48.csv and created a DataFrame\n",
            "Applied 2 Doubt Corrections in Stage 48.\n",
            "STAGE 48 COMPLETE! Utterance Count=178141\n",
            "======================================\n",
            "Read Corrected/corrected_49.csv and created a DataFrame\n",
            "Read To_Delete/toDelete_49.csv and created a DataFrame\n",
            "Deleted 3 utterances in Stage 49\n",
            "Applied 125 corrections in Stage 49.\n",
            "Read Doubt_Corrected/doubtCorrected_49.csv and created a DataFrame\n",
            "Applied 2 Doubt Corrections in Stage 49.\n",
            "STAGE 49 COMPLETE! Utterance Count=178138\n",
            "======================================\n",
            "Read Corrected/corrected_51.csv and created a DataFrame\n",
            "Read To_Delete/toDelete_51.csv and created a DataFrame\n",
            "Deleted 4 utterances in Stage 51\n",
            "Applied 2099 corrections in Stage 51.\n",
            "Read Doubt_Corrected/doubtCorrected_51.csv and created a DataFrame\n",
            "Applied 2 Doubt Corrections in Stage 51.\n",
            "STAGE 51 COMPLETE! Utterance Count=178134\n",
            "======================================\n",
            "Read Corrected/corrected_52.csv and created a DataFrame\n",
            "Read To_Delete/toDelete_52.csv and created a DataFrame\n",
            "Deleted 38 utterances in Stage 52\n",
            "Applied 941 corrections in Stage 52.\n",
            "Read Doubt_Corrected/doubtCorrected_52.csv and created a DataFrame\n",
            "Applied 4 Doubt Corrections in Stage 52.\n",
            "STAGE 52 COMPLETE! Utterance Count=178096\n",
            "======================================\n",
            "Read Corrected/corrected_53.csv and created a DataFrame\n",
            "Applied 13 corrections in Stage 53.\n",
            "STAGE 53 COMPLETE! Utterance Count=178096\n",
            "======================================\n",
            "Read Corrected/corrected_59.csv and created a DataFrame\n",
            "Applied 112 corrections in Stage 59.\n",
            "Read Doubt_Corrected/doubtCorrected_59.csv and created a DataFrame\n",
            "Applied 3 Doubt Corrections in Stage 59.\n",
            "STAGE 59 COMPLETE! Utterance Count=178096\n",
            "======================================\n",
            "Read Corrected/corrected_60.csv and created a DataFrame\n",
            "Applied 142 corrections in Stage 60.\n",
            "STAGE 60 COMPLETE! Utterance Count=178096\n",
            "======================================\n",
            "Read Corrected/corrected_61.csv and created a DataFrame\n",
            "Read To_Delete/toDelete_61.csv and created a DataFrame\n",
            "Deleted 1 utterances in Stage 61\n",
            "Applied 97 corrections in Stage 61.\n",
            "STAGE 61 COMPLETE! Utterance Count=178096\n",
            "======================================\n"
          ]
        }
      ]
    },
    {
      "cell_type": "code",
      "metadata": {
        "id": "RhG08-XTewWE"
      },
      "source": [
        "all_moreAmb = all_objects[-1]\n",
        "\n",
        "write_to_csv('all_more_ambiguous', all_moreAmb, allDirectory)"
      ],
      "execution_count": 125,
      "outputs": []
    }
  ]
}